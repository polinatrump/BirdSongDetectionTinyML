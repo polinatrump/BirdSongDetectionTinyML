{
 "cells": [
  {
   "cell_type": "code",
   "execution_count": 20,
   "metadata": {},
   "outputs": [
    {
     "name": "stdout",
     "output_type": "stream",
     "text": [
      "The autoreload extension is already loaded. To reload it, use:\n",
      "  %reload_ext autoreload\n"
     ]
    }
   ],
   "source": [
    "%load_ext autoreload\n",
    "%autoreload 2"
   ]
  },
  {
   "cell_type": "code",
   "execution_count": 54,
   "metadata": {},
   "outputs": [],
   "source": [
    "import tensorflow as tf\n",
    "import time\n",
    "import numpy as np\n",
    "# from tensorflow_model_optimization.python.core.keras.compat import keras\n",
    "from tensorflow import keras\n",
    "import matplotlib.pyplot as plt\n",
    "import random\n",
    "tf.random.set_seed(3407)\n",
    "np.random.seed(3407)\n",
    "random.seed(3407)\n",
    "\n",
    "from thesis.create_spectrogram import (\n",
    "    create_spectrograms_from_audio_dataset, \n",
    ")\n",
    "from thesis.helper_functions import (\n",
    "    evaluate_prediction,\n",
    "    get_file_size, \n",
    "    convert_bytes, \n",
    "    convert_prefetchdataset_to_numpy_arrays,\n",
    "    predict_and_print_full_results,\n",
    "    evaluate_time_of_prediction,\n",
    "    full_int_model_predict,\n",
    "    get_f1_scores_of_non_overlapping_partitions_full_int_q,\n",
    "    get_f1_scores_of_bootstraping_partitions_full_int_q,\n",
    "    find_decision_threshold\n",
    "    )"
   ]
  },
  {
   "cell_type": "code",
   "execution_count": 22,
   "metadata": {},
   "outputs": [],
   "source": [
    "sample_rate = 16000"
   ]
  },
  {
   "cell_type": "code",
   "execution_count": 23,
   "metadata": {},
   "outputs": [
    {
     "name": "stdout",
     "output_type": "stream",
     "text": [
      "Found 11292 files belonging to 2 classes.\n",
      "WARNING:tensorflow:Using a while_loop for converting IO>AudioResample cause there is no registered converter for this op.\n",
      "Found 1393 files belonging to 2 classes.\n",
      "WARNING:tensorflow:Using a while_loop for converting IO>AudioResample cause there is no registered converter for this op.\n",
      "Found 1380 files belonging to 2 classes.\n",
      "WARNING:tensorflow:Using a while_loop for converting IO>AudioResample cause there is no registered converter for this op.\n",
      "Classes:  ['non_target' 'target']\n"
     ]
    }
   ],
   "source": [
    "train_dataset = tf.keras.utils.audio_dataset_from_directory(\"dataset/training\", labels='inferred', sampling_rate=sample_rate, batch_size=32, shuffle=True, seed=3407)\n",
    "test_dataset = tf.keras.utils.audio_dataset_from_directory(\"dataset/testing\", labels='inferred', sampling_rate=sample_rate, batch_size=32, shuffle=True, seed=3407)\n",
    "val_dataset = tf.keras.utils.audio_dataset_from_directory(\"dataset/validation\", labels='inferred', sampling_rate=sample_rate, batch_size=32, shuffle=True, seed=3407)\n",
    "\n",
    "label_names = np.array(test_dataset.class_names)\n",
    "print(\"Classes: \", label_names)"
   ]
  },
  {
   "cell_type": "code",
   "execution_count": 24,
   "metadata": {},
   "outputs": [],
   "source": [
    "train_spectrogram_ds = create_spectrograms_from_audio_dataset(train_dataset, sample_rate = sample_rate).cache().prefetch(tf.data.AUTOTUNE)\n",
    "test_spectrogram_ds = create_spectrograms_from_audio_dataset(test_dataset, sample_rate = sample_rate).cache().prefetch(tf.data.AUTOTUNE)\n",
    "val_spectrogram_ds = create_spectrograms_from_audio_dataset(val_dataset, sample_rate = sample_rate).cache().prefetch(tf.data.AUTOTUNE)\n",
    "\n",
    "x_train_np, y_train_np = convert_prefetchdataset_to_numpy_arrays(train_spectrogram_ds)\n",
    "x_val_np, y_val_np = convert_prefetchdataset_to_numpy_arrays(val_spectrogram_ds)\n",
    "x_test_np, y_test_np = convert_prefetchdataset_to_numpy_arrays(test_spectrogram_ds)"
   ]
  },
  {
   "cell_type": "code",
   "execution_count": 25,
   "metadata": {},
   "outputs": [],
   "source": [
    "models_thresholds_and_metrics = {\"SqueezeNet-Mel\":{}}"
   ]
  },
  {
   "cell_type": "code",
   "execution_count": 26,
   "metadata": {},
   "outputs": [
    {
     "name": "stdout",
     "output_type": "stream",
     "text": [
      "Model: \"model\"\n",
      "__________________________________________________________________________________________________\n",
      " Layer (type)                Output Shape                 Param #   Connected to                  \n",
      "==================================================================================================\n",
      " input_1 (InputLayer)        [(None, 184, 80, 1)]         0         []                            \n",
      "                                                                                                  \n",
      " conv1 (Conv2D)              (None, 92, 40, 96)           4800      ['input_1[0][0]']             \n",
      "                                                                                                  \n",
      " maxpool1 (MaxPooling2D)     (None, 45, 19, 96)           0         ['conv1[0][0]']               \n",
      "                                                                                                  \n",
      " fire2_squeeze (Conv2D)      (None, 45, 19, 16)           1552      ['maxpool1[0][0]']            \n",
      "                                                                                                  \n",
      " fire2_expand_1x1 (Conv2D)   (None, 45, 19, 64)           1088      ['fire2_squeeze[0][0]']       \n",
      "                                                                                                  \n",
      " fire2_expand_3x3 (Conv2D)   (None, 45, 19, 64)           9280      ['fire2_squeeze[0][0]']       \n",
      "                                                                                                  \n",
      " fire2_concatenate (Concate  (None, 45, 19, 128)          0         ['fire2_expand_1x1[0][0]',    \n",
      " nate)                                                               'fire2_expand_3x3[0][0]']    \n",
      "                                                                                                  \n",
      " fire3_squeeze (Conv2D)      (None, 45, 19, 16)           2064      ['fire2_concatenate[0][0]']   \n",
      "                                                                                                  \n",
      " fire3_expand_1x1 (Conv2D)   (None, 45, 19, 64)           1088      ['fire3_squeeze[0][0]']       \n",
      "                                                                                                  \n",
      " fire3_expand_3x3 (Conv2D)   (None, 45, 19, 64)           9280      ['fire3_squeeze[0][0]']       \n",
      "                                                                                                  \n",
      " fire3_concatenate (Concate  (None, 45, 19, 128)          0         ['fire3_expand_1x1[0][0]',    \n",
      " nate)                                                               'fire3_expand_3x3[0][0]']    \n",
      "                                                                                                  \n",
      " fire4_squeeze (Conv2D)      (None, 45, 19, 32)           4128      ['fire3_concatenate[0][0]']   \n",
      "                                                                                                  \n",
      " fire4_expand_1x1 (Conv2D)   (None, 45, 19, 128)          4224      ['fire4_squeeze[0][0]']       \n",
      "                                                                                                  \n",
      " fire4_expand_3x3 (Conv2D)   (None, 45, 19, 128)          36992     ['fire4_squeeze[0][0]']       \n",
      "                                                                                                  \n",
      " fire4_concatenate (Concate  (None, 45, 19, 256)          0         ['fire4_expand_1x1[0][0]',    \n",
      " nate)                                                               'fire4_expand_3x3[0][0]']    \n",
      "                                                                                                  \n",
      " maxpool4 (MaxPooling2D)     (None, 22, 9, 256)           0         ['fire4_concatenate[0][0]']   \n",
      "                                                                                                  \n",
      " fire5_squeeze (Conv2D)      (None, 22, 9, 32)            8224      ['maxpool4[0][0]']            \n",
      "                                                                                                  \n",
      " fire5_expand_1x1 (Conv2D)   (None, 22, 9, 128)           4224      ['fire5_squeeze[0][0]']       \n",
      "                                                                                                  \n",
      " fire5_expand_3x3 (Conv2D)   (None, 22, 9, 128)           36992     ['fire5_squeeze[0][0]']       \n",
      "                                                                                                  \n",
      " fire5_concatenate (Concate  (None, 22, 9, 256)           0         ['fire5_expand_1x1[0][0]',    \n",
      " nate)                                                               'fire5_expand_3x3[0][0]']    \n",
      "                                                                                                  \n",
      " fire6_squeeze (Conv2D)      (None, 22, 9, 48)            12336     ['fire5_concatenate[0][0]']   \n",
      "                                                                                                  \n",
      " fire6_expand_1x1 (Conv2D)   (None, 22, 9, 192)           9408      ['fire6_squeeze[0][0]']       \n",
      "                                                                                                  \n",
      " fire6_expand_3x3 (Conv2D)   (None, 22, 9, 192)           83136     ['fire6_squeeze[0][0]']       \n",
      "                                                                                                  \n",
      " fire6_concatenate (Concate  (None, 22, 9, 384)           0         ['fire6_expand_1x1[0][0]',    \n",
      " nate)                                                               'fire6_expand_3x3[0][0]']    \n",
      "                                                                                                  \n",
      " fire7_squeeze (Conv2D)      (None, 22, 9, 48)            18480     ['fire6_concatenate[0][0]']   \n",
      "                                                                                                  \n",
      " fire7_expand_1x1 (Conv2D)   (None, 22, 9, 192)           9408      ['fire7_squeeze[0][0]']       \n",
      "                                                                                                  \n",
      " fire7_expand_3x3 (Conv2D)   (None, 22, 9, 192)           83136     ['fire7_squeeze[0][0]']       \n",
      "                                                                                                  \n",
      " fire7_concatenate (Concate  (None, 22, 9, 384)           0         ['fire7_expand_1x1[0][0]',    \n",
      " nate)                                                               'fire7_expand_3x3[0][0]']    \n",
      "                                                                                                  \n",
      " fire8_squeeze (Conv2D)      (None, 22, 9, 64)            24640     ['fire7_concatenate[0][0]']   \n",
      "                                                                                                  \n",
      " fire8_expand_1x1 (Conv2D)   (None, 22, 9, 256)           16640     ['fire8_squeeze[0][0]']       \n",
      "                                                                                                  \n",
      " fire8_expand_3x3 (Conv2D)   (None, 22, 9, 256)           147712    ['fire8_squeeze[0][0]']       \n",
      "                                                                                                  \n",
      " fire8_concatenate (Concate  (None, 22, 9, 512)           0         ['fire8_expand_1x1[0][0]',    \n",
      " nate)                                                               'fire8_expand_3x3[0][0]']    \n",
      "                                                                                                  \n",
      " maxpool8 (MaxPooling2D)     (None, 10, 4, 512)           0         ['fire8_concatenate[0][0]']   \n",
      "                                                                                                  \n",
      " fire9_squeeze (Conv2D)      (None, 10, 4, 64)            32832     ['maxpool8[0][0]']            \n",
      "                                                                                                  \n",
      " fire9_expand_1x1 (Conv2D)   (None, 10, 4, 256)           16640     ['fire9_squeeze[0][0]']       \n",
      "                                                                                                  \n",
      " fire9_expand_3x3 (Conv2D)   (None, 10, 4, 256)           147712    ['fire9_squeeze[0][0]']       \n",
      "                                                                                                  \n",
      " fire9_concatenate (Concate  (None, 10, 4, 512)           0         ['fire9_expand_1x1[0][0]',    \n",
      " nate)                                                               'fire9_expand_3x3[0][0]']    \n",
      "                                                                                                  \n",
      " conv10 (Conv2D)             (None, 10, 4, 2)             1026      ['fire9_concatenate[0][0]']   \n",
      "                                                                                                  \n",
      " avgpool10 (GlobalAveragePo  (None, 2)                    0         ['conv10[0][0]']              \n",
      " oling2D)                                                                                         \n",
      "                                                                                                  \n",
      " softmax (Activation)        (None, 2)                    0         ['avgpool10[0][0]']           \n",
      "                                                                                                  \n",
      "==================================================================================================\n",
      "Total params: 727042 (2.77 MB)\n",
      "Trainable params: 727042 (2.77 MB)\n",
      "Non-trainable params: 0 (0.00 Byte)\n",
      "__________________________________________________________________________________________________\n",
      "File size: 8687.448 Kilobytes\n"
     ]
    }
   ],
   "source": [
    "BASE_MODEL_FILE_NAME = \"spectrogram_models_from_notebooks/squeezenet/squeezenet_spec_16kHz_baseline.keras\"\n",
    "baseline_model = keras.models.load_model(BASE_MODEL_FILE_NAME)\n",
    "baseline_model.summary()\n",
    "convert_bytes(get_file_size(BASE_MODEL_FILE_NAME), \"KB\")"
   ]
  },
  {
   "cell_type": "code",
   "execution_count": 30,
   "metadata": {},
   "outputs": [
    {
     "name": "stdout",
     "output_type": "stream",
     "text": [
      "\n",
      "Test dataset:\n",
      "44/44 [==============================] - 3s 69ms/step\n",
      "Basic assessment of the whole dataset (without any partitions):\n",
      "Optimal threshold:  0.7348694\n",
      "Accuracy: 99.20%\n",
      "Recall: 99.36%\n",
      "Precision: 98.32%\n",
      "F1-score: 98.84%\n",
      "F2-score: 99.19%\n",
      "44/44 [==============================] - 3s 64ms/step\n",
      "Basic assessment of the whole dataset (without any partitions):\n",
      "Optimal threshold:  0.7348694\n",
      "Accuracy: 98.56%\n",
      "Recall: 99.34%\n",
      "Precision: 96.40%\n",
      "F1-score: 97.85%\n",
      "F2-score: 98.61%\n"
     ]
    }
   ],
   "source": [
    "print(\"\\nTest dataset:\")\n",
    "(\n",
    "    threshold,\n",
    "    y_pred_val,\n",
    "    _, \n",
    "    # non_overlap_patritions_f1_scores_test, \n",
    "    # bootstrap_patritions_f1_scores_test,\n",
    ") = predict_and_print_full_results(baseline_model, x_val_np, y_val_np, model_format=\"keras\")\n",
    "\n",
    "(\n",
    "    _,\n",
    "    y_pred_test,\n",
    "    metrics_dict, \n",
    "    # non_overlap_patritions_f1_scores_test, \n",
    "    # bootstrap_patritions_f1_scores_test,\n",
    ") = predict_and_print_full_results(baseline_model, x_test_np, y_test_np, model_format=\"keras\", threshold=threshold)"
   ]
  },
  {
   "cell_type": "code",
   "execution_count": 31,
   "metadata": {},
   "outputs": [
    {
     "data": {
      "text/plain": [
       "{'SqueezeNet-Mel': {'baseline': {'threshold': '0.7348694',\n",
       "   'accuracy': 0.99,\n",
       "   'recall': 0.99,\n",
       "   'precision': 0.96,\n",
       "   'f1-score': 0.98,\n",
       "   'f2-score': 0.99}}}"
      ]
     },
     "execution_count": 31,
     "metadata": {},
     "output_type": "execute_result"
    }
   ],
   "source": [
    "models_thresholds_and_metrics[\"SqueezeNet-Mel\"][\"baseline\"] = {\"threshold\": str(threshold), **metrics_dict}\n",
    "models_thresholds_and_metrics"
   ]
  },
  {
   "cell_type": "markdown",
   "metadata": {},
   "source": [
    "### Convert to TF Lite format"
   ]
  },
  {
   "cell_type": "code",
   "execution_count": 32,
   "metadata": {},
   "outputs": [
    {
     "name": "stdout",
     "output_type": "stream",
     "text": [
      "INFO:tensorflow:Assets written to: /tmp/tmp3qw_c4q3/assets\n"
     ]
    },
    {
     "name": "stderr",
     "output_type": "stream",
     "text": [
      "INFO:tensorflow:Assets written to: /tmp/tmp3qw_c4q3/assets\n",
      "2024-08-27 20:48:22.434636: W tensorflow/compiler/mlir/lite/python/tf_tfl_flatbuffer_helpers.cc:378] Ignored output_format.\n",
      "2024-08-27 20:48:22.434692: W tensorflow/compiler/mlir/lite/python/tf_tfl_flatbuffer_helpers.cc:381] Ignored drop_control_dependency.\n",
      "2024-08-27 20:48:22.434861: I tensorflow/cc/saved_model/reader.cc:83] Reading SavedModel from: /tmp/tmp3qw_c4q3\n",
      "2024-08-27 20:48:22.439684: I tensorflow/cc/saved_model/reader.cc:51] Reading meta graph with tags { serve }\n",
      "2024-08-27 20:48:22.439728: I tensorflow/cc/saved_model/reader.cc:146] Reading SavedModel debug info (if present) from: /tmp/tmp3qw_c4q3\n",
      "2024-08-27 20:48:22.456246: I tensorflow/cc/saved_model/loader.cc:233] Restoring SavedModel bundle.\n",
      "2024-08-27 20:48:22.657192: I tensorflow/cc/saved_model/loader.cc:217] Running initialization op on SavedModel bundle at path: /tmp/tmp3qw_c4q3\n",
      "2024-08-27 20:48:22.751969: I tensorflow/cc/saved_model/loader.cc:316] SavedModel load for tags { serve }; Status: success: OK. Took 317087 microseconds.\n",
      "Summary on the non-converted ops:\n",
      "---------------------------------\n",
      " * Accepted dialects: tfl, builtin, func\n",
      " * Non-Converted Ops: 53, Total Ops 95, % non-converted = 55.79 %\n",
      " * 53 ARITH ops\n",
      "\n",
      "- arith.constant:   53 occurrences  (f32: 52, i32: 1)\n",
      "\n",
      "\n",
      "\n",
      "  (f32: 8)\n",
      "  (f32: 26)\n",
      "  (f32: 3)\n",
      "  (f32: 1)\n",
      "  (f32: 1)\n"
     ]
    }
   ],
   "source": [
    "converter = tf.lite.TFLiteConverter.from_keras_model(baseline_model)\n",
    "tflite_model = converter.convert()"
   ]
  },
  {
   "cell_type": "code",
   "execution_count": 38,
   "metadata": {},
   "outputs": [
    {
     "name": "stdout",
     "output_type": "stream",
     "text": [
      "Validation dataset:\n",
      "Basic assessment of the whole dataset (without any partitions):\n",
      "Optimal threshold:  0.7348694\n",
      "Accuracy: 99.20%\n",
      "Recall: 99.36%\n",
      "Precision: 98.32%\n",
      "F1-score: 98.84%\n",
      "F2-score: 99.19%\n",
      "\n",
      "Test dataset:\n",
      "Basic assessment of the whole dataset (without any partitions):\n",
      "Optimal threshold:  0.7348694\n",
      "Accuracy: 98.56%\n",
      "Recall: 99.34%\n",
      "Precision: 96.40%\n",
      "F1-score: 97.85%\n",
      "F2-score: 98.61%\n",
      "\n",
      "Time for Test dataset:\n",
      "\n",
      "Time to make a prediction for a single data point\n",
      "Mean: 0.007 seconds\n",
      "Max: 0.013 seconds\n",
      "Min: 0.006 seconds\n",
      "\n",
      "\n",
      "Model file name:  spectrogram_models_from_notebooks/squeezenet/squeezenet_spec_16kHz.tflite\n",
      "File size: 2.789 Megabytes\n"
     ]
    }
   ],
   "source": [
    "print(\"Validation dataset:\")\n",
    "(\n",
    "    threshold,\n",
    "    y_pred_val,\n",
    "    _, \n",
    "    ) = predict_and_print_full_results(tflite_model, x_val_np, y_val_np, model_format=\"tf_lite\")\n",
    "\n",
    "print(\"\\nTest dataset:\")\n",
    "(\n",
    "    _,\n",
    "    y_pred_test,\n",
    "    metrics_dict, \n",
    "    ) = predict_and_print_full_results(tflite_model, x_test_np, y_test_np, model_format=\"tf_lite\", threshold=threshold)\n",
    "\n",
    "print(\"\\nTime for Test dataset:\")\n",
    "evaluate_time_of_prediction(tflite_model, x_test_np, y_test_np, model_format=\"tf_lite\")\n",
    "\n",
    "TF_LITE_MODEL_FILE_NAME = \"spectrogram_models_from_notebooks/squeezenet/squeezenet_spec_16kHz.tflite\"\n",
    "open(TF_LITE_MODEL_FILE_NAME, \"wb\").write(tflite_model)\n",
    "print(\"\\n\")\n",
    "print(\"Model file name: \", TF_LITE_MODEL_FILE_NAME)\n",
    "convert_bytes(get_file_size(TF_LITE_MODEL_FILE_NAME), \"MB\")"
   ]
  },
  {
   "cell_type": "code",
   "execution_count": 39,
   "metadata": {},
   "outputs": [
    {
     "data": {
      "text/plain": [
       "{'SqueezeNet-Mel': {'baseline': {'threshold': '0.7348694',\n",
       "   'accuracy': 0.99,\n",
       "   'recall': 0.99,\n",
       "   'precision': 0.96,\n",
       "   'f1-score': 0.98,\n",
       "   'f2-score': 0.99},\n",
       "  'tflite': {'threshold': '0.7348694',\n",
       "   'accuracy': 0.99,\n",
       "   'recall': 0.99,\n",
       "   'precision': 0.96,\n",
       "   'f1-score': 0.98,\n",
       "   'f2-score': 0.99}}}"
      ]
     },
     "execution_count": 39,
     "metadata": {},
     "output_type": "execute_result"
    }
   ],
   "source": [
    "models_thresholds_and_metrics[\"SqueezeNet-Mel\"][\"tflite\"] = {\"threshold\": str(threshold), **metrics_dict}\n",
    "models_thresholds_and_metrics"
   ]
  },
  {
   "cell_type": "code",
   "execution_count": 40,
   "metadata": {},
   "outputs": [
    {
     "name": "stdout",
     "output_type": "stream",
     "text": [
      "File size: 2856.07 Kilobytes\n"
     ]
    }
   ],
   "source": [
    "convert_bytes(get_file_size(TF_LITE_MODEL_FILE_NAME), \"KB\")"
   ]
  },
  {
   "cell_type": "markdown",
   "metadata": {},
   "source": [
    "### Dynamic range quantization"
   ]
  },
  {
   "cell_type": "code",
   "execution_count": 41,
   "metadata": {},
   "outputs": [
    {
     "name": "stdout",
     "output_type": "stream",
     "text": [
      "INFO:tensorflow:Assets written to: /tmp/tmpfk1w_euq/assets\n"
     ]
    },
    {
     "name": "stderr",
     "output_type": "stream",
     "text": [
      "INFO:tensorflow:Assets written to: /tmp/tmpfk1w_euq/assets\n",
      "2024-08-27 20:51:56.250149: W tensorflow/compiler/mlir/lite/python/tf_tfl_flatbuffer_helpers.cc:378] Ignored output_format.\n",
      "2024-08-27 20:51:56.250198: W tensorflow/compiler/mlir/lite/python/tf_tfl_flatbuffer_helpers.cc:381] Ignored drop_control_dependency.\n",
      "2024-08-27 20:51:56.250359: I tensorflow/cc/saved_model/reader.cc:83] Reading SavedModel from: /tmp/tmpfk1w_euq\n",
      "2024-08-27 20:51:56.254625: I tensorflow/cc/saved_model/reader.cc:51] Reading meta graph with tags { serve }\n",
      "2024-08-27 20:51:56.254639: I tensorflow/cc/saved_model/reader.cc:146] Reading SavedModel debug info (if present) from: /tmp/tmpfk1w_euq\n",
      "2024-08-27 20:51:56.267644: I tensorflow/cc/saved_model/loader.cc:233] Restoring SavedModel bundle.\n",
      "2024-08-27 20:51:56.451109: I tensorflow/cc/saved_model/loader.cc:217] Running initialization op on SavedModel bundle at path: /tmp/tmpfk1w_euq\n",
      "2024-08-27 20:51:56.502602: I tensorflow/cc/saved_model/loader.cc:316] SavedModel load for tags { serve }; Status: success: OK. Took 252244 microseconds.\n",
      "Summary on the non-converted ops:\n",
      "---------------------------------\n",
      " * Accepted dialects: tfl, builtin, func\n",
      " * Non-Converted Ops: 27, Total Ops 95, % non-converted = 28.42 %\n",
      " * 27 ARITH ops\n",
      "\n",
      "- arith.constant:   27 occurrences  (f32: 26, i32: 1)\n",
      "\n",
      "\n",
      "\n",
      "  (f32: 8)\n",
      "  (f32: 26)\n",
      "  (f32: 3)\n",
      "  (f32: 1)\n",
      "  (uq_8: 26)\n",
      "  (f32: 1)\n"
     ]
    }
   ],
   "source": [
    "dynamic_range_quant_converter = tf.lite.TFLiteConverter.from_keras_model(baseline_model)\n",
    "dynamic_range_quant_converter.optimizations = [tf.lite.Optimize.DEFAULT]\n",
    "dynamic_range_quant_model = dynamic_range_quant_converter.convert()"
   ]
  },
  {
   "cell_type": "code",
   "execution_count": 42,
   "metadata": {},
   "outputs": [
    {
     "name": "stdout",
     "output_type": "stream",
     "text": [
      "Validation dataset:\n",
      "Basic assessment of the whole dataset (without any partitions):\n",
      "Optimal threshold:  0.7340945\n",
      "Accuracy: 99.20%\n",
      "Recall: 99.36%\n",
      "Precision: 98.32%\n",
      "F1-score: 98.84%\n",
      "F2-score: 99.19%\n",
      "\n",
      "Test dataset:\n",
      "Basic assessment of the whole dataset (without any partitions):\n",
      "Optimal threshold:  0.7340945\n",
      "Accuracy: 98.56%\n",
      "Recall: 99.34%\n",
      "Precision: 96.40%\n",
      "F1-score: 97.85%\n",
      "F2-score: 98.61%\n",
      "\n",
      "Time for Test dataset:\n",
      "\n",
      "Time to make a prediction for a single data point\n",
      "Mean: 0.01 seconds\n",
      "Max: 0.015 seconds\n",
      "Min: 0.009 seconds\n",
      "\n",
      "\n",
      "Model file name:  spectrogram_models_from_notebooks/squeezenet/squeezenet_spec_16kHz_drq.tflite\n",
      "File size: 770.258 Kilobytes\n"
     ]
    }
   ],
   "source": [
    "print(\"Validation dataset:\")\n",
    "(\n",
    "    threshold,\n",
    "    y_pred_val,\n",
    "    _, \n",
    "    ) = predict_and_print_full_results(dynamic_range_quant_model, x_val_np, y_val_np, model_format=\"tf_lite\")\n",
    "\n",
    "print(\"\\nTest dataset:\")\n",
    "(\n",
    "    _,\n",
    "    y_pred_test,\n",
    "    metrics_dict, \n",
    "    ) = predict_and_print_full_results(dynamic_range_quant_model, x_test_np, y_test_np, model_format=\"tf_lite\", threshold=threshold)\n",
    "\n",
    "print(\"\\nTime for Test dataset:\")\n",
    "evaluate_time_of_prediction(dynamic_range_quant_model, x_test_np, y_test_np, model_format=\"tf_lite\")\n",
    "\n",
    "DRQ_MODEL_FILE_NAME = \"spectrogram_models_from_notebooks/squeezenet/squeezenet_spec_16kHz_drq.tflite\"\n",
    "open(DRQ_MODEL_FILE_NAME, \"wb\").write(dynamic_range_quant_model)\n",
    "print(\"\\n\")\n",
    "print(\"Model file name: \", DRQ_MODEL_FILE_NAME)\n",
    "convert_bytes(get_file_size(DRQ_MODEL_FILE_NAME), \"KB\")"
   ]
  },
  {
   "cell_type": "code",
   "execution_count": 43,
   "metadata": {},
   "outputs": [
    {
     "data": {
      "text/plain": [
       "{'SqueezeNet-Mel': {'baseline': {'threshold': '0.7348694',\n",
       "   'accuracy': 0.99,\n",
       "   'recall': 0.99,\n",
       "   'precision': 0.96,\n",
       "   'f1-score': 0.98,\n",
       "   'f2-score': 0.99},\n",
       "  'tflite': {'threshold': '0.7348694',\n",
       "   'accuracy': 0.99,\n",
       "   'recall': 0.99,\n",
       "   'precision': 0.96,\n",
       "   'f1-score': 0.98,\n",
       "   'f2-score': 0.99},\n",
       "  'DRQ': {'threshold': '0.7340945',\n",
       "   'accuracy': 0.99,\n",
       "   'recall': 0.99,\n",
       "   'precision': 0.96,\n",
       "   'f1-score': 0.98,\n",
       "   'f2-score': 0.99}}}"
      ]
     },
     "execution_count": 43,
     "metadata": {},
     "output_type": "execute_result"
    }
   ],
   "source": [
    "models_thresholds_and_metrics[\"SqueezeNet-Mel\"][\"DRQ\"] = {\"threshold\": str(threshold), **metrics_dict}\n",
    "models_thresholds_and_metrics"
   ]
  },
  {
   "cell_type": "markdown",
   "metadata": {},
   "source": [
    "### Float16 quantization"
   ]
  },
  {
   "cell_type": "code",
   "execution_count": 44,
   "metadata": {},
   "outputs": [
    {
     "name": "stdout",
     "output_type": "stream",
     "text": [
      "INFO:tensorflow:Assets written to: /tmp/tmp66yfciu8/assets\n"
     ]
    },
    {
     "name": "stderr",
     "output_type": "stream",
     "text": [
      "INFO:tensorflow:Assets written to: /tmp/tmp66yfciu8/assets\n",
      "2024-08-27 20:53:00.733087: W tensorflow/compiler/mlir/lite/python/tf_tfl_flatbuffer_helpers.cc:378] Ignored output_format.\n",
      "2024-08-27 20:53:00.733141: W tensorflow/compiler/mlir/lite/python/tf_tfl_flatbuffer_helpers.cc:381] Ignored drop_control_dependency.\n",
      "2024-08-27 20:53:00.733306: I tensorflow/cc/saved_model/reader.cc:83] Reading SavedModel from: /tmp/tmp66yfciu8\n",
      "2024-08-27 20:53:00.739610: I tensorflow/cc/saved_model/reader.cc:51] Reading meta graph with tags { serve }\n",
      "2024-08-27 20:53:00.739718: I tensorflow/cc/saved_model/reader.cc:146] Reading SavedModel debug info (if present) from: /tmp/tmp66yfciu8\n",
      "2024-08-27 20:53:00.760945: I tensorflow/cc/saved_model/loader.cc:233] Restoring SavedModel bundle.\n",
      "2024-08-27 20:53:01.032512: I tensorflow/cc/saved_model/loader.cc:217] Running initialization op on SavedModel bundle at path: /tmp/tmp66yfciu8\n",
      "2024-08-27 20:53:01.162065: I tensorflow/cc/saved_model/loader.cc:316] SavedModel load for tags { serve }; Status: success: OK. Took 428758 microseconds.\n",
      "Summary on the non-converted ops:\n",
      "---------------------------------\n",
      " * Accepted dialects: tfl, builtin, func\n",
      " * Non-Converted Ops: 53, Total Ops 147, % non-converted = 36.05 %\n",
      " * 53 ARITH ops\n",
      "\n",
      "- arith.constant:   53 occurrences  (f16: 52, i32: 1)\n",
      "\n",
      "\n",
      "\n",
      "  (f32: 8)\n",
      "  (f32: 26)\n",
      "  (f32: 52)\n",
      "  (f32: 3)\n",
      "  (f32: 1)\n",
      "  (f32: 1)\n"
     ]
    }
   ],
   "source": [
    "float16_quant_converter = tf.lite.TFLiteConverter.from_keras_model(baseline_model)\n",
    "float16_quant_converter.optimizations = [tf.lite.Optimize.DEFAULT]\n",
    "float16_quant_converter.target_spec.supported_types = [tf.float16]\n",
    "float16_quant_model = float16_quant_converter.convert()"
   ]
  },
  {
   "cell_type": "code",
   "execution_count": 45,
   "metadata": {},
   "outputs": [
    {
     "name": "stdout",
     "output_type": "stream",
     "text": [
      "Validation dataset:\n",
      "Basic assessment of the whole dataset (without any partitions):\n",
      "Optimal threshold:  0.73482734\n",
      "Accuracy: 99.20%\n",
      "Recall: 99.36%\n",
      "Precision: 98.32%\n",
      "F1-score: 98.84%\n",
      "F2-score: 99.19%\n",
      "\n",
      "Test dataset:\n",
      "Basic assessment of the whole dataset (without any partitions):\n",
      "Optimal threshold:  0.73482734\n",
      "Accuracy: 98.56%\n",
      "Recall: 99.34%\n",
      "Precision: 96.40%\n",
      "F1-score: 97.85%\n",
      "F2-score: 98.61%\n",
      "\n",
      "Time for Test dataset:\n",
      "\n",
      "Time to make a prediction for a single data point\n",
      "Mean: 0.007 seconds\n",
      "Max: 0.027 seconds\n",
      "Min: 0.007 seconds\n",
      "\n",
      "\n",
      "Model file name:  spectrogram_models_from_notebooks/squeezenet/squeezenet_spec_16kHz_float16q.tflite\n",
      "File size: 1.409 Megabytes\n"
     ]
    }
   ],
   "source": [
    "print(\"Validation dataset:\")\n",
    "(\n",
    "    threshold,\n",
    "    y_pred_val,\n",
    "    _, \n",
    "    ) = predict_and_print_full_results(float16_quant_model, x_val_np, y_val_np, model_format=\"tf_lite\")\n",
    "\n",
    "print(\"\\nTest dataset:\")\n",
    "(\n",
    "    _,\n",
    "    y_pred_test,\n",
    "    metrics_dict, \n",
    "    ) = predict_and_print_full_results(float16_quant_model, x_test_np, y_test_np, model_format=\"tf_lite\", threshold=threshold)\n",
    "\n",
    "print(\"\\nTime for Test dataset:\")\n",
    "evaluate_time_of_prediction(float16_quant_model, x_test_np, y_test_np, model_format=\"tf_lite\")\n",
    "\n",
    "FLOAT16_QUANT_MODEL_FILE_NAME = \"spectrogram_models_from_notebooks/squeezenet/squeezenet_spec_16kHz_float16q.tflite\"\n",
    "open(FLOAT16_QUANT_MODEL_FILE_NAME, \"wb\").write(float16_quant_model)\n",
    "print(\"\\n\")\n",
    "print(\"Model file name: \", FLOAT16_QUANT_MODEL_FILE_NAME)\n",
    "convert_bytes(get_file_size(FLOAT16_QUANT_MODEL_FILE_NAME), \"MB\")"
   ]
  },
  {
   "cell_type": "code",
   "execution_count": 46,
   "metadata": {},
   "outputs": [
    {
     "data": {
      "text/plain": [
       "{'SqueezeNet-Mel': {'baseline': {'threshold': '0.7348694',\n",
       "   'accuracy': 0.99,\n",
       "   'recall': 0.99,\n",
       "   'precision': 0.96,\n",
       "   'f1-score': 0.98,\n",
       "   'f2-score': 0.99},\n",
       "  'tflite': {'threshold': '0.7348694',\n",
       "   'accuracy': 0.99,\n",
       "   'recall': 0.99,\n",
       "   'precision': 0.96,\n",
       "   'f1-score': 0.98,\n",
       "   'f2-score': 0.99},\n",
       "  'DRQ': {'threshold': '0.7340945',\n",
       "   'accuracy': 0.99,\n",
       "   'recall': 0.99,\n",
       "   'precision': 0.96,\n",
       "   'f1-score': 0.98,\n",
       "   'f2-score': 0.99},\n",
       "  'float16': {'threshold': '0.73482734',\n",
       "   'accuracy': 0.99,\n",
       "   'recall': 0.99,\n",
       "   'precision': 0.96,\n",
       "   'f1-score': 0.98,\n",
       "   'f2-score': 0.99}}}"
      ]
     },
     "execution_count": 46,
     "metadata": {},
     "output_type": "execute_result"
    }
   ],
   "source": [
    "models_thresholds_and_metrics[\"SqueezeNet-Mel\"][\"float16\"] = {\"threshold\": str(threshold), **metrics_dict}\n",
    "models_thresholds_and_metrics"
   ]
  },
  {
   "cell_type": "code",
   "execution_count": 47,
   "metadata": {},
   "outputs": [
    {
     "name": "stdout",
     "output_type": "stream",
     "text": [
      "File size: 1442.977 Kilobytes\n"
     ]
    }
   ],
   "source": [
    "convert_bytes(get_file_size(FLOAT16_QUANT_MODEL_FILE_NAME), \"KB\")"
   ]
  },
  {
   "cell_type": "markdown",
   "metadata": {},
   "source": [
    "### Float fallback quantization"
   ]
  },
  {
   "cell_type": "code",
   "execution_count": 48,
   "metadata": {},
   "outputs": [
    {
     "name": "stdout",
     "output_type": "stream",
     "text": [
      "INFO:tensorflow:Assets written to: /tmp/tmpn4q11pic/assets\n"
     ]
    },
    {
     "name": "stderr",
     "output_type": "stream",
     "text": [
      "INFO:tensorflow:Assets written to: /tmp/tmpn4q11pic/assets\n",
      "/home/polina/newname/.venv/lib/python3.9/site-packages/tensorflow/lite/python/convert.py:953: UserWarning: Statistics for quantized inputs were expected, but not specified; continuing anyway.\n",
      "  warnings.warn(\n",
      "2024-08-27 20:55:16.181441: W tensorflow/compiler/mlir/lite/python/tf_tfl_flatbuffer_helpers.cc:378] Ignored output_format.\n",
      "2024-08-27 20:55:16.181508: W tensorflow/compiler/mlir/lite/python/tf_tfl_flatbuffer_helpers.cc:381] Ignored drop_control_dependency.\n",
      "2024-08-27 20:55:16.181769: I tensorflow/cc/saved_model/reader.cc:83] Reading SavedModel from: /tmp/tmpn4q11pic\n",
      "2024-08-27 20:55:16.187871: I tensorflow/cc/saved_model/reader.cc:51] Reading meta graph with tags { serve }\n",
      "2024-08-27 20:55:16.187917: I tensorflow/cc/saved_model/reader.cc:146] Reading SavedModel debug info (if present) from: /tmp/tmpn4q11pic\n",
      "2024-08-27 20:55:16.211602: I tensorflow/cc/saved_model/loader.cc:233] Restoring SavedModel bundle.\n",
      "2024-08-27 20:55:16.408415: I tensorflow/cc/saved_model/loader.cc:217] Running initialization op on SavedModel bundle at path: /tmp/tmpn4q11pic\n",
      "2024-08-27 20:55:16.458322: I tensorflow/cc/saved_model/loader.cc:316] SavedModel load for tags { serve }; Status: success: OK. Took 276553 microseconds.\n",
      "Summary on the non-converted ops:\n",
      "---------------------------------\n",
      " * Accepted dialects: tfl, builtin, func\n",
      " * Non-Converted Ops: 53, Total Ops 95, % non-converted = 55.79 %\n",
      " * 53 ARITH ops\n",
      "\n",
      "- arith.constant:   53 occurrences  (f32: 52, i32: 1)\n",
      "\n",
      "\n",
      "\n",
      "  (f32: 8)\n",
      "  (f32: 26)\n",
      "  (f32: 3)\n",
      "  (f32: 1)\n",
      "  (f32: 1)\n",
      "fully_quantize: 0, inference_type: 6, input_inference_type: FLOAT32, output_inference_type: FLOAT32\n"
     ]
    }
   ],
   "source": [
    "def representative_data_gen():\n",
    "  for input_value in tf.data.Dataset.from_tensor_slices(x_val_np).batch(1).take(100):\n",
    "    yield [input_value]\n",
    "    \n",
    "float_fallback_quant_converter = tf.lite.TFLiteConverter.from_keras_model(baseline_model)\n",
    "float_fallback_quant_converter.optimizations = [tf.lite.Optimize.DEFAULT]\n",
    "float_fallback_quant_converter.representative_dataset = representative_data_gen\n",
    "float_fallback_quant_model = float_fallback_quant_converter.convert()"
   ]
  },
  {
   "cell_type": "code",
   "execution_count": 49,
   "metadata": {},
   "outputs": [
    {
     "name": "stdout",
     "output_type": "stream",
     "text": [
      "Validation dataset:\n",
      "Basic assessment of the whole dataset (without any partitions):\n",
      "Optimal threshold:  0.45703125\n",
      "Accuracy: 99.06%\n",
      "Recall: 99.58%\n",
      "Precision: 97.71%\n",
      "F1-score: 98.64%\n",
      "F2-score: 99.09%\n",
      "\n",
      "Test dataset:\n",
      "Basic assessment of the whole dataset (without any partitions):\n",
      "Optimal threshold:  0.45703125\n",
      "Accuracy: 98.49%\n",
      "Recall: 99.56%\n",
      "Precision: 96.00%\n",
      "F1-score: 97.75%\n",
      "F2-score: 98.58%\n",
      "\n",
      "Time for Test dataset:\n",
      "\n",
      "Time to make a prediction for a single data point\n",
      "Mean: 0.01 seconds\n",
      "Max: 0.027 seconds\n",
      "Min: 0.008 seconds\n",
      "\n",
      "\n",
      "Model file name:  spectrogram_models_from_notebooks/squeezenet/squeezenet_spec_16kHz_float_fallback_q.tflite\n",
      "File size: 0.789 Megabytes\n"
     ]
    }
   ],
   "source": [
    "print(\"Validation dataset:\")\n",
    "(\n",
    "    threshold,\n",
    "    y_pred_val,\n",
    "    _, \n",
    "    ) = predict_and_print_full_results(float_fallback_quant_model, x_val_np, y_val_np, model_format=\"tf_lite\")\n",
    "\n",
    "print(\"\\nTest dataset:\")\n",
    "(\n",
    "    _,\n",
    "    y_pred_test,\n",
    "    metrics_dict, \n",
    "    ) = predict_and_print_full_results(float_fallback_quant_model, x_test_np, y_test_np, model_format=\"tf_lite\", threshold=threshold)\n",
    "\n",
    "print(\"\\nTime for Test dataset:\")\n",
    "evaluate_time_of_prediction(float_fallback_quant_model, x_test_np, y_test_np, model_format=\"tf_lite\")\n",
    "\n",
    "FLOAT_FALLBACK_QUANT_MODEL_FILE_NAME = \"spectrogram_models_from_notebooks/squeezenet/squeezenet_spec_16kHz_float_fallback_q.tflite\"\n",
    "open(FLOAT_FALLBACK_QUANT_MODEL_FILE_NAME, \"wb\").write(float_fallback_quant_model)\n",
    "print(\"\\n\")\n",
    "print(\"Model file name: \", FLOAT_FALLBACK_QUANT_MODEL_FILE_NAME)\n",
    "convert_bytes(get_file_size(FLOAT_FALLBACK_QUANT_MODEL_FILE_NAME), \"MB\")"
   ]
  },
  {
   "cell_type": "code",
   "execution_count": null,
   "metadata": {},
   "outputs": [
    {
     "name": "stdout",
     "output_type": "stream",
     "text": [
      "File size: 807.516 Kilobytes\n"
     ]
    }
   ],
   "source": [
    "convert_bytes(get_file_size(FLOAT_FALLBACK_QUANT_MODEL_FILE_NAME), \"KB\")"
   ]
  },
  {
   "cell_type": "code",
   "execution_count": 50,
   "metadata": {},
   "outputs": [
    {
     "data": {
      "text/plain": [
       "{'SqueezeNet-Mel': {'baseline': {'threshold': '0.7348694',\n",
       "   'accuracy': 0.99,\n",
       "   'recall': 0.99,\n",
       "   'precision': 0.96,\n",
       "   'f1-score': 0.98,\n",
       "   'f2-score': 0.99},\n",
       "  'tflite': {'threshold': '0.7348694',\n",
       "   'accuracy': 0.99,\n",
       "   'recall': 0.99,\n",
       "   'precision': 0.96,\n",
       "   'f1-score': 0.98,\n",
       "   'f2-score': 0.99},\n",
       "  'DRQ': {'threshold': '0.7340945',\n",
       "   'accuracy': 0.99,\n",
       "   'recall': 0.99,\n",
       "   'precision': 0.96,\n",
       "   'f1-score': 0.98,\n",
       "   'f2-score': 0.99},\n",
       "  'float16': {'threshold': '0.73482734',\n",
       "   'accuracy': 0.99,\n",
       "   'recall': 0.99,\n",
       "   'precision': 0.96,\n",
       "   'f1-score': 0.98,\n",
       "   'f2-score': 0.99},\n",
       "  'float_fallback': {'threshold': '0.45703125',\n",
       "   'accuracy': 0.98,\n",
       "   'recall': 1.0,\n",
       "   'precision': 0.96,\n",
       "   'f1-score': 0.98,\n",
       "   'f2-score': 0.99}}}"
      ]
     },
     "execution_count": 50,
     "metadata": {},
     "output_type": "execute_result"
    }
   ],
   "source": [
    "models_thresholds_and_metrics[\"SqueezeNet-Mel\"][\"float_fallback\"] = {\"threshold\": str(threshold), **metrics_dict}\n",
    "models_thresholds_and_metrics"
   ]
  },
  {
   "cell_type": "code",
   "execution_count": null,
   "metadata": {},
   "outputs": [],
   "source": []
  },
  {
   "cell_type": "markdown",
   "metadata": {},
   "source": [
    "Full int"
   ]
  },
  {
   "cell_type": "code",
   "execution_count": 51,
   "metadata": {},
   "outputs": [
    {
     "name": "stdout",
     "output_type": "stream",
     "text": [
      "INFO:tensorflow:Assets written to: /tmp/tmp4tu37so5/assets\n"
     ]
    },
    {
     "name": "stderr",
     "output_type": "stream",
     "text": [
      "INFO:tensorflow:Assets written to: /tmp/tmp4tu37so5/assets\n",
      "/home/polina/newname/.venv/lib/python3.9/site-packages/tensorflow/lite/python/convert.py:953: UserWarning: Statistics for quantized inputs were expected, but not specified; continuing anyway.\n",
      "  warnings.warn(\n",
      "2024-08-27 20:56:30.754662: W tensorflow/compiler/mlir/lite/python/tf_tfl_flatbuffer_helpers.cc:378] Ignored output_format.\n",
      "2024-08-27 20:56:30.754711: W tensorflow/compiler/mlir/lite/python/tf_tfl_flatbuffer_helpers.cc:381] Ignored drop_control_dependency.\n",
      "2024-08-27 20:56:30.754884: I tensorflow/cc/saved_model/reader.cc:83] Reading SavedModel from: /tmp/tmp4tu37so5\n",
      "2024-08-27 20:56:30.761300: I tensorflow/cc/saved_model/reader.cc:51] Reading meta graph with tags { serve }\n",
      "2024-08-27 20:56:30.761329: I tensorflow/cc/saved_model/reader.cc:146] Reading SavedModel debug info (if present) from: /tmp/tmp4tu37so5\n",
      "2024-08-27 20:56:30.781151: I tensorflow/cc/saved_model/loader.cc:233] Restoring SavedModel bundle.\n",
      "2024-08-27 20:56:31.022215: I tensorflow/cc/saved_model/loader.cc:217] Running initialization op on SavedModel bundle at path: /tmp/tmp4tu37so5\n",
      "2024-08-27 20:56:31.090853: I tensorflow/cc/saved_model/loader.cc:316] SavedModel load for tags { serve }; Status: success: OK. Took 335968 microseconds.\n",
      "Summary on the non-converted ops:\n",
      "---------------------------------\n",
      " * Accepted dialects: tfl, builtin, func\n",
      " * Non-Converted Ops: 53, Total Ops 95, % non-converted = 55.79 %\n",
      " * 53 ARITH ops\n",
      "\n",
      "- arith.constant:   53 occurrences  (f32: 52, i32: 1)\n",
      "\n",
      "\n",
      "\n",
      "  (f32: 8)\n",
      "  (f32: 26)\n",
      "  (f32: 3)\n",
      "  (f32: 1)\n",
      "  (f32: 1)\n",
      "fully_quantize: 0, inference_type: 6, input_inference_type: UINT8, output_inference_type: UINT8\n"
     ]
    }
   ],
   "source": [
    "def representative_data_gen():\n",
    "  for input_value in tf.data.Dataset.from_tensor_slices(x_val_np).batch(1).take(100):\n",
    "    yield [input_value]\n",
    "\n",
    "full_int_converter = tf.lite.TFLiteConverter.from_keras_model(baseline_model)\n",
    "full_int_converter.optimizations = [tf.lite.Optimize.DEFAULT]\n",
    "full_int_converter.representative_dataset = representative_data_gen\n",
    "# Ensure that if any ops can't be quantized, the converter throws an error\n",
    "full_int_converter.target_spec.supported_ops = [tf.lite.OpsSet.TFLITE_BUILTINS_INT8]\n",
    "# Set the input and output tensors to uint8 (APIs added in r2.3)\n",
    "full_int_converter.inference_input_type = tf.uint8\n",
    "full_int_converter.inference_output_type = tf.uint8\n",
    "\n",
    "tflite_model_quant = full_int_converter.convert()"
   ]
  },
  {
   "cell_type": "code",
   "execution_count": 52,
   "metadata": {},
   "outputs": [
    {
     "name": "stdout",
     "output_type": "stream",
     "text": [
      "input:  <class 'numpy.uint8'>\n",
      "output:  <class 'numpy.uint8'>\n"
     ]
    }
   ],
   "source": [
    "interpreter = tf.lite.Interpreter(model_content=tflite_model_quant)\n",
    "input_type = interpreter.get_input_details()[0]['dtype']\n",
    "print('input: ', input_type)\n",
    "output_type = interpreter.get_output_details()[0]['dtype']\n",
    "print('output: ', output_type)"
   ]
  },
  {
   "cell_type": "code",
   "execution_count": 53,
   "metadata": {},
   "outputs": [
    {
     "data": {
      "text/plain": [
       "826920"
      ]
     },
     "execution_count": 53,
     "metadata": {},
     "output_type": "execute_result"
    }
   ],
   "source": [
    "import pathlib\n",
    "\n",
    "tflite_models_dir = pathlib.Path(\"spectrogram_models_from_notebooks/squeezenet\")\n",
    "tflite_models_dir.mkdir(exist_ok=True, parents=True)\n",
    "\n",
    "# Save the quantized model:\n",
    "tflite_model_quant_file = tflite_models_dir/\"squeezenet_spec_16kHz_full_int_q.tflite\"\n",
    "tflite_model_quant_file.write_bytes(tflite_model_quant)"
   ]
  },
  {
   "cell_type": "code",
   "execution_count": 55,
   "metadata": {},
   "outputs": [
    {
     "name": "stdout",
     "output_type": "stream",
     "text": [
      "Validation dataset:\n",
      "117.0\n",
      "Optimal threshold:  117.0\n",
      "Accuracy: 98.91%\n",
      "Recall: 99.58%\n",
      "Precision: 97.31%\n",
      "F1-score: 98.43%\n",
      "F2-score: 98.96%\n",
      "\n",
      "Test dataset:\n",
      "Optimal threshold:  117.0\n",
      "Accuracy: 98.64%\n",
      "Recall: 99.78%\n",
      "Precision: 96.21%\n",
      "F1-score: 97.96%\n",
      "F2-score: 98.74%\n",
      "\n",
      "Time for Test dataset:\n",
      "\n",
      "Time to make a prediction for a single data point\n",
      "Mean: 0.013 seconds\n",
      "Max: 0.026 seconds\n",
      "Min: 0.009 seconds\n",
      "File size: 807.539 Kilobytes\n"
     ]
    }
   ],
   "source": [
    "print(\"Validation dataset:\")\n",
    "predictions = full_int_model_predict(tflite_model_quant_file, x_val_np)\n",
    "threshold = find_decision_threshold(y_val_np, predictions, model_format=\"tflite\")\n",
    "print(threshold)\n",
    "_ = evaluate_prediction(y_val_np, predictions, model_format=\"tflite\", optimal_threshold=threshold)\n",
    "\n",
    "# print(\"\\nDevide dataset into 10 non-overlapping patritions and get their mean F1-score\")\n",
    "# non_overlap_patritions_f1_scores = get_f1_scores_of_non_overlapping_partitions_full_int_q(tflite_model_full_int_file, x_val_np, y_val_np)\n",
    "# print(\"Non-overlap mean F1-score: \", np.mean(non_overlap_patritions_f1_scores))\n",
    "\n",
    "# print(\"\\nGet 100 bootstrap samples from dataset with 100 samples each and get their mean F1-score\")\n",
    "# bootstrap_patritions_f1_scores = get_f1_scores_of_bootstraping_partitions_full_int_q(tflite_model_full_int_file, x_val_np, y_val_np)\n",
    "# print(\"Bootstrap mean F1-score: \", np.mean(bootstrap_patritions_f1_scores))\n",
    "\n",
    "\n",
    "\n",
    "print(\"\\nTest dataset:\")\n",
    "predictions = full_int_model_predict(tflite_model_quant_file, x_test_np)\n",
    "metrics_dict = evaluate_prediction(y_test_np, predictions, model_format=\"tflite\", optimal_threshold=threshold)\n",
    "\n",
    "# print(\"\\nDevide dataset into 10 non-overlapping patritions and get their mean F1-score\")\n",
    "# non_overlap_patritions_f1_scores = get_f1_scores_of_non_overlapping_partitions_full_int_q(tflite_model_full_int_file, x_test_np, y_test_np)\n",
    "# print(\"Non-overlap mean F1-score: \", np.mean(non_overlap_patritions_f1_scores))\n",
    "\n",
    "# print(\"\\nGet 100 bootstrap samples from dataset with 100 samples each and get their mean F1-score\")\n",
    "# bootstrap_patritions_f1_scores = get_f1_scores_of_bootstraping_partitions_full_int_q(tflite_model_full_int_file, x_test_np, y_test_np)\n",
    "# print(\"Bootstrap mean F1-score: \", np.mean(bootstrap_patritions_f1_scores))\n",
    "\n",
    "print(\"\\nTime for Test dataset:\")\n",
    "time_data = []\n",
    "for data_point in x_test_np:\n",
    "    start_time = time.time()\n",
    "    predictions = full_int_model_predict(tflite_model_quant_file, [data_point])\n",
    "    elapsed_time = time.time() - start_time\n",
    "    time_data.append(elapsed_time)\n",
    "print(\"\\nTime to make a prediction for a single data point\")\n",
    "print(f\"Mean: {round(np.mean(time_data), 3)} seconds\")\n",
    "print(f\"Max: {round(np.max(time_data), 3)} seconds\")\n",
    "print(f\"Min: {round(np.min(time_data), 3)} seconds\")\n",
    "\n",
    "convert_bytes(get_file_size(tflite_model_quant_file), \"KB\")"
   ]
  },
  {
   "cell_type": "code",
   "execution_count": 56,
   "metadata": {},
   "outputs": [
    {
     "data": {
      "text/plain": [
       "{'SqueezeNet-Mel': {'baseline': {'threshold': '0.7348694',\n",
       "   'accuracy': 0.99,\n",
       "   'recall': 0.99,\n",
       "   'precision': 0.96,\n",
       "   'f1-score': 0.98,\n",
       "   'f2-score': 0.99},\n",
       "  'tflite': {'threshold': '0.7348694',\n",
       "   'accuracy': 0.99,\n",
       "   'recall': 0.99,\n",
       "   'precision': 0.96,\n",
       "   'f1-score': 0.98,\n",
       "   'f2-score': 0.99},\n",
       "  'DRQ': {'threshold': '0.7340945',\n",
       "   'accuracy': 0.99,\n",
       "   'recall': 0.99,\n",
       "   'precision': 0.96,\n",
       "   'f1-score': 0.98,\n",
       "   'f2-score': 0.99},\n",
       "  'float16': {'threshold': '0.73482734',\n",
       "   'accuracy': 0.99,\n",
       "   'recall': 0.99,\n",
       "   'precision': 0.96,\n",
       "   'f1-score': 0.98,\n",
       "   'f2-score': 0.99},\n",
       "  'float_fallback': {'threshold': '0.45703125',\n",
       "   'accuracy': 0.98,\n",
       "   'recall': 1.0,\n",
       "   'precision': 0.96,\n",
       "   'f1-score': 0.98,\n",
       "   'f2-score': 0.99},\n",
       "  'full int': {'threshold': '117.0',\n",
       "   'accuracy': 0.99,\n",
       "   'recall': 1.0,\n",
       "   'precision': 0.96,\n",
       "   'f1-score': 0.98,\n",
       "   'f2-score': 0.99}}}"
      ]
     },
     "execution_count": 56,
     "metadata": {},
     "output_type": "execute_result"
    }
   ],
   "source": [
    "models_thresholds_and_metrics[\"SqueezeNet-Mel\"][\"full int\"] = {\"threshold\": str(threshold), **metrics_dict}\n",
    "models_thresholds_and_metrics"
   ]
  },
  {
   "cell_type": "code",
   "execution_count": 58,
   "metadata": {},
   "outputs": [],
   "source": [
    "import pandas as pd\n",
    "import json"
   ]
  },
  {
   "cell_type": "code",
   "execution_count": 61,
   "metadata": {},
   "outputs": [
    {
     "data": {
      "text/html": [
       "<div>\n",
       "<style scoped>\n",
       "    .dataframe tbody tr th:only-of-type {\n",
       "        vertical-align: middle;\n",
       "    }\n",
       "\n",
       "    .dataframe tbody tr th {\n",
       "        vertical-align: top;\n",
       "    }\n",
       "\n",
       "    .dataframe thead th {\n",
       "        text-align: right;\n",
       "    }\n",
       "</style>\n",
       "<table border=\"1\" class=\"dataframe\">\n",
       "  <thead>\n",
       "    <tr style=\"text-align: right;\">\n",
       "      <th></th>\n",
       "      <th>threshold</th>\n",
       "      <th>accuracy</th>\n",
       "      <th>recall</th>\n",
       "      <th>precision</th>\n",
       "      <th>f1-score</th>\n",
       "      <th>f2-score</th>\n",
       "    </tr>\n",
       "  </thead>\n",
       "  <tbody>\n",
       "    <tr>\n",
       "      <th>baseline</th>\n",
       "      <td>0.7348694</td>\n",
       "      <td>0.99</td>\n",
       "      <td>0.99</td>\n",
       "      <td>0.96</td>\n",
       "      <td>0.98</td>\n",
       "      <td>0.99</td>\n",
       "    </tr>\n",
       "    <tr>\n",
       "      <th>tflite</th>\n",
       "      <td>0.7348694</td>\n",
       "      <td>0.99</td>\n",
       "      <td>0.99</td>\n",
       "      <td>0.96</td>\n",
       "      <td>0.98</td>\n",
       "      <td>0.99</td>\n",
       "    </tr>\n",
       "    <tr>\n",
       "      <th>DRQ</th>\n",
       "      <td>0.7340945</td>\n",
       "      <td>0.99</td>\n",
       "      <td>0.99</td>\n",
       "      <td>0.96</td>\n",
       "      <td>0.98</td>\n",
       "      <td>0.99</td>\n",
       "    </tr>\n",
       "    <tr>\n",
       "      <th>float16</th>\n",
       "      <td>0.73482734</td>\n",
       "      <td>0.99</td>\n",
       "      <td>0.99</td>\n",
       "      <td>0.96</td>\n",
       "      <td>0.98</td>\n",
       "      <td>0.99</td>\n",
       "    </tr>\n",
       "    <tr>\n",
       "      <th>float_fallback</th>\n",
       "      <td>0.45703125</td>\n",
       "      <td>0.98</td>\n",
       "      <td>1.0</td>\n",
       "      <td>0.96</td>\n",
       "      <td>0.98</td>\n",
       "      <td>0.99</td>\n",
       "    </tr>\n",
       "    <tr>\n",
       "      <th>full int</th>\n",
       "      <td>117.0</td>\n",
       "      <td>0.99</td>\n",
       "      <td>1.0</td>\n",
       "      <td>0.96</td>\n",
       "      <td>0.98</td>\n",
       "      <td>0.99</td>\n",
       "    </tr>\n",
       "  </tbody>\n",
       "</table>\n",
       "</div>"
      ],
      "text/plain": [
       "                 threshold accuracy recall precision f1-score f2-score\n",
       "baseline         0.7348694     0.99   0.99      0.96     0.98     0.99\n",
       "tflite           0.7348694     0.99   0.99      0.96     0.98     0.99\n",
       "DRQ              0.7340945     0.99   0.99      0.96     0.98     0.99\n",
       "float16         0.73482734     0.99   0.99      0.96     0.98     0.99\n",
       "float_fallback  0.45703125     0.98    1.0      0.96     0.98     0.99\n",
       "full int             117.0     0.99    1.0      0.96     0.98     0.99"
      ]
     },
     "execution_count": 61,
     "metadata": {},
     "output_type": "execute_result"
    }
   ],
   "source": [
    "pd.DataFrame(models_thresholds_and_metrics[\"SqueezeNet-Mel\"]).T"
   ]
  },
  {
   "cell_type": "code",
   "execution_count": 65,
   "metadata": {},
   "outputs": [],
   "source": [
    "with open('thesis/thresholds_and_metrics_json/squeezenet_mel.json', 'w') as f:\n",
    "    json.dump(models_thresholds_and_metrics, f)"
   ]
  },
  {
   "cell_type": "code",
   "execution_count": null,
   "metadata": {},
   "outputs": [],
   "source": []
  }
 ],
 "metadata": {
  "kernelspec": {
   "display_name": "ag14",
   "language": "python",
   "name": "python3"
  },
  "language_info": {
   "codemirror_mode": {
    "name": "ipython",
    "version": 3
   },
   "file_extension": ".py",
   "mimetype": "text/x-python",
   "name": "python",
   "nbconvert_exporter": "python",
   "pygments_lexer": "ipython3",
   "version": "3.9.19"
  }
 },
 "nbformat": 4,
 "nbformat_minor": 2
}
