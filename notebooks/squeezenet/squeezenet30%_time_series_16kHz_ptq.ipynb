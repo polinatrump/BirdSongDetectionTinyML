{
 "cells": [
  {
   "cell_type": "code",
   "execution_count": 1,
   "metadata": {},
   "outputs": [],
   "source": [
    "%load_ext autoreload\n",
    "%autoreload 2"
   ]
  },
  {
   "cell_type": "code",
   "execution_count": 2,
   "metadata": {},
   "outputs": [
    {
     "name": "stderr",
     "output_type": "stream",
     "text": [
      "2024-07-28 22:24:08.666982: I external/local_tsl/tsl/cuda/cudart_stub.cc:31] Could not find cuda drivers on your machine, GPU will not be used.\n",
      "2024-07-28 22:24:08.917640: E external/local_xla/xla/stream_executor/cuda/cuda_dnn.cc:9261] Unable to register cuDNN factory: Attempting to register factory for plugin cuDNN when one has already been registered\n",
      "2024-07-28 22:24:08.917697: E external/local_xla/xla/stream_executor/cuda/cuda_fft.cc:607] Unable to register cuFFT factory: Attempting to register factory for plugin cuFFT when one has already been registered\n",
      "2024-07-28 22:24:08.981740: E external/local_xla/xla/stream_executor/cuda/cuda_blas.cc:1515] Unable to register cuBLAS factory: Attempting to register factory for plugin cuBLAS when one has already been registered\n",
      "2024-07-28 22:24:09.088700: I external/local_tsl/tsl/cuda/cudart_stub.cc:31] Could not find cuda drivers on your machine, GPU will not be used.\n",
      "2024-07-28 22:24:09.090458: I tensorflow/core/platform/cpu_feature_guard.cc:182] This TensorFlow binary is optimized to use available CPU instructions in performance-critical operations.\n",
      "To enable the following instructions: AVX2 FMA, in other operations, rebuild TensorFlow with the appropriate compiler flags.\n",
      "2024-07-28 22:24:10.408560: W tensorflow/compiler/tf2tensorrt/utils/py_utils.cc:38] TF-TRT Warning: Could not find TensorRT\n"
     ]
    }
   ],
   "source": [
    "import random\n",
    "\n",
    "import numpy as np\n",
    "import tensorflow as tf\n",
    "from tensorflow import keras\n",
    "\n",
    "tf.random.set_seed(3407)\n",
    "np.random.seed(3407)\n",
    "random.seed(3407)\n",
    "\n",
    "from helper_functions_2 import (\n",
    "    convert_bytes,\n",
    "    convert_prefetchdataset_to_numpy_arrays,\n",
    "    evaluate_time_of_prediction,\n",
    "    get_file_size,\n",
    "    predict_and_print_full_results,\n",
    ")"
   ]
  },
  {
   "cell_type": "code",
   "execution_count": 3,
   "metadata": {},
   "outputs": [],
   "source": [
    "sample_rate = 16000"
   ]
  },
  {
   "cell_type": "code",
   "execution_count": 4,
   "metadata": {},
   "outputs": [
    {
     "name": "stdout",
     "output_type": "stream",
     "text": [
      "Found 11292 files belonging to 2 classes.\n"
     ]
    },
    {
     "name": "stderr",
     "output_type": "stream",
     "text": [
      "2024-07-28 22:24:13.759487: I external/local_xla/xla/stream_executor/cuda/cuda_executor.cc:887] could not open file to read NUMA node: /sys/bus/pci/devices/0000:01:00.0/numa_node\n",
      "Your kernel may have been built without NUMA support.\n",
      "2024-07-28 22:24:13.760025: W tensorflow/core/common_runtime/gpu/gpu_device.cc:2256] Cannot dlopen some GPU libraries. Please make sure the missing libraries mentioned above are installed properly if you would like to use GPU. Follow the guide at https://www.tensorflow.org/install/gpu for how to download and setup the required libraries for your platform.\n",
      "Skipping registering GPU devices...\n",
      "2024-07-28 22:24:14.003025: I tensorflow_io/core/kernels/cpu_check.cc:128] Your CPU supports instructions that this TensorFlow IO binary was not compiled to use: SSE3 SSE4.1 SSE4.2 AVX AVX2 FMA\n",
      "2024-07-28 22:24:14.074072: W tensorflow_io/core/kernels/audio_video_mp3_kernels.cc:271] libmp3lame.so.0 or lame functions are not available\n"
     ]
    },
    {
     "name": "stdout",
     "output_type": "stream",
     "text": [
      "WARNING:tensorflow:Using a while_loop for converting IO>AudioResample cause there is no registered converter for this op.\n",
      "Found 1393 files belonging to 2 classes.\n",
      "WARNING:tensorflow:Using a while_loop for converting IO>AudioResample cause there is no registered converter for this op.\n",
      "Found 1380 files belonging to 2 classes.\n",
      "WARNING:tensorflow:Using a while_loop for converting IO>AudioResample cause there is no registered converter for this op.\n",
      "Classes:  ['non_target' 'target']\n"
     ]
    }
   ],
   "source": [
    "train_dataset = tf.keras.utils.audio_dataset_from_directory(\n",
    "    \"dataset/training\",\n",
    "    labels=\"inferred\",\n",
    "    sampling_rate=16000,\n",
    "    batch_size=32,\n",
    "    shuffle=True,\n",
    "    seed=3407,\n",
    ")\n",
    "test_dataset = tf.keras.utils.audio_dataset_from_directory(\n",
    "    \"dataset/testing\",\n",
    "    labels=\"inferred\",\n",
    "    sampling_rate=16000,\n",
    "    batch_size=32,\n",
    "    shuffle=True,\n",
    "    seed=3407,\n",
    ")\n",
    "val_dataset = tf.keras.utils.audio_dataset_from_directory(\n",
    "    \"dataset/validation\",\n",
    "    labels=\"inferred\",\n",
    "    sampling_rate=16000,\n",
    "    batch_size=32,\n",
    "    shuffle=True,\n",
    "    seed=3407,\n",
    ")\n",
    "\n",
    "label_names = np.array(test_dataset.class_names)\n",
    "print(\"Classes: \", label_names)"
   ]
  },
  {
   "cell_type": "code",
   "execution_count": 5,
   "metadata": {},
   "outputs": [],
   "source": [
    "x_train_np, y_train_np = convert_prefetchdataset_to_numpy_arrays(\n",
    "    train_dataset, data_type=\"time-series\"\n",
    ")\n",
    "x_val_np, y_val_np = convert_prefetchdataset_to_numpy_arrays(\n",
    "    val_dataset, data_type=\"time-series\"\n",
    ")\n",
    "x_test_np, y_test_np = convert_prefetchdataset_to_numpy_arrays(\n",
    "    test_dataset, data_type=\"time-series\"\n",
    ")"
   ]
  },
  {
   "cell_type": "code",
   "execution_count": 6,
   "metadata": {},
   "outputs": [
    {
     "name": "stdout",
     "output_type": "stream",
     "text": [
      "Model: \"model\"\n",
      "__________________________________________________________________________________________________\n",
      " Layer (type)                Output Shape                 Param #   Connected to                  \n",
      "==================================================================================================\n",
      " input_1 (InputLayer)        [(None, 48000, 1)]           0         []                            \n",
      "                                                                                                  \n",
      " conv1 (Conv1D)              (None, 24000, 28)            224       ['input_1[0][0]']             \n",
      "                                                                                                  \n",
      " maxpool1 (MaxPooling1D)     (None, 11999, 28)            0         ['conv1[0][0]']               \n",
      "                                                                                                  \n",
      " fire2_squeeze (Conv1D)      (None, 11999, 4)             116       ['maxpool1[0][0]']            \n",
      "                                                                                                  \n",
      " fire2_expand_1x1 (Conv1D)   (None, 11999, 16)            80        ['fire2_squeeze[0][0]']       \n",
      "                                                                                                  \n",
      " fire2_expand_3x3 (Conv1D)   (None, 11999, 16)            208       ['fire2_squeeze[0][0]']       \n",
      "                                                                                                  \n",
      " fire2_concatenate (Concate  (None, 11999, 32)            0         ['fire2_expand_1x1[0][0]',    \n",
      " nate)                                                               'fire2_expand_3x3[0][0]']    \n",
      "                                                                                                  \n",
      " fire3_squeeze (Conv1D)      (None, 11999, 4)             132       ['fire2_concatenate[0][0]']   \n",
      "                                                                                                  \n",
      " fire3_expand_1x1 (Conv1D)   (None, 11999, 16)            80        ['fire3_squeeze[0][0]']       \n",
      "                                                                                                  \n",
      " fire3_expand_3x3 (Conv1D)   (None, 11999, 16)            208       ['fire3_squeeze[0][0]']       \n",
      "                                                                                                  \n",
      " fire3_concatenate (Concate  (None, 11999, 32)            0         ['fire3_expand_1x1[0][0]',    \n",
      " nate)                                                               'fire3_expand_3x3[0][0]']    \n",
      "                                                                                                  \n",
      " fire4_squeeze (Conv1D)      (None, 11999, 9)             297       ['fire3_concatenate[0][0]']   \n",
      "                                                                                                  \n",
      " fire4_expand_1x1 (Conv1D)   (None, 11999, 36)            360       ['fire4_squeeze[0][0]']       \n",
      "                                                                                                  \n",
      " fire4_expand_3x3 (Conv1D)   (None, 11999, 36)            1008      ['fire4_squeeze[0][0]']       \n",
      "                                                                                                  \n",
      " fire4_concatenate (Concate  (None, 11999, 72)            0         ['fire4_expand_1x1[0][0]',    \n",
      " nate)                                                               'fire4_expand_3x3[0][0]']    \n",
      "                                                                                                  \n",
      " maxpool4 (MaxPooling1D)     (None, 5999, 72)             0         ['fire4_concatenate[0][0]']   \n",
      "                                                                                                  \n",
      " fire5_squeeze (Conv1D)      (None, 5999, 9)              657       ['maxpool4[0][0]']            \n",
      "                                                                                                  \n",
      " fire5_expand_1x1 (Conv1D)   (None, 5999, 36)             360       ['fire5_squeeze[0][0]']       \n",
      "                                                                                                  \n",
      " fire5_expand_3x3 (Conv1D)   (None, 5999, 36)             1008      ['fire5_squeeze[0][0]']       \n",
      "                                                                                                  \n",
      " fire5_concatenate (Concate  (None, 5999, 72)             0         ['fire5_expand_1x1[0][0]',    \n",
      " nate)                                                               'fire5_expand_3x3[0][0]']    \n",
      "                                                                                                  \n",
      " fire6_squeeze (Conv1D)      (None, 5999, 14)             1022      ['fire5_concatenate[0][0]']   \n",
      "                                                                                                  \n",
      " fire6_expand_1x1 (Conv1D)   (None, 5999, 56)             840       ['fire6_squeeze[0][0]']       \n",
      "                                                                                                  \n",
      " fire6_expand_3x3 (Conv1D)   (None, 5999, 56)             2408      ['fire6_squeeze[0][0]']       \n",
      "                                                                                                  \n",
      " fire6_concatenate (Concate  (None, 5999, 112)            0         ['fire6_expand_1x1[0][0]',    \n",
      " nate)                                                               'fire6_expand_3x3[0][0]']    \n",
      "                                                                                                  \n",
      " fire7_squeeze (Conv1D)      (None, 5999, 14)             1582      ['fire6_concatenate[0][0]']   \n",
      "                                                                                                  \n",
      " fire7_expand_1x1 (Conv1D)   (None, 5999, 56)             840       ['fire7_squeeze[0][0]']       \n",
      "                                                                                                  \n",
      " fire7_expand_3x3 (Conv1D)   (None, 5999, 56)             2408      ['fire7_squeeze[0][0]']       \n",
      "                                                                                                  \n",
      " fire7_concatenate (Concate  (None, 5999, 112)            0         ['fire7_expand_1x1[0][0]',    \n",
      " nate)                                                               'fire7_expand_3x3[0][0]']    \n",
      "                                                                                                  \n",
      " fire8_squeeze (Conv1D)      (None, 5999, 19)             2147      ['fire7_concatenate[0][0]']   \n",
      "                                                                                                  \n",
      " fire8_expand_1x1 (Conv1D)   (None, 5999, 76)             1520      ['fire8_squeeze[0][0]']       \n",
      "                                                                                                  \n",
      " fire8_expand_3x3 (Conv1D)   (None, 5999, 76)             4408      ['fire8_squeeze[0][0]']       \n",
      "                                                                                                  \n",
      " fire8_concatenate (Concate  (None, 5999, 152)            0         ['fire8_expand_1x1[0][0]',    \n",
      " nate)                                                               'fire8_expand_3x3[0][0]']    \n",
      "                                                                                                  \n",
      " maxpool8 (MaxPooling1D)     (None, 2999, 152)            0         ['fire8_concatenate[0][0]']   \n",
      "                                                                                                  \n",
      " fire9_squeeze (Conv1D)      (None, 2999, 19)             2907      ['maxpool8[0][0]']            \n",
      "                                                                                                  \n",
      " fire9_expand_1x1 (Conv1D)   (None, 2999, 76)             1520      ['fire9_squeeze[0][0]']       \n",
      "                                                                                                  \n",
      " fire9_expand_3x3 (Conv1D)   (None, 2999, 76)             4408      ['fire9_squeeze[0][0]']       \n",
      "                                                                                                  \n",
      " fire9_concatenate (Concate  (None, 2999, 152)            0         ['fire9_expand_1x1[0][0]',    \n",
      " nate)                                                               'fire9_expand_3x3[0][0]']    \n",
      "                                                                                                  \n",
      " conv10 (Conv1D)             (None, 2999, 2)              306       ['fire9_concatenate[0][0]']   \n",
      "                                                                                                  \n",
      " avgpool10 (GlobalAveragePo  (None, 2)                    0         ['conv10[0][0]']              \n",
      " oling1D)                                                                                         \n",
      "                                                                                                  \n",
      " softmax (Activation)        (None, 2)                    0         ['avgpool10[0][0]']           \n",
      "                                                                                                  \n",
      "==================================================================================================\n",
      "Total params: 31054 (121.30 KB)\n",
      "Trainable params: 31054 (121.30 KB)\n",
      "Non-trainable params: 0 (0.00 Byte)\n",
      "__________________________________________________________________________________________________\n",
      "File size: 0.519 Megabytes\n"
     ]
    }
   ],
   "source": [
    "BASE_MODEL_FILE_NAME = \"time_series_models_from_notebooks/squeezenet/squeezenet30%_time_series_16kHz_baseline.keras\"\n",
    "baseline_model = tf.keras.models.load_model(BASE_MODEL_FILE_NAME)\n",
    "baseline_model.summary()\n",
    "convert_bytes(get_file_size(BASE_MODEL_FILE_NAME), \"MB\")"
   ]
  },
  {
   "cell_type": "markdown",
   "metadata": {},
   "source": [
    "### Convert to TF Lite format"
   ]
  },
  {
   "cell_type": "code",
   "execution_count": 7,
   "metadata": {},
   "outputs": [
    {
     "name": "stdout",
     "output_type": "stream",
     "text": [
      "INFO:tensorflow:Assets written to: /tmp/tmp1hw8dyck/assets\n"
     ]
    },
    {
     "name": "stderr",
     "output_type": "stream",
     "text": [
      "INFO:tensorflow:Assets written to: /tmp/tmp1hw8dyck/assets\n",
      "2024-07-28 22:25:01.258436: W tensorflow/compiler/mlir/lite/python/tf_tfl_flatbuffer_helpers.cc:378] Ignored output_format.\n",
      "2024-07-28 22:25:01.258530: W tensorflow/compiler/mlir/lite/python/tf_tfl_flatbuffer_helpers.cc:381] Ignored drop_control_dependency.\n",
      "2024-07-28 22:25:01.259130: I tensorflow/cc/saved_model/reader.cc:83] Reading SavedModel from: /tmp/tmp1hw8dyck\n",
      "2024-07-28 22:25:01.265778: I tensorflow/cc/saved_model/reader.cc:51] Reading meta graph with tags { serve }\n",
      "2024-07-28 22:25:01.265816: I tensorflow/cc/saved_model/reader.cc:146] Reading SavedModel debug info (if present) from: /tmp/tmp1hw8dyck\n",
      "2024-07-28 22:25:01.279355: I tensorflow/compiler/mlir/mlir_graph_optimization_pass.cc:388] MLIR V1 optimization pass is not enabled\n",
      "2024-07-28 22:25:01.286673: I tensorflow/cc/saved_model/loader.cc:233] Restoring SavedModel bundle.\n",
      "2024-07-28 22:25:01.528815: I tensorflow/cc/saved_model/loader.cc:217] Running initialization op on SavedModel bundle at path: /tmp/tmp1hw8dyck\n",
      "2024-07-28 22:25:01.606735: I tensorflow/cc/saved_model/loader.cc:316] SavedModel load for tags { serve }; Status: success: OK. Took 347567 microseconds.\n",
      "2024-07-28 22:25:01.695815: I tensorflow/compiler/mlir/tensorflow/utils/dump_mlir_util.cc:269] disabling MLIR crash reproducer, set env var `MLIR_CRASH_REPRODUCER_DIRECTORY` to enable.\n",
      "Summary on the non-converted ops:\n",
      "---------------------------------\n",
      " * Accepted dialects: tfl, builtin, func\n",
      " * Non-Converted Ops: 72, Total Ops 164, % non-converted = 43.90 %\n",
      " * 72 ARITH ops\n",
      "\n",
      "- arith.constant:   72 occurrences  (f32: 52, i32: 20)\n",
      "\n",
      "\n",
      "\n",
      "  (f32: 8)\n",
      "  (f32: 26)\n",
      "  (f32: 21)\n",
      "  (f32: 3)\n",
      "  (f32: 1)\n",
      "  (f32: 29)\n",
      "  (f32: 1)\n"
     ]
    }
   ],
   "source": [
    "converter = tf.lite.TFLiteConverter.from_keras_model(baseline_model)\n",
    "tflite_model = converter.convert()"
   ]
  },
  {
   "cell_type": "code",
   "execution_count": 8,
   "metadata": {},
   "outputs": [
    {
     "name": "stdout",
     "output_type": "stream",
     "text": [
      "Validation dataset:\n"
     ]
    },
    {
     "name": "stderr",
     "output_type": "stream",
     "text": [
      "INFO: Created TensorFlow Lite XNNPACK delegate for CPU.\n"
     ]
    },
    {
     "name": "stdout",
     "output_type": "stream",
     "text": [
      "Basic assessment of the whole dataset (without any partitions):\n",
      "Accuracy: 96.52%\n",
      "Recall: 91.95%\n",
      "Precision: 97.75%\n",
      "F1-score: 94.76%\n",
      "\n",
      "Devide dataset into 10 non-overlapping patritions and get their mean F1-score\n",
      "Non-overlap mean F1-score:  0.9461470006413389\n",
      "\n",
      "Get 100 bootstrap samples from dataset with 100 samples each and get their mean F1-score\n",
      "Bootstrap mean F1-score:  0.9490614960562602\n",
      "\n",
      "Test dataset:\n",
      "Basic assessment of the whole dataset (without any partitions):\n",
      "Accuracy: 96.63%\n",
      "Recall: 94.10%\n",
      "Precision: 95.57%\n",
      "F1-score: 94.83%\n",
      "\n",
      "Devide dataset into 10 non-overlapping patritions and get their mean F1-score\n",
      "Non-overlap mean F1-score:  0.9486317826775494\n",
      "\n",
      "Get 100 bootstrap samples from dataset with 100 samples each and get their mean F1-score\n",
      "Bootstrap mean F1-score:  0.9482568799678605\n",
      "\n",
      "Time for Test dataset:\n",
      "Accuracy: 96.63%\n",
      "Recall: 94.10%\n",
      "Precision: 95.57%\n",
      "F1-score: 94.83%\n",
      "\n",
      "Time to make a prediction for a single data point\n",
      "Mean: 0.013 seconds\n",
      "Max: 0.023 seconds\n",
      "Min: 0.012 seconds\n",
      "\n",
      "\n",
      "Model file name:  time_series_models_from_notebooks/squeezenet/squeezenet30%_time_series_16kHz.tflite\n",
      "File size: 0.147 Megabytes\n"
     ]
    }
   ],
   "source": [
    "print(\"Validation dataset:\")\n",
    "(\n",
    "    y_pred_val,\n",
    "    non_overlap_patritions_f1_scores_val,\n",
    "    bootstrap_patritions_f1_scores_val,\n",
    ") = predict_and_print_full_results(\n",
    "    tflite_model, x_val_np, y_val_np, model_format=\"tf_lite\"\n",
    ")\n",
    "\n",
    "print(\"\\nTest dataset:\")\n",
    "(\n",
    "    y_pred_test,\n",
    "    non_overlap_patritions_f1_scores_test,\n",
    "    bootstrap_patritions_f1_scores_test,\n",
    ") = predict_and_print_full_results(\n",
    "    tflite_model, x_test_np, y_test_np, model_format=\"tf_lite\"\n",
    ")\n",
    "\n",
    "print(\"\\nTime for Test dataset:\")\n",
    "evaluate_time_of_prediction(tflite_model, x_test_np, y_test_np, model_format=\"tf_lite\")\n",
    "\n",
    "TF_LITE_MODEL_FILE_NAME = \"time_series_models_from_notebooks/squeezenet/squeezenet30%_time_series_16kHz.tflite\"\n",
    "open(TF_LITE_MODEL_FILE_NAME, \"wb\").write(tflite_model)\n",
    "print(\"\\n\")\n",
    "print(\"Model file name: \", TF_LITE_MODEL_FILE_NAME)\n",
    "convert_bytes(get_file_size(TF_LITE_MODEL_FILE_NAME), \"MB\")"
   ]
  },
  {
   "cell_type": "code",
   "execution_count": 9,
   "metadata": {},
   "outputs": [
    {
     "name": "stdout",
     "output_type": "stream",
     "text": [
      "File size: 150.871 Kilobytes\n"
     ]
    }
   ],
   "source": [
    "convert_bytes(get_file_size(TF_LITE_MODEL_FILE_NAME), \"KB\")"
   ]
  },
  {
   "cell_type": "code",
   "execution_count": 10,
   "metadata": {},
   "outputs": [
    {
     "data": {
      "text/plain": [
       "1393"
      ]
     },
     "execution_count": 10,
     "metadata": {},
     "output_type": "execute_result"
    }
   ],
   "source": [
    "len(x_test_np)"
   ]
  },
  {
   "cell_type": "markdown",
   "metadata": {},
   "source": [
    "### Dynamic range quantization"
   ]
  },
  {
   "cell_type": "code",
   "execution_count": 11,
   "metadata": {},
   "outputs": [
    {
     "name": "stdout",
     "output_type": "stream",
     "text": [
      "INFO:tensorflow:Assets written to: /tmp/tmpmfvx14l2/assets\n"
     ]
    },
    {
     "name": "stderr",
     "output_type": "stream",
     "text": [
      "INFO:tensorflow:Assets written to: /tmp/tmpmfvx14l2/assets\n",
      "2024-07-28 22:32:31.593850: W tensorflow/compiler/mlir/lite/python/tf_tfl_flatbuffer_helpers.cc:378] Ignored output_format.\n",
      "2024-07-28 22:32:31.593921: W tensorflow/compiler/mlir/lite/python/tf_tfl_flatbuffer_helpers.cc:381] Ignored drop_control_dependency.\n",
      "2024-07-28 22:32:31.594122: I tensorflow/cc/saved_model/reader.cc:83] Reading SavedModel from: /tmp/tmpmfvx14l2\n",
      "2024-07-28 22:32:31.600215: I tensorflow/cc/saved_model/reader.cc:51] Reading meta graph with tags { serve }\n",
      "2024-07-28 22:32:31.600290: I tensorflow/cc/saved_model/reader.cc:146] Reading SavedModel debug info (if present) from: /tmp/tmpmfvx14l2\n",
      "2024-07-28 22:32:31.620102: I tensorflow/cc/saved_model/loader.cc:233] Restoring SavedModel bundle.\n",
      "2024-07-28 22:32:31.819613: I tensorflow/cc/saved_model/loader.cc:217] Running initialization op on SavedModel bundle at path: /tmp/tmpmfvx14l2\n",
      "2024-07-28 22:32:31.881367: I tensorflow/cc/saved_model/loader.cc:316] SavedModel load for tags { serve }; Status: success: OK. Took 287245 microseconds.\n",
      "Summary on the non-converted ops:\n",
      "---------------------------------\n",
      " * Accepted dialects: tfl, builtin, func\n",
      " * Non-Converted Ops: 63, Total Ops 164, % non-converted = 38.41 %\n",
      " * 63 ARITH ops\n",
      "\n",
      "- arith.constant:   63 occurrences  (f32: 43, i32: 20)\n",
      "\n",
      "\n",
      "\n",
      "  (f32: 8)\n",
      "  (f32: 26)\n",
      "  (f32: 21)\n",
      "  (f32: 3)\n",
      "  (f32: 1)\n",
      "  (uq_8: 9)\n",
      "  (f32: 29)\n",
      "  (f32: 1)\n"
     ]
    }
   ],
   "source": [
    "dynamic_range_quant_converter = tf.lite.TFLiteConverter.from_keras_model(baseline_model)\n",
    "dynamic_range_quant_converter.optimizations = [tf.lite.Optimize.DEFAULT]\n",
    "dynamic_range_quant_model = dynamic_range_quant_converter.convert()"
   ]
  },
  {
   "cell_type": "code",
   "execution_count": 12,
   "metadata": {},
   "outputs": [
    {
     "name": "stdout",
     "output_type": "stream",
     "text": [
      "Validation dataset:\n",
      "Basic assessment of the whole dataset (without any partitions):\n",
      "Accuracy: 96.52%\n",
      "Recall: 91.95%\n",
      "Precision: 97.75%\n",
      "F1-score: 94.76%\n",
      "\n",
      "Devide dataset into 10 non-overlapping patritions and get their mean F1-score\n",
      "Non-overlap mean F1-score:  0.9461470006413389\n",
      "\n",
      "Get 100 bootstrap samples from dataset with 100 samples each and get their mean F1-score\n",
      "Bootstrap mean F1-score:  0.9443041864472227\n",
      "\n",
      "Test dataset:\n",
      "Basic assessment of the whole dataset (without any partitions):\n",
      "Accuracy: 96.63%\n",
      "Recall: 94.10%\n",
      "Precision: 95.57%\n",
      "F1-score: 94.83%\n",
      "\n",
      "Devide dataset into 10 non-overlapping patritions and get their mean F1-score\n",
      "Non-overlap mean F1-score:  0.9486317826775494\n",
      "\n",
      "Get 100 bootstrap samples from dataset with 100 samples each and get their mean F1-score\n",
      "Bootstrap mean F1-score:  0.9500742705036384\n",
      "\n",
      "Time for Test dataset:\n",
      "Accuracy: 96.63%\n",
      "Recall: 94.10%\n",
      "Precision: 95.57%\n",
      "F1-score: 94.83%\n",
      "\n",
      "Time to make a prediction for a single data point\n",
      "Mean: 0.021 seconds\n",
      "Max: 0.037 seconds\n",
      "Min: 0.019 seconds\n",
      "\n",
      "\n",
      "Model file name:  time_series_models_from_notebooks/squeezenet/squeezenet30%_time_series_16kHz_drq.tflite\n",
      "File size: 0.088 Megabytes\n"
     ]
    }
   ],
   "source": [
    "print(\"Validation dataset:\")\n",
    "(\n",
    "    y_pred_val,\n",
    "    non_overlap_patritions_f1_scores_val,\n",
    "    bootstrap_patritions_f1_scores_val,\n",
    ") = predict_and_print_full_results(\n",
    "    dynamic_range_quant_model, x_val_np, y_val_np, model_format=\"tf_lite\"\n",
    ")\n",
    "\n",
    "print(\"\\nTest dataset:\")\n",
    "(\n",
    "    y_pred_test,\n",
    "    non_overlap_patritions_f1_scores_test,\n",
    "    bootstrap_patritions_f1_scores_test,\n",
    ") = predict_and_print_full_results(\n",
    "    dynamic_range_quant_model, x_test_np, y_test_np, model_format=\"tf_lite\"\n",
    ")\n",
    "\n",
    "print(\"\\nTime for Test dataset:\")\n",
    "evaluate_time_of_prediction(\n",
    "    dynamic_range_quant_model, x_test_np, y_test_np, model_format=\"tf_lite\"\n",
    ")\n",
    "\n",
    "DRQ_MODEL_FILE_NAME = \"time_series_models_from_notebooks/squeezenet/squeezenet30%_time_series_16kHz_drq.tflite\"\n",
    "open(DRQ_MODEL_FILE_NAME, \"wb\").write(dynamic_range_quant_model)\n",
    "print(\"\\n\")\n",
    "print(\"Model file name: \", DRQ_MODEL_FILE_NAME)\n",
    "convert_bytes(get_file_size(DRQ_MODEL_FILE_NAME), \"MB\")"
   ]
  },
  {
   "cell_type": "code",
   "execution_count": 13,
   "metadata": {},
   "outputs": [
    {
     "name": "stdout",
     "output_type": "stream",
     "text": [
      "File size: 89.656 Kilobytes\n"
     ]
    }
   ],
   "source": [
    "convert_bytes(get_file_size(DRQ_MODEL_FILE_NAME), \"KB\")"
   ]
  },
  {
   "cell_type": "markdown",
   "metadata": {},
   "source": [
    "### Float16 quantization"
   ]
  },
  {
   "cell_type": "code",
   "execution_count": 14,
   "metadata": {},
   "outputs": [
    {
     "name": "stdout",
     "output_type": "stream",
     "text": [
      "INFO:tensorflow:Assets written to: /tmp/tmp0cc9t2dp/assets\n"
     ]
    },
    {
     "name": "stderr",
     "output_type": "stream",
     "text": [
      "INFO:tensorflow:Assets written to: /tmp/tmp0cc9t2dp/assets\n",
      "2024-07-28 22:40:48.120245: W tensorflow/compiler/mlir/lite/python/tf_tfl_flatbuffer_helpers.cc:378] Ignored output_format.\n",
      "2024-07-28 22:40:48.120322: W tensorflow/compiler/mlir/lite/python/tf_tfl_flatbuffer_helpers.cc:381] Ignored drop_control_dependency.\n",
      "2024-07-28 22:40:48.120531: I tensorflow/cc/saved_model/reader.cc:83] Reading SavedModel from: /tmp/tmp0cc9t2dp\n",
      "2024-07-28 22:40:48.126885: I tensorflow/cc/saved_model/reader.cc:51] Reading meta graph with tags { serve }\n",
      "2024-07-28 22:40:48.126923: I tensorflow/cc/saved_model/reader.cc:146] Reading SavedModel debug info (if present) from: /tmp/tmp0cc9t2dp\n",
      "2024-07-28 22:40:48.145350: I tensorflow/cc/saved_model/loader.cc:233] Restoring SavedModel bundle.\n",
      "2024-07-28 22:40:48.355671: I tensorflow/cc/saved_model/loader.cc:217] Running initialization op on SavedModel bundle at path: /tmp/tmp0cc9t2dp\n",
      "2024-07-28 22:40:48.418621: I tensorflow/cc/saved_model/loader.cc:316] SavedModel load for tags { serve }; Status: success: OK. Took 298048 microseconds.\n",
      "Summary on the non-converted ops:\n",
      "---------------------------------\n",
      " * Accepted dialects: tfl, builtin, func\n",
      " * Non-Converted Ops: 72, Total Ops 216, % non-converted = 33.33 %\n",
      " * 72 ARITH ops\n",
      "\n",
      "- arith.constant:   72 occurrences  (f16: 52, i32: 20)\n",
      "\n",
      "\n",
      "\n",
      "  (f32: 8)\n",
      "  (f32: 26)\n",
      "  (f32: 52)\n",
      "  (f32: 21)\n",
      "  (f32: 3)\n",
      "  (f32: 1)\n",
      "  (f32: 29)\n",
      "  (f32: 1)\n"
     ]
    }
   ],
   "source": [
    "float16_quant_converter = tf.lite.TFLiteConverter.from_keras_model(baseline_model)\n",
    "float16_quant_converter.optimizations = [tf.lite.Optimize.DEFAULT]\n",
    "float16_quant_converter.target_spec.supported_types = [tf.float16]\n",
    "float16_quant_model = float16_quant_converter.convert()"
   ]
  },
  {
   "cell_type": "code",
   "execution_count": 15,
   "metadata": {},
   "outputs": [
    {
     "name": "stdout",
     "output_type": "stream",
     "text": [
      "Validation dataset:\n",
      "Basic assessment of the whole dataset (without any partitions):\n",
      "Accuracy: 96.52%\n",
      "Recall: 91.95%\n",
      "Precision: 97.75%\n",
      "F1-score: 94.76%\n",
      "\n",
      "Devide dataset into 10 non-overlapping patritions and get their mean F1-score\n",
      "Non-overlap mean F1-score:  0.9461470006413389\n",
      "\n",
      "Get 100 bootstrap samples from dataset with 100 samples each and get their mean F1-score\n",
      "Bootstrap mean F1-score:  0.9472879754441966\n",
      "\n",
      "Test dataset:\n",
      "Basic assessment of the whole dataset (without any partitions):\n",
      "Accuracy: 96.63%\n",
      "Recall: 94.10%\n",
      "Precision: 95.57%\n",
      "F1-score: 94.83%\n",
      "\n",
      "Devide dataset into 10 non-overlapping patritions and get their mean F1-score\n",
      "Non-overlap mean F1-score:  0.9486317826775494\n",
      "\n",
      "Get 100 bootstrap samples from dataset with 100 samples each and get their mean F1-score\n",
      "Bootstrap mean F1-score:  0.9457113355907262\n",
      "\n",
      "Time for Test dataset:\n",
      "Accuracy: 96.63%\n",
      "Recall: 94.10%\n",
      "Precision: 95.57%\n",
      "F1-score: 94.83%\n",
      "\n",
      "Time to make a prediction for a single data point\n",
      "Mean: 0.017 seconds\n",
      "Max: 0.031 seconds\n",
      "Min: 0.014 seconds\n",
      "\n",
      "\n",
      "Model file name:  time_series_models_from_notebooks/squeezenet/squeezenet30%_time_series_16kHz_float16q.tflite\n",
      "File size: 0.095 Megabytes\n"
     ]
    }
   ],
   "source": [
    "print(\"Validation dataset:\")\n",
    "(\n",
    "    y_pred_val,\n",
    "    non_overlap_patritions_f1_scores_val,\n",
    "    bootstrap_patritions_f1_scores_val,\n",
    ") = predict_and_print_full_results(\n",
    "    float16_quant_model, x_val_np, y_val_np, model_format=\"tf_lite\"\n",
    ")\n",
    "\n",
    "print(\"\\nTest dataset:\")\n",
    "(\n",
    "    y_pred_test,\n",
    "    non_overlap_patritions_f1_scores_test,\n",
    "    bootstrap_patritions_f1_scores_test,\n",
    ") = predict_and_print_full_results(\n",
    "    float16_quant_model, x_test_np, y_test_np, model_format=\"tf_lite\"\n",
    ")\n",
    "\n",
    "print(\"\\nTime for Test dataset:\")\n",
    "evaluate_time_of_prediction(\n",
    "    float16_quant_model, x_test_np, y_test_np, model_format=\"tf_lite\"\n",
    ")\n",
    "\n",
    "FLOAT16_QUANT_MODEL_FILE_NAME = \"time_series_models_from_notebooks/squeezenet/squeezenet30%_time_series_16kHz_float16q.tflite\"\n",
    "open(FLOAT16_QUANT_MODEL_FILE_NAME, \"wb\").write(float16_quant_model)\n",
    "print(\"\\n\")\n",
    "print(\"Model file name: \", FLOAT16_QUANT_MODEL_FILE_NAME)\n",
    "convert_bytes(get_file_size(FLOAT16_QUANT_MODEL_FILE_NAME), \"MB\")"
   ]
  },
  {
   "cell_type": "code",
   "execution_count": 16,
   "metadata": {},
   "outputs": [
    {
     "name": "stdout",
     "output_type": "stream",
     "text": [
      "File size: 97.117 Kilobytes\n"
     ]
    }
   ],
   "source": [
    "convert_bytes(get_file_size(FLOAT16_QUANT_MODEL_FILE_NAME), \"KB\")"
   ]
  },
  {
   "cell_type": "markdown",
   "metadata": {},
   "source": [
    "### Full integer quantization"
   ]
  },
  {
   "cell_type": "code",
   "execution_count": 17,
   "metadata": {},
   "outputs": [
    {
     "name": "stdout",
     "output_type": "stream",
     "text": [
      "INFO:tensorflow:Assets written to: /tmp/tmp9y3wqglv/assets\n"
     ]
    },
    {
     "name": "stderr",
     "output_type": "stream",
     "text": [
      "INFO:tensorflow:Assets written to: /tmp/tmp9y3wqglv/assets\n",
      "/home/polina/newname/.venv/lib/python3.9/site-packages/tensorflow/lite/python/convert.py:953: UserWarning: Statistics for quantized inputs were expected, but not specified; continuing anyway.\n",
      "  warnings.warn(\n",
      "2024-07-28 22:45:49.082662: W tensorflow/compiler/mlir/lite/python/tf_tfl_flatbuffer_helpers.cc:378] Ignored output_format.\n",
      "2024-07-28 22:45:49.082772: W tensorflow/compiler/mlir/lite/python/tf_tfl_flatbuffer_helpers.cc:381] Ignored drop_control_dependency.\n",
      "2024-07-28 22:45:49.083090: I tensorflow/cc/saved_model/reader.cc:83] Reading SavedModel from: /tmp/tmp9y3wqglv\n",
      "2024-07-28 22:45:49.089875: I tensorflow/cc/saved_model/reader.cc:51] Reading meta graph with tags { serve }\n",
      "2024-07-28 22:45:49.089905: I tensorflow/cc/saved_model/reader.cc:146] Reading SavedModel debug info (if present) from: /tmp/tmp9y3wqglv\n",
      "2024-07-28 22:45:49.109540: I tensorflow/cc/saved_model/loader.cc:233] Restoring SavedModel bundle.\n",
      "2024-07-28 22:45:49.381471: I tensorflow/cc/saved_model/loader.cc:217] Running initialization op on SavedModel bundle at path: /tmp/tmp9y3wqglv\n",
      "2024-07-28 22:45:49.479760: I tensorflow/cc/saved_model/loader.cc:316] SavedModel load for tags { serve }; Status: success: OK. Took 396669 microseconds.\n",
      "Summary on the non-converted ops:\n",
      "---------------------------------\n",
      " * Accepted dialects: tfl, builtin, func\n",
      " * Non-Converted Ops: 72, Total Ops 164, % non-converted = 43.90 %\n",
      " * 72 ARITH ops\n",
      "\n",
      "- arith.constant:   72 occurrences  (f32: 52, i32: 20)\n",
      "\n",
      "\n",
      "\n",
      "  (f32: 8)\n",
      "  (f32: 26)\n",
      "  (f32: 21)\n",
      "  (f32: 3)\n",
      "  (f32: 1)\n",
      "  (f32: 29)\n",
      "  (f32: 1)\n",
      "fully_quantize: 0, inference_type: 6, input_inference_type: UINT8, output_inference_type: UINT8\n"
     ]
    }
   ],
   "source": [
    "def representative_data_gen():\n",
    "    for input_value in tf.data.Dataset.from_tensor_slices(x_test_np).batch(1).take(500):\n",
    "        # Model has only one input so each data point has one element.\n",
    "        yield [input_value]\n",
    "\n",
    "\n",
    "full_int_converter = tf.lite.TFLiteConverter.from_keras_model(baseline_model)\n",
    "full_int_converter.optimizations = [tf.lite.Optimize.DEFAULT]\n",
    "full_int_converter.representative_dataset = representative_data_gen\n",
    "# Ensure that if any ops can't be quantized, the converter throws an error\n",
    "full_int_converter.target_spec.supported_ops = [tf.lite.OpsSet.TFLITE_BUILTINS_INT8]\n",
    "# Set the input and output tensors to uint8 (APIs added in r2.3)\n",
    "full_int_converter.inference_input_type = tf.uint8\n",
    "full_int_converter.inference_output_type = tf.uint8\n",
    "\n",
    "full_int_quant_model = full_int_converter.convert()"
   ]
  },
  {
   "cell_type": "code",
   "execution_count": 18,
   "metadata": {},
   "outputs": [
    {
     "name": "stdout",
     "output_type": "stream",
     "text": [
      "Validation dataset:\n"
     ]
    },
    {
     "ename": "KeyboardInterrupt",
     "evalue": "",
     "output_type": "error",
     "traceback": [
      "\u001b[0;31m---------------------------------------------------------------------------\u001b[0m",
      "\u001b[0;31mKeyboardInterrupt\u001b[0m                         Traceback (most recent call last)",
      "Cell \u001b[0;32mIn[18], line 6\u001b[0m\n\u001b[1;32m      1\u001b[0m \u001b[38;5;28mprint\u001b[39m(\u001b[38;5;124m\"\u001b[39m\u001b[38;5;124mValidation dataset:\u001b[39m\u001b[38;5;124m\"\u001b[39m)\n\u001b[1;32m      2\u001b[0m (\n\u001b[1;32m      3\u001b[0m     y_pred_val, \n\u001b[1;32m      4\u001b[0m     non_overlap_patritions_f1_scores_val, \n\u001b[1;32m      5\u001b[0m     bootstrap_patritions_f1_scores_val,\n\u001b[0;32m----> 6\u001b[0m     ) \u001b[38;5;241m=\u001b[39m \u001b[43mpredict_and_print_full_results\u001b[49m\u001b[43m(\u001b[49m\u001b[43mfull_int_quant_model\u001b[49m\u001b[43m,\u001b[49m\u001b[43m \u001b[49m\u001b[43mx_val_np\u001b[49m\u001b[43m,\u001b[49m\u001b[43m \u001b[49m\u001b[43my_val_np\u001b[49m\u001b[43m,\u001b[49m\u001b[43m \u001b[49m\u001b[43mmodel_format\u001b[49m\u001b[38;5;241;43m=\u001b[39;49m\u001b[38;5;124;43m\"\u001b[39;49m\u001b[38;5;124;43mtf_lite\u001b[39;49m\u001b[38;5;124;43m\"\u001b[39;49m\u001b[43m,\u001b[49m\u001b[43m \u001b[49m\u001b[43minput_data_uint8_type\u001b[49m\u001b[38;5;241;43m=\u001b[39;49m\u001b[38;5;28;43;01mTrue\u001b[39;49;00m\u001b[43m)\u001b[49m\n\u001b[1;32m      8\u001b[0m \u001b[38;5;28mprint\u001b[39m(\u001b[38;5;124m\"\u001b[39m\u001b[38;5;130;01m\\n\u001b[39;00m\u001b[38;5;124mTest dataset:\u001b[39m\u001b[38;5;124m\"\u001b[39m)\n\u001b[1;32m      9\u001b[0m (\n\u001b[1;32m     10\u001b[0m     y_pred_test, \n\u001b[1;32m     11\u001b[0m     non_overlap_patritions_f1_scores_test, \n\u001b[1;32m     12\u001b[0m     bootstrap_patritions_f1_scores_test,\n\u001b[1;32m     13\u001b[0m     ) \u001b[38;5;241m=\u001b[39m predict_and_print_full_results(full_int_quant_model, x_test_np, y_test_np, model_format\u001b[38;5;241m=\u001b[39m\u001b[38;5;124m\"\u001b[39m\u001b[38;5;124mtf_lite\u001b[39m\u001b[38;5;124m\"\u001b[39m, input_data_uint8_type\u001b[38;5;241m=\u001b[39m\u001b[38;5;28;01mTrue\u001b[39;00m)\n",
      "File \u001b[0;32m~/newname/helper_functions_2.py:149\u001b[0m, in \u001b[0;36mpredict_and_print_full_results\u001b[0;34m(model, x_data, y_true, model_format, input_data_uint8_type)\u001b[0m\n\u001b[1;32m    147\u001b[0m     y_pred \u001b[38;5;241m=\u001b[39m tf\u001b[38;5;241m.\u001b[39margmax(y_pred_prob, axis\u001b[38;5;241m=\u001b[39m\u001b[38;5;241m1\u001b[39m)\u001b[38;5;241m.\u001b[39mnumpy()\n\u001b[1;32m    148\u001b[0m \u001b[38;5;28;01melif\u001b[39;00m model_format \u001b[38;5;241m==\u001b[39m \u001b[38;5;124m\"\u001b[39m\u001b[38;5;124mtf_lite\u001b[39m\u001b[38;5;124m\"\u001b[39m:\n\u001b[0;32m--> 149\u001b[0m     y_pred \u001b[38;5;241m=\u001b[39m \u001b[43mtf_lite_model_predict\u001b[49m\u001b[43m(\u001b[49m\u001b[43mmodel\u001b[49m\u001b[43m,\u001b[49m\u001b[43m \u001b[49m\u001b[43mx_data\u001b[49m\u001b[43m,\u001b[49m\u001b[43m \u001b[49m\u001b[43minput_data_uint8_type\u001b[49m\u001b[43m)\u001b[49m\n\u001b[1;32m    151\u001b[0m \u001b[38;5;66;03m# Evaluate\u001b[39;00m\n\u001b[1;32m    152\u001b[0m \u001b[38;5;28mprint\u001b[39m(\u001b[38;5;124m\"\u001b[39m\u001b[38;5;124mBasic assessment of the whole dataset (without any partitions):\u001b[39m\u001b[38;5;124m\"\u001b[39m)\n",
      "File \u001b[0;32m~/newname/helper_functions_2.py:136\u001b[0m, in \u001b[0;36mtf_lite_model_predict\u001b[0;34m(tf_lite_model, x_data, input_data_uint8_type)\u001b[0m\n\u001b[1;32m    134\u001b[0m \u001b[38;5;28;01melse\u001b[39;00m:\n\u001b[1;32m    135\u001b[0m     interpreter\u001b[38;5;241m.\u001b[39mset_tensor(input_details[\u001b[38;5;241m0\u001b[39m][\u001b[38;5;124m\"\u001b[39m\u001b[38;5;124mindex\u001b[39m\u001b[38;5;124m\"\u001b[39m], input_data)\n\u001b[0;32m--> 136\u001b[0m \u001b[43minterpreter\u001b[49m\u001b[38;5;241;43m.\u001b[39;49m\u001b[43minvoke\u001b[49m\u001b[43m(\u001b[49m\u001b[43m)\u001b[49m\n\u001b[1;32m    137\u001b[0m y_pred_prob \u001b[38;5;241m=\u001b[39m interpreter\u001b[38;5;241m.\u001b[39mget_tensor(output_details[\u001b[38;5;241m0\u001b[39m][\u001b[38;5;124m'\u001b[39m\u001b[38;5;124mindex\u001b[39m\u001b[38;5;124m'\u001b[39m])\n\u001b[1;32m    138\u001b[0m y_pred \u001b[38;5;241m=\u001b[39m np\u001b[38;5;241m.\u001b[39margmax(y_pred_prob, axis\u001b[38;5;241m=\u001b[39m\u001b[38;5;241m1\u001b[39m)\n",
      "File \u001b[0;32m~/newname/.venv/lib/python3.9/site-packages/tensorflow/lite/python/interpreter.py:941\u001b[0m, in \u001b[0;36mInterpreter.invoke\u001b[0;34m(self)\u001b[0m\n\u001b[1;32m    929\u001b[0m \u001b[38;5;250m\u001b[39m\u001b[38;5;124;03m\"\"\"Invoke the interpreter.\u001b[39;00m\n\u001b[1;32m    930\u001b[0m \n\u001b[1;32m    931\u001b[0m \u001b[38;5;124;03mBe sure to set the input sizes, allocate tensors and fill values before\u001b[39;00m\n\u001b[0;32m   (...)\u001b[0m\n\u001b[1;32m    938\u001b[0m \u001b[38;5;124;03m  ValueError: When the underlying interpreter fails raise ValueError.\u001b[39;00m\n\u001b[1;32m    939\u001b[0m \u001b[38;5;124;03m\"\"\"\u001b[39;00m\n\u001b[1;32m    940\u001b[0m \u001b[38;5;28mself\u001b[39m\u001b[38;5;241m.\u001b[39m_ensure_safe()\n\u001b[0;32m--> 941\u001b[0m \u001b[38;5;28;43mself\u001b[39;49m\u001b[38;5;241;43m.\u001b[39;49m\u001b[43m_interpreter\u001b[49m\u001b[38;5;241;43m.\u001b[39;49m\u001b[43mInvoke\u001b[49m\u001b[43m(\u001b[49m\u001b[43m)\u001b[49m\n",
      "\u001b[0;31mKeyboardInterrupt\u001b[0m: "
     ]
    }
   ],
   "source": [
    "print(\"Validation dataset:\")\n",
    "(\n",
    "    y_pred_val,\n",
    "    non_overlap_patritions_f1_scores_val,\n",
    "    bootstrap_patritions_f1_scores_val,\n",
    ") = predict_and_print_full_results(\n",
    "    full_int_quant_model,\n",
    "    x_val_np,\n",
    "    y_val_np,\n",
    "    model_format=\"tf_lite\",\n",
    "    input_data_uint8_type=True,\n",
    ")\n",
    "\n",
    "print(\"\\nTest dataset:\")\n",
    "(\n",
    "    y_pred_test,\n",
    "    non_overlap_patritions_f1_scores_test,\n",
    "    bootstrap_patritions_f1_scores_test,\n",
    ") = predict_and_print_full_results(\n",
    "    full_int_quant_model,\n",
    "    x_test_np,\n",
    "    y_test_np,\n",
    "    model_format=\"tf_lite\",\n",
    "    input_data_uint8_type=True,\n",
    ")\n",
    "\n",
    "print(\"\\nTime for Test dataset:\")\n",
    "evaluate_time_of_prediction(\n",
    "    full_int_quant_model,\n",
    "    x_test_np,\n",
    "    y_test_np,\n",
    "    model_format=\"tf_lite\",\n",
    "    input_data_uint8_type=True,\n",
    ")\n",
    "\n",
    "FULL_INT_QUANT_MODEL_FILE_NAME = \"time_series_models_from_notebooks/squeezenet/squeezenet30%_time_series_16kHz_full_int_q.tflite\"\n",
    "open(FULL_INT_QUANT_MODEL_FILE_NAME, \"wb\").write(full_int_quant_model)\n",
    "print(\"\\n\")\n",
    "print(\"Model file name: \", FULL_INT_QUANT_MODEL_FILE_NAME)\n",
    "convert_bytes(get_file_size(FULL_INT_QUANT_MODEL_FILE_NAME), \"MB\")"
   ]
  },
  {
   "cell_type": "markdown",
   "metadata": {},
   "source": [
    "### Float fallback"
   ]
  },
  {
   "cell_type": "code",
   "execution_count": 20,
   "metadata": {},
   "outputs": [
    {
     "name": "stdout",
     "output_type": "stream",
     "text": [
      "INFO:tensorflow:Assets written to: /tmp/tmpybb6rhno/assets\n"
     ]
    },
    {
     "name": "stderr",
     "output_type": "stream",
     "text": [
      "INFO:tensorflow:Assets written to: /tmp/tmpybb6rhno/assets\n",
      "/home/polina/newname/venv/lib/python3.9/site-packages/tensorflow/lite/python/convert.py:953: UserWarning: Statistics for quantized inputs were expected, but not specified; continuing anyway.\n",
      "  warnings.warn(\n",
      "2024-06-18 23:41:27.086769: W tensorflow/compiler/mlir/lite/python/tf_tfl_flatbuffer_helpers.cc:378] Ignored output_format.\n",
      "2024-06-18 23:41:27.086822: W tensorflow/compiler/mlir/lite/python/tf_tfl_flatbuffer_helpers.cc:381] Ignored drop_control_dependency.\n",
      "2024-06-18 23:41:27.087102: I tensorflow/cc/saved_model/reader.cc:83] Reading SavedModel from: /tmp/tmpybb6rhno\n",
      "2024-06-18 23:41:27.095430: I tensorflow/cc/saved_model/reader.cc:51] Reading meta graph with tags { serve }\n",
      "2024-06-18 23:41:27.095515: I tensorflow/cc/saved_model/reader.cc:146] Reading SavedModel debug info (if present) from: /tmp/tmpybb6rhno\n",
      "2024-06-18 23:41:27.118967: I tensorflow/cc/saved_model/loader.cc:233] Restoring SavedModel bundle.\n",
      "2024-06-18 23:41:27.329373: I tensorflow/cc/saved_model/loader.cc:217] Running initialization op on SavedModel bundle at path: /tmp/tmpybb6rhno\n",
      "2024-06-18 23:41:27.390790: I tensorflow/cc/saved_model/loader.cc:316] SavedModel load for tags { serve }; Status: success: OK. Took 303690 microseconds.\n",
      "Summary on the non-converted ops:\n",
      "---------------------------------\n",
      " * Accepted dialects: tfl, builtin, func\n",
      " * Non-Converted Ops: 72, Total Ops 164, % non-converted = 43.90 %\n",
      " * 72 ARITH ops\n",
      "\n",
      "- arith.constant:   72 occurrences  (f32: 52, i32: 20)\n",
      "\n",
      "\n",
      "\n",
      "  (f32: 8)\n",
      "  (f32: 26)\n",
      "  (f32: 21)\n",
      "  (f32: 3)\n",
      "  (f32: 1)\n",
      "  (f32: 29)\n",
      "  (f32: 1)\n",
      "2024-06-18 23:41:27.719672: W external/local_tsl/tsl/framework/cpu_allocator_impl.cc:83] Allocation of 267456000 exceeds 10% of free system memory.\n",
      "2024-06-18 23:41:27.834436: W external/local_tsl/tsl/framework/cpu_allocator_impl.cc:83] Allocation of 267456000 exceeds 10% of free system memory.\n",
      "fully_quantize: 0, inference_type: 6, input_inference_type: FLOAT32, output_inference_type: FLOAT32\n"
     ]
    }
   ],
   "source": [
    "float_fallback_quant_converter = tf.lite.TFLiteConverter.from_keras_model(\n",
    "    baseline_model\n",
    ")\n",
    "float_fallback_quant_converter.optimizations = [tf.lite.Optimize.DEFAULT]\n",
    "float_fallback_quant_converter.representative_dataset = representative_data_gen\n",
    "float_fallback_quant_model = float_fallback_quant_converter.convert()"
   ]
  },
  {
   "cell_type": "code",
   "execution_count": 21,
   "metadata": {},
   "outputs": [
    {
     "name": "stdout",
     "output_type": "stream",
     "text": [
      "Validation dataset:\n",
      "Basic assessment of the whole dataset (without any partitions):\n",
      "Accuracy: 65.80%\n",
      "Recall: 0.00%\n",
      "Precision: 0.00%\n",
      "F1-score: 0.00%\n",
      "\n",
      "Devide dataset into 10 non-overlapping patritions and get their mean F1-score\n"
     ]
    },
    {
     "name": "stderr",
     "output_type": "stream",
     "text": [
      "/home/polina/newname/venv/lib/python3.9/site-packages/sklearn/metrics/_classification.py:1517: UndefinedMetricWarning: Precision is ill-defined and being set to 0.0 due to no predicted samples. Use `zero_division` parameter to control this behavior.\n",
      "  _warn_prf(average, modifier, f\"{metric.capitalize()} is\", len(result))\n"
     ]
    },
    {
     "name": "stdout",
     "output_type": "stream",
     "text": [
      "Non-overlap mean F1-score:  0.0\n",
      "\n",
      "Get 100 bootstrap samples from dataset with 100 samples each and get their mean F1-score\n",
      "Bootstrap mean F1-score:  0.0\n",
      "\n",
      "Test dataset:\n",
      "Basic assessment of the whole dataset (without any partitions):\n",
      "Accuracy: 67.12%\n",
      "Recall: 0.00%\n",
      "Precision: 0.00%\n",
      "F1-score: 0.00%\n",
      "\n",
      "Devide dataset into 10 non-overlapping patritions and get their mean F1-score\n"
     ]
    },
    {
     "name": "stderr",
     "output_type": "stream",
     "text": [
      "/home/polina/newname/venv/lib/python3.9/site-packages/sklearn/metrics/_classification.py:1517: UndefinedMetricWarning: Precision is ill-defined and being set to 0.0 due to no predicted samples. Use `zero_division` parameter to control this behavior.\n",
      "  _warn_prf(average, modifier, f\"{metric.capitalize()} is\", len(result))\n"
     ]
    },
    {
     "name": "stdout",
     "output_type": "stream",
     "text": [
      "Non-overlap mean F1-score:  0.0\n",
      "\n",
      "Get 100 bootstrap samples from dataset with 100 samples each and get their mean F1-score\n",
      "Bootstrap mean F1-score:  0.0\n",
      "\n",
      "Time for Test dataset:\n",
      "Accuracy: 67.12%\n",
      "Recall: 0.00%\n",
      "Precision: 0.00%\n",
      "F1-score: 0.00%\n",
      "\n",
      "Time to make a prediction for a single data point\n",
      "Mean: 0.014 seconds\n",
      "Max: 0.028 seconds\n",
      "Min: 0.012 seconds\n",
      "\n",
      "\n",
      "Model file name:  time_series_models_from_notebooks/squeezenet/squeezenet30%_time_series_16kHz_float_fallback_q.tflite\n",
      "File size: 0.085 Megabytes\n"
     ]
    },
    {
     "name": "stderr",
     "output_type": "stream",
     "text": [
      "/home/polina/newname/venv/lib/python3.9/site-packages/sklearn/metrics/_classification.py:1517: UndefinedMetricWarning: Precision is ill-defined and being set to 0.0 due to no predicted samples. Use `zero_division` parameter to control this behavior.\n",
      "  _warn_prf(average, modifier, f\"{metric.capitalize()} is\", len(result))\n"
     ]
    }
   ],
   "source": [
    "print(\"Validation dataset:\")\n",
    "(\n",
    "    y_pred_val,\n",
    "    non_overlap_patritions_f1_scores_val,\n",
    "    bootstrap_patritions_f1_scores_val,\n",
    ") = predict_and_print_full_results(\n",
    "    float_fallback_quant_model, x_val_np, y_val_np, model_format=\"tf_lite\"\n",
    ")\n",
    "\n",
    "print(\"\\nTest dataset:\")\n",
    "(\n",
    "    y_pred_test,\n",
    "    non_overlap_patritions_f1_scores_test,\n",
    "    bootstrap_patritions_f1_scores_test,\n",
    ") = predict_and_print_full_results(\n",
    "    float_fallback_quant_model, x_test_np, y_test_np, model_format=\"tf_lite\"\n",
    ")\n",
    "\n",
    "print(\"\\nTime for Test dataset:\")\n",
    "evaluate_time_of_prediction(\n",
    "    float_fallback_quant_model, x_test_np, y_test_np, model_format=\"tf_lite\"\n",
    ")\n",
    "\n",
    "FLOAT_FALLBACK_QUANT_MODEL_FILE_NAME = \"time_series_models_from_notebooks/squeezenet/squeezenet30%_time_series_16kHz_float_fallback_q.tflite\"\n",
    "open(FLOAT_FALLBACK_QUANT_MODEL_FILE_NAME, \"wb\").write(float_fallback_quant_model)\n",
    "print(\"\\n\")\n",
    "print(\"Model file name: \", FLOAT_FALLBACK_QUANT_MODEL_FILE_NAME)\n",
    "convert_bytes(get_file_size(FLOAT_FALLBACK_QUANT_MODEL_FILE_NAME), \"MB\")"
   ]
  },
  {
   "cell_type": "code",
   "execution_count": null,
   "metadata": {},
   "outputs": [],
   "source": []
  }
 ],
 "metadata": {
  "kernelspec": {
   "display_name": "ag14",
   "language": "python",
   "name": "python3"
  },
  "language_info": {
   "codemirror_mode": {
    "name": "ipython",
    "version": 3
   },
   "file_extension": ".py",
   "mimetype": "text/x-python",
   "name": "python",
   "nbconvert_exporter": "python",
   "pygments_lexer": "ipython3",
   "version": "3.9.19"
  }
 },
 "nbformat": 4,
 "nbformat_minor": 2
}
