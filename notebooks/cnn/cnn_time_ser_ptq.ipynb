{
 "cells": [
  {
   "cell_type": "code",
   "execution_count": 10,
   "metadata": {},
   "outputs": [
    {
     "name": "stdout",
     "output_type": "stream",
     "text": [
      "The autoreload extension is already loaded. To reload it, use:\n",
      "  %reload_ext autoreload\n"
     ]
    }
   ],
   "source": [
    "%load_ext autoreload\n",
    "%autoreload 2"
   ]
  },
  {
   "cell_type": "code",
   "execution_count": 11,
   "metadata": {},
   "outputs": [],
   "source": [
    "import sys\n",
    "import os\n",
    "sys.path.append(os.path.abspath(os.path.join(os.getcwd(), '../../')))\n",
    "\n",
    "import tensorflow as tf\n",
    "import numpy as np\n",
    "\n",
    "import time\n",
    "\n",
    "import random\n",
    "tf.random.set_seed(3407)\n",
    "np.random.seed(3407)\n",
    "random.seed(3407)\n",
    "\n",
    "from notebooks.helper_functions import (\n",
    "    evaluate_prediction,\n",
    "    get_file_size, \n",
    "    convert_bytes, \n",
    "    convert_prefetchdataset_to_numpy_arrays,\n",
    "    predict_and_print_full_results,\n",
    "    evaluate_time_of_prediction,\n",
    "    full_int_model_predict,\n",
    "    get_f1_scores_of_non_overlapping_partitions_full_int_q,\n",
    "    get_f1_scores_of_bootstraping_partitions_full_int_q,\n",
    "    )"
   ]
  },
  {
   "cell_type": "code",
   "execution_count": 12,
   "metadata": {},
   "outputs": [
    {
     "name": "stdout",
     "output_type": "stream",
     "text": [
      "Found 11292 files belonging to 2 classes.\n",
      "WARNING:tensorflow:Using a while_loop for converting IO>AudioResample cause there is no registered converter for this op.\n",
      "Found 1393 files belonging to 2 classes.\n",
      "WARNING:tensorflow:Using a while_loop for converting IO>AudioResample cause there is no registered converter for this op.\n",
      "Found 1380 files belonging to 2 classes.\n",
      "WARNING:tensorflow:Using a while_loop for converting IO>AudioResample cause there is no registered converter for this op.\n",
      "Classes:  ['non_target' 'target']\n"
     ]
    }
   ],
   "source": [
    "train_dataset = tf.keras.utils.audio_dataset_from_directory(\"../../dataset/training\", labels='inferred', sampling_rate=16000, batch_size=32, shuffle=True, seed=3407)\n",
    "test_dataset = tf.keras.utils.audio_dataset_from_directory(\"../../dataset/testing\", labels='inferred', sampling_rate=16000, batch_size=32, shuffle=True, seed=3407)\n",
    "val_dataset = tf.keras.utils.audio_dataset_from_directory(\"../../dataset/validation\", labels='inferred', sampling_rate=16000, batch_size=32, shuffle=True, seed=3407)\n",
    "\n",
    "label_names = np.array(test_dataset.class_names)\n",
    "print(\"Classes: \", label_names)"
   ]
  },
  {
   "cell_type": "code",
   "execution_count": 13,
   "metadata": {},
   "outputs": [],
   "source": [
    "x_train_np, y_train_np = convert_prefetchdataset_to_numpy_arrays(train_dataset, data_type=\"time-series\")\n",
    "x_val_np, y_val_np = convert_prefetchdataset_to_numpy_arrays(val_dataset, data_type=\"time-series\")\n",
    "x_test_np, y_test_np = convert_prefetchdataset_to_numpy_arrays(test_dataset, data_type=\"time-series\")"
   ]
  },
  {
   "cell_type": "code",
   "execution_count": 35,
   "metadata": {},
   "outputs": [
    {
     "name": "stdout",
     "output_type": "stream",
     "text": [
      "Model: \"sequential_11\"\n",
      "_________________________________________________________________\n",
      " Layer (type)                Output Shape              Param #   \n",
      "=================================================================\n",
      " conv1d_21 (Conv1D)          (None, 47996, 4)          24        \n",
      "                                                                 \n",
      " max_pooling1d_21 (MaxPooli  (None, 5999, 4)           0         \n",
      " ng1D)                                                           \n",
      "                                                                 \n",
      " conv1d_22 (Conv1D)          (None, 5995, 4)           84        \n",
      "                                                                 \n",
      " max_pooling1d_22 (MaxPooli  (None, 749, 4)            0         \n",
      " ng1D)                                                           \n",
      "                                                                 \n",
      " conv1d_23 (Conv1D)          (None, 745, 8)            168       \n",
      "                                                                 \n",
      " max_pooling1d_23 (MaxPooli  (None, 93, 8)             0         \n",
      " ng1D)                                                           \n",
      "                                                                 \n",
      " flatten_11 (Flatten)        (None, 744)               0         \n",
      "                                                                 \n",
      " dense_22 (Dense)            (None, 12)                8940      \n",
      "                                                                 \n",
      " dense_23 (Dense)            (None, 2)                 26        \n",
      "                                                                 \n",
      "=================================================================\n",
      "Total params: 9242 (36.10 KB)\n",
      "Trainable params: 9242 (36.10 KB)\n",
      "Non-trainable params: 0 (0.00 Byte)\n",
      "_________________________________________________________________\n",
      "File size: 0.149 Megabytes\n"
     ]
    }
   ],
   "source": [
    "BASE_MODEL_FILE_NAME = \"../../models/time_series_models_from_notebooks/cnn/hpo/cnn_time_ser_3_conv_layer_model.keras\"\n",
    "baseline_model = tf.keras.models.load_model(BASE_MODEL_FILE_NAME)\n",
    "baseline_model.summary()\n",
    "convert_bytes(get_file_size(BASE_MODEL_FILE_NAME), \"MB\")"
   ]
  },
  {
   "cell_type": "code",
   "execution_count": 36,
   "metadata": {},
   "outputs": [
    {
     "name": "stdout",
     "output_type": "stream",
     "text": [
      "44/44 [==============================] - 2s 44ms/step\n",
      "Basic assessment of the whole dataset (without any partitions):\n",
      "Accuracy: 98.56%\n",
      "Recall: 96.51%\n",
      "Precision: 99.10%\n",
      "F1-score: 97.79%\n",
      "\n",
      "Devide dataset into 10 non-overlapping patritions and get their mean F1-score\n",
      "Non-overlap mean F1-score:  0.9770420356059069\n",
      "\n",
      "Get 100 bootstrap samples from dataset with 100 samples each and get their mean F1-score\n",
      "Bootstrap mean F1-score:  0.9774609849814141\n"
     ]
    }
   ],
   "source": [
    "(\n",
    "    y_pred_test, \n",
    "    non_overlap_patritions_f1_scores_test, \n",
    "    bootstrap_patritions_f1_scores_test,\n",
    ") = predict_and_print_full_results(baseline_model, x_test_np, y_test_np, model_format=\"keras\")\n"
   ]
  },
  {
   "cell_type": "markdown",
   "metadata": {},
   "source": [
    "### Convert to TF Lite format"
   ]
  },
  {
   "cell_type": "code",
   "execution_count": 20,
   "metadata": {},
   "outputs": [
    {
     "name": "stdout",
     "output_type": "stream",
     "text": [
      "INFO:tensorflow:Assets written to: /tmp/tmphdaeg9p5/assets\n"
     ]
    },
    {
     "name": "stderr",
     "output_type": "stream",
     "text": [
      "INFO:tensorflow:Assets written to: /tmp/tmphdaeg9p5/assets\n",
      "2024-09-22 18:07:15.948157: W tensorflow/compiler/mlir/lite/python/tf_tfl_flatbuffer_helpers.cc:378] Ignored output_format.\n",
      "2024-09-22 18:07:15.948407: W tensorflow/compiler/mlir/lite/python/tf_tfl_flatbuffer_helpers.cc:381] Ignored drop_control_dependency.\n",
      "2024-09-22 18:07:15.949104: I tensorflow/cc/saved_model/reader.cc:83] Reading SavedModel from: /tmp/tmphdaeg9p5\n",
      "2024-09-22 18:07:15.952732: I tensorflow/cc/saved_model/reader.cc:51] Reading meta graph with tags { serve }\n",
      "2024-09-22 18:07:15.952766: I tensorflow/cc/saved_model/reader.cc:146] Reading SavedModel debug info (if present) from: /tmp/tmphdaeg9p5\n",
      "2024-09-22 18:07:15.956963: I tensorflow/cc/saved_model/loader.cc:233] Restoring SavedModel bundle.\n",
      "2024-09-22 18:07:16.013770: I tensorflow/cc/saved_model/loader.cc:217] Running initialization op on SavedModel bundle at path: /tmp/tmphdaeg9p5\n",
      "2024-09-22 18:07:16.035012: I tensorflow/cc/saved_model/loader.cc:316] SavedModel load for tags { serve }; Status: success: OK. Took 85881 microseconds.\n",
      "Summary on the non-converted ops:\n",
      "---------------------------------\n",
      " * Accepted dialects: tfl, builtin, func\n",
      " * Non-Converted Ops: 18, Total Ops 45, % non-converted = 40.00 %\n",
      " * 18 ARITH ops\n",
      "\n",
      "- arith.constant:   18 occurrences  (f32: 10, i32: 8)\n",
      "\n",
      "\n",
      "\n",
      "  (f32: 3)\n",
      "  (f32: 6)\n",
      "  (f32: 2)\n",
      "  (f32: 1)\n",
      "  (f32: 3)\n",
      "  (f32: 6)\n",
      "  (f32: 3)\n"
     ]
    }
   ],
   "source": [
    "converter = tf.lite.TFLiteConverter.from_keras_model(baseline_model)\n",
    "tflite_model = converter.convert()"
   ]
  },
  {
   "cell_type": "code",
   "execution_count": 21,
   "metadata": {},
   "outputs": [
    {
     "name": "stdout",
     "output_type": "stream",
     "text": [
      "Validation dataset:\n",
      "Basic assessment of the whole dataset (without any partitions):\n",
      "Accuracy: 98.26%\n",
      "Recall: 96.61%\n",
      "Precision: 98.28%\n",
      "F1-score: 97.44%\n",
      "\n",
      "Devide dataset into 10 non-overlapping patritions and get their mean F1-score\n",
      "Non-overlap mean F1-score:  0.9748849299738644\n",
      "\n",
      "Get 100 bootstrap samples from dataset with 100 samples each and get their mean F1-score\n",
      "Bootstrap mean F1-score:  0.9733967700475985\n",
      "\n",
      "Test dataset:\n",
      "Basic assessment of the whole dataset (without any partitions):\n",
      "Accuracy: 98.56%\n",
      "Recall: 96.51%\n",
      "Precision: 99.10%\n",
      "F1-score: 97.79%\n",
      "\n",
      "Devide dataset into 10 non-overlapping patritions and get their mean F1-score\n",
      "Non-overlap mean F1-score:  0.9770420356059069\n",
      "\n",
      "Get 100 bootstrap samples from dataset with 100 samples each and get their mean F1-score\n",
      "Bootstrap mean F1-score:  0.9774812327623107\n",
      "\n",
      "Time for Test dataset:\n",
      "Accuracy: 98.56%\n",
      "Recall: 96.51%\n",
      "Precision: 99.10%\n",
      "F1-score: 97.79%\n",
      "\n",
      "Time to make a prediction for a single data point\n",
      "Mean: 0.003 seconds\n",
      "Max: 0.012 seconds\n",
      "Min: 0.002 seconds\n",
      "\n",
      "\n",
      "Model file name:  ../../models/time_series_models_from_notebooks/cnn/quantized/cnn_time_series.tflite\n",
      "File size: 0.043 Megabytes\n"
     ]
    }
   ],
   "source": [
    "print(\"Validation dataset:\")\n",
    "(\n",
    "    y_pred_val, \n",
    "    non_overlap_patritions_f1_scores_val, \n",
    "    bootstrap_patritions_f1_scores_val,\n",
    "    ) = predict_and_print_full_results(tflite_model, x_val_np, y_val_np, model_format=\"tf_lite\")\n",
    "\n",
    "print(\"\\nTest dataset:\")\n",
    "(\n",
    "    y_pred_test, \n",
    "    non_overlap_patritions_f1_scores_test, \n",
    "    bootstrap_patritions_f1_scores_test,\n",
    "    ) = predict_and_print_full_results(tflite_model, x_test_np, y_test_np, model_format=\"tf_lite\")\n",
    "\n",
    "print(\"\\nTime for Test dataset:\")\n",
    "evaluate_time_of_prediction(tflite_model, x_test_np, y_test_np, model_format=\"tf_lite\")\n",
    "\n",
    "TF_LITE_MODEL_FILE_NAME = \"../../models/time_series_models_from_notebooks/cnn/quantized/cnn_time_series.tflite\"\n",
    "open(TF_LITE_MODEL_FILE_NAME, \"wb\").write(tflite_model)\n",
    "print(\"\\n\")\n",
    "print(\"Model file name: \", TF_LITE_MODEL_FILE_NAME)\n",
    "convert_bytes(get_file_size(TF_LITE_MODEL_FILE_NAME), \"MB\")"
   ]
  },
  {
   "cell_type": "code",
   "execution_count": 22,
   "metadata": {},
   "outputs": [
    {
     "name": "stdout",
     "output_type": "stream",
     "text": [
      "File size: 44.035 Kilobytes\n"
     ]
    },
    {
     "data": {
      "text/plain": [
       "'44.035 Kilobytes'"
      ]
     },
     "execution_count": 22,
     "metadata": {},
     "output_type": "execute_result"
    }
   ],
   "source": [
    "convert_bytes(get_file_size(TF_LITE_MODEL_FILE_NAME), \"KB\")"
   ]
  },
  {
   "cell_type": "code",
   "execution_count": null,
   "metadata": {},
   "outputs": [],
   "source": []
  },
  {
   "cell_type": "markdown",
   "metadata": {},
   "source": [
    "### Dynamic range quantization"
   ]
  },
  {
   "cell_type": "code",
   "execution_count": 23,
   "metadata": {},
   "outputs": [
    {
     "name": "stdout",
     "output_type": "stream",
     "text": [
      "INFO:tensorflow:Assets written to: /tmp/tmp7y5rlzl0/assets\n"
     ]
    },
    {
     "name": "stderr",
     "output_type": "stream",
     "text": [
      "INFO:tensorflow:Assets written to: /tmp/tmp7y5rlzl0/assets\n",
      "2024-09-22 18:07:45.142103: W tensorflow/compiler/mlir/lite/python/tf_tfl_flatbuffer_helpers.cc:378] Ignored output_format.\n",
      "2024-09-22 18:07:45.142159: W tensorflow/compiler/mlir/lite/python/tf_tfl_flatbuffer_helpers.cc:381] Ignored drop_control_dependency.\n",
      "2024-09-22 18:07:45.142362: I tensorflow/cc/saved_model/reader.cc:83] Reading SavedModel from: /tmp/tmp7y5rlzl0\n",
      "2024-09-22 18:07:45.143758: I tensorflow/cc/saved_model/reader.cc:51] Reading meta graph with tags { serve }\n",
      "2024-09-22 18:07:45.143773: I tensorflow/cc/saved_model/reader.cc:146] Reading SavedModel debug info (if present) from: /tmp/tmp7y5rlzl0\n",
      "2024-09-22 18:07:45.147043: I tensorflow/cc/saved_model/loader.cc:233] Restoring SavedModel bundle.\n",
      "2024-09-22 18:07:45.201781: I tensorflow/cc/saved_model/loader.cc:217] Running initialization op on SavedModel bundle at path: /tmp/tmp7y5rlzl0\n",
      "2024-09-22 18:07:45.220004: I tensorflow/cc/saved_model/loader.cc:316] SavedModel load for tags { serve }; Status: success: OK. Took 77642 microseconds.\n",
      "Summary on the non-converted ops:\n",
      "---------------------------------\n",
      " * Accepted dialects: tfl, builtin, func\n",
      " * Non-Converted Ops: 17, Total Ops 45, % non-converted = 37.78 %\n",
      " * 17 ARITH ops\n",
      "\n",
      "- arith.constant:   17 occurrences  (f32: 9, i32: 8)\n",
      "\n",
      "\n",
      "\n",
      "  (f32: 3)\n",
      "  (f32: 6)\n",
      "  (f32: 2)\n",
      "  (f32: 1)\n",
      "  (f32: 3)\n",
      "  (uq_8: 1)\n",
      "  (f32: 6)\n",
      "  (f32: 3)\n"
     ]
    }
   ],
   "source": [
    "dynamic_range_quant_converter = tf.lite.TFLiteConverter.from_keras_model(baseline_model)\n",
    "dynamic_range_quant_converter.optimizations = [tf.lite.Optimize.DEFAULT]\n",
    "dynamic_range_quant_model = dynamic_range_quant_converter.convert()"
   ]
  },
  {
   "cell_type": "code",
   "execution_count": 24,
   "metadata": {},
   "outputs": [
    {
     "name": "stdout",
     "output_type": "stream",
     "text": [
      "Validation dataset:\n",
      "Basic assessment of the whole dataset (without any partitions):\n",
      "Accuracy: 98.26%\n",
      "Recall: 96.61%\n",
      "Precision: 98.28%\n",
      "F1-score: 97.44%\n",
      "\n",
      "Devide dataset into 10 non-overlapping patritions and get their mean F1-score\n",
      "Non-overlap mean F1-score:  0.9748849299738644\n",
      "\n",
      "Get 100 bootstrap samples from dataset with 100 samples each and get their mean F1-score\n",
      "Bootstrap mean F1-score:  0.9706781288304808\n",
      "\n",
      "Test dataset:\n",
      "Basic assessment of the whole dataset (without any partitions):\n",
      "Accuracy: 98.56%\n",
      "Recall: 96.51%\n",
      "Precision: 99.10%\n",
      "F1-score: 97.79%\n",
      "\n",
      "Devide dataset into 10 non-overlapping patritions and get their mean F1-score\n",
      "Non-overlap mean F1-score:  0.9770420356059069\n",
      "\n",
      "Get 100 bootstrap samples from dataset with 100 samples each and get their mean F1-score\n",
      "Bootstrap mean F1-score:  0.9778918475491608\n",
      "\n",
      "Time for Test dataset:\n",
      "Accuracy: 98.56%\n",
      "Recall: 96.51%\n",
      "Precision: 99.10%\n",
      "F1-score: 97.79%\n",
      "\n",
      "Time to make a prediction for a single data point\n",
      "Mean: 0.003 seconds\n",
      "Max: 0.01 seconds\n",
      "Min: 0.002 seconds\n",
      "\n",
      "\n",
      "Model file name:  ../../models/time_series_models_from_notebooks/cnn/quantized/cnn_time_series_drq.tflite\n",
      "File size: 0.018 Megabytes\n"
     ]
    }
   ],
   "source": [
    "print(\"Validation dataset:\")\n",
    "(\n",
    "    y_pred_val, \n",
    "    non_overlap_patritions_f1_scores_val, \n",
    "    bootstrap_patritions_f1_scores_val,\n",
    "    ) = predict_and_print_full_results(dynamic_range_quant_model, x_val_np, y_val_np, model_format=\"tf_lite\")\n",
    "\n",
    "print(\"\\nTest dataset:\")\n",
    "(\n",
    "    y_pred_test, \n",
    "    non_overlap_patritions_f1_scores_test, \n",
    "    bootstrap_patritions_f1_scores_test,\n",
    "    ) = predict_and_print_full_results(dynamic_range_quant_model, x_test_np, y_test_np, model_format=\"tf_lite\")\n",
    "\n",
    "print(\"\\nTime for Test dataset:\")\n",
    "evaluate_time_of_prediction(dynamic_range_quant_model, x_test_np, y_test_np, model_format=\"tf_lite\")\n",
    "\n",
    "DRQ_MODEL_FILE_NAME = \"../../models/time_series_models_from_notebooks/cnn/quantized/cnn_time_series_drq.tflite\"\n",
    "open(DRQ_MODEL_FILE_NAME, \"wb\").write(dynamic_range_quant_model)\n",
    "print(\"\\n\")\n",
    "print(\"Model file name: \", DRQ_MODEL_FILE_NAME)\n",
    "convert_bytes(get_file_size(DRQ_MODEL_FILE_NAME), \"MB\")"
   ]
  },
  {
   "cell_type": "code",
   "execution_count": 25,
   "metadata": {},
   "outputs": [
    {
     "name": "stdout",
     "output_type": "stream",
     "text": [
      "File size: 17.953 Kilobytes\n"
     ]
    },
    {
     "data": {
      "text/plain": [
       "'17.953 Kilobytes'"
      ]
     },
     "execution_count": 25,
     "metadata": {},
     "output_type": "execute_result"
    }
   ],
   "source": [
    "convert_bytes(get_file_size(DRQ_MODEL_FILE_NAME), \"KB\")"
   ]
  },
  {
   "cell_type": "code",
   "execution_count": null,
   "metadata": {},
   "outputs": [],
   "source": []
  },
  {
   "cell_type": "markdown",
   "metadata": {},
   "source": [
    "### Float16 quantization"
   ]
  },
  {
   "cell_type": "code",
   "execution_count": 26,
   "metadata": {},
   "outputs": [
    {
     "name": "stdout",
     "output_type": "stream",
     "text": [
      "INFO:tensorflow:Assets written to: /tmp/tmp3b_m9n4e/assets\n"
     ]
    },
    {
     "name": "stderr",
     "output_type": "stream",
     "text": [
      "INFO:tensorflow:Assets written to: /tmp/tmp3b_m9n4e/assets\n",
      "2024-09-22 18:08:18.104493: W tensorflow/compiler/mlir/lite/python/tf_tfl_flatbuffer_helpers.cc:378] Ignored output_format.\n",
      "2024-09-22 18:08:18.104575: W tensorflow/compiler/mlir/lite/python/tf_tfl_flatbuffer_helpers.cc:381] Ignored drop_control_dependency.\n",
      "2024-09-22 18:08:18.104761: I tensorflow/cc/saved_model/reader.cc:83] Reading SavedModel from: /tmp/tmp3b_m9n4e\n",
      "2024-09-22 18:08:18.106884: I tensorflow/cc/saved_model/reader.cc:51] Reading meta graph with tags { serve }\n",
      "2024-09-22 18:08:18.106914: I tensorflow/cc/saved_model/reader.cc:146] Reading SavedModel debug info (if present) from: /tmp/tmp3b_m9n4e\n",
      "2024-09-22 18:08:18.110474: I tensorflow/cc/saved_model/loader.cc:233] Restoring SavedModel bundle.\n",
      "2024-09-22 18:08:18.163186: I tensorflow/cc/saved_model/loader.cc:217] Running initialization op on SavedModel bundle at path: /tmp/tmp3b_m9n4e\n",
      "2024-09-22 18:08:18.197997: I tensorflow/cc/saved_model/loader.cc:316] SavedModel load for tags { serve }; Status: success: OK. Took 93235 microseconds.\n",
      "Summary on the non-converted ops:\n",
      "---------------------------------\n",
      " * Accepted dialects: tfl, builtin, func\n",
      " * Non-Converted Ops: 18, Total Ops 55, % non-converted = 32.73 %\n",
      " * 18 ARITH ops\n",
      "\n",
      "- arith.constant:   18 occurrences  (f16: 10, i32: 8)\n",
      "\n",
      "\n",
      "\n",
      "  (f32: 3)\n",
      "  (f32: 10)\n",
      "  (f32: 6)\n",
      "  (f32: 2)\n",
      "  (f32: 1)\n",
      "  (f32: 3)\n",
      "  (f32: 6)\n",
      "  (f32: 3)\n"
     ]
    }
   ],
   "source": [
    "float16_quant_converter = tf.lite.TFLiteConverter.from_keras_model(baseline_model)\n",
    "float16_quant_converter.optimizations = [tf.lite.Optimize.DEFAULT]\n",
    "float16_quant_converter.target_spec.supported_types = [tf.float16]\n",
    "float16_quant_model = float16_quant_converter.convert()"
   ]
  },
  {
   "cell_type": "code",
   "execution_count": 27,
   "metadata": {},
   "outputs": [
    {
     "name": "stdout",
     "output_type": "stream",
     "text": [
      "Validation dataset:\n",
      "Basic assessment of the whole dataset (without any partitions):\n",
      "Accuracy: 98.26%\n",
      "Recall: 96.61%\n",
      "Precision: 98.28%\n",
      "F1-score: 97.44%\n",
      "\n",
      "Devide dataset into 10 non-overlapping patritions and get their mean F1-score\n",
      "Non-overlap mean F1-score:  0.9748849299738644\n",
      "\n",
      "Get 100 bootstrap samples from dataset with 100 samples each and get their mean F1-score\n",
      "Bootstrap mean F1-score:  0.97684602966927\n",
      "\n",
      "Test dataset:\n",
      "Basic assessment of the whole dataset (without any partitions):\n",
      "Accuracy: 98.56%\n",
      "Recall: 96.51%\n",
      "Precision: 99.10%\n",
      "F1-score: 97.79%\n",
      "\n",
      "Devide dataset into 10 non-overlapping patritions and get their mean F1-score\n",
      "Non-overlap mean F1-score:  0.9770420356059069\n",
      "\n",
      "Get 100 bootstrap samples from dataset with 100 samples each and get their mean F1-score\n",
      "Bootstrap mean F1-score:  0.9802228826492851\n",
      "\n",
      "Time for Test dataset:\n",
      "Accuracy: 98.56%\n",
      "Recall: 96.51%\n",
      "Precision: 99.10%\n",
      "F1-score: 97.79%\n",
      "\n",
      "Time to make a prediction for a single data point\n",
      "Mean: 0.003 seconds\n",
      "Max: 0.014 seconds\n",
      "Min: 0.002 seconds\n",
      "\n",
      "\n",
      "Model file name:  ../../models/time_series_models_from_notebooks/cnn/quantized/cnn_time_series_float16q.tflite\n",
      "File size: 0.027 Megabytes\n"
     ]
    }
   ],
   "source": [
    "print(\"Validation dataset:\")\n",
    "(\n",
    "    y_pred_val, \n",
    "    non_overlap_patritions_f1_scores_val, \n",
    "    bootstrap_patritions_f1_scores_val,\n",
    "    ) = predict_and_print_full_results(float16_quant_model, x_val_np, y_val_np, model_format=\"tf_lite\")\n",
    "\n",
    "print(\"\\nTest dataset:\")\n",
    "(\n",
    "    y_pred_test, \n",
    "    non_overlap_patritions_f1_scores_test, \n",
    "    bootstrap_patritions_f1_scores_test,\n",
    "    ) = predict_and_print_full_results(float16_quant_model, x_test_np, y_test_np, model_format=\"tf_lite\")\n",
    "\n",
    "print(\"\\nTime for Test dataset:\")\n",
    "evaluate_time_of_prediction(float16_quant_model, x_test_np, y_test_np, model_format=\"tf_lite\")\n",
    "\n",
    "FLOAT16_QUANT_MODEL_FILE_NAME = \"../../models/time_series_models_from_notebooks/cnn/quantized/cnn_time_series_float16q.tflite\"\n",
    "open(FLOAT16_QUANT_MODEL_FILE_NAME, \"wb\").write(float16_quant_model)\n",
    "print(\"\\n\")\n",
    "print(\"Model file name: \", FLOAT16_QUANT_MODEL_FILE_NAME)\n",
    "convert_bytes(get_file_size(FLOAT16_QUANT_MODEL_FILE_NAME), \"MB\")"
   ]
  },
  {
   "cell_type": "code",
   "execution_count": 28,
   "metadata": {},
   "outputs": [
    {
     "name": "stdout",
     "output_type": "stream",
     "text": [
      "File size: 27.406 Kilobytes\n"
     ]
    },
    {
     "data": {
      "text/plain": [
       "'27.406 Kilobytes'"
      ]
     },
     "execution_count": 28,
     "metadata": {},
     "output_type": "execute_result"
    }
   ],
   "source": [
    "convert_bytes(get_file_size(FLOAT16_QUANT_MODEL_FILE_NAME), \"KB\")"
   ]
  },
  {
   "cell_type": "code",
   "execution_count": null,
   "metadata": {},
   "outputs": [],
   "source": []
  },
  {
   "cell_type": "markdown",
   "metadata": {},
   "source": [
    "### Full integer quantization"
   ]
  },
  {
   "cell_type": "code",
   "execution_count": 29,
   "metadata": {},
   "outputs": [
    {
     "name": "stdout",
     "output_type": "stream",
     "text": [
      "INFO:tensorflow:Assets written to: /tmp/tmp5dixik_g/assets\n"
     ]
    },
    {
     "name": "stderr",
     "output_type": "stream",
     "text": [
      "INFO:tensorflow:Assets written to: /tmp/tmp5dixik_g/assets\n",
      "/home/polina/newname/.venv/lib/python3.9/site-packages/tensorflow/lite/python/convert.py:953: UserWarning: Statistics for quantized inputs were expected, but not specified; continuing anyway.\n",
      "  warnings.warn(\n",
      "2024-09-22 18:08:54.574566: W tensorflow/compiler/mlir/lite/python/tf_tfl_flatbuffer_helpers.cc:378] Ignored output_format.\n",
      "2024-09-22 18:08:54.574611: W tensorflow/compiler/mlir/lite/python/tf_tfl_flatbuffer_helpers.cc:381] Ignored drop_control_dependency.\n",
      "2024-09-22 18:08:54.574767: I tensorflow/cc/saved_model/reader.cc:83] Reading SavedModel from: /tmp/tmp5dixik_g\n",
      "2024-09-22 18:08:54.576262: I tensorflow/cc/saved_model/reader.cc:51] Reading meta graph with tags { serve }\n",
      "2024-09-22 18:08:54.576275: I tensorflow/cc/saved_model/reader.cc:146] Reading SavedModel debug info (if present) from: /tmp/tmp5dixik_g\n",
      "2024-09-22 18:08:54.580656: I tensorflow/cc/saved_model/loader.cc:233] Restoring SavedModel bundle.\n",
      "2024-09-22 18:08:54.630602: I tensorflow/cc/saved_model/loader.cc:217] Running initialization op on SavedModel bundle at path: /tmp/tmp5dixik_g\n",
      "2024-09-22 18:08:54.645882: I tensorflow/cc/saved_model/loader.cc:316] SavedModel load for tags { serve }; Status: success: OK. Took 71111 microseconds.\n",
      "Summary on the non-converted ops:\n",
      "---------------------------------\n",
      " * Accepted dialects: tfl, builtin, func\n",
      " * Non-Converted Ops: 18, Total Ops 45, % non-converted = 40.00 %\n",
      " * 18 ARITH ops\n",
      "\n",
      "- arith.constant:   18 occurrences  (f32: 10, i32: 8)\n",
      "\n",
      "\n",
      "\n",
      "  (f32: 3)\n",
      "  (f32: 6)\n",
      "  (f32: 2)\n",
      "  (f32: 1)\n",
      "  (f32: 3)\n",
      "  (f32: 6)\n",
      "  (f32: 3)\n",
      "fully_quantize: 0, inference_type: 6, input_inference_type: UINT8, output_inference_type: UINT8\n"
     ]
    }
   ],
   "source": [
    "def representative_data_gen():\n",
    "  for input_value in tf.data.Dataset.from_tensor_slices(x_val_np).batch(1).take(5000):\n",
    "    yield [input_value]\n",
    "\n",
    "full_int_converter = tf.lite.TFLiteConverter.from_keras_model(baseline_model)\n",
    "full_int_converter.optimizations = [tf.lite.Optimize.DEFAULT]\n",
    "full_int_converter.representative_dataset = representative_data_gen\n",
    "# Ensure that if any ops can't be quantized, the converter throws an error\n",
    "full_int_converter.target_spec.supported_ops = [tf.lite.OpsSet.TFLITE_BUILTINS_INT8]\n",
    "# Set the input and output tensors to uint8 (APIs added in r2.3)\n",
    "full_int_converter.inference_input_type = tf.uint8\n",
    "full_int_converter.inference_output_type = tf.uint8\n",
    "\n",
    "full_int_model = full_int_converter.convert()"
   ]
  },
  {
   "cell_type": "code",
   "execution_count": 30,
   "metadata": {},
   "outputs": [
    {
     "name": "stdout",
     "output_type": "stream",
     "text": [
      "input:  <class 'numpy.uint8'>\n",
      "output:  <class 'numpy.uint8'>\n"
     ]
    }
   ],
   "source": [
    "interpreter = tf.lite.Interpreter(model_content=full_int_model)\n",
    "input_type = interpreter.get_input_details()[0]['dtype']\n",
    "print('input: ', input_type)\n",
    "output_type = interpreter.get_output_details()[0]['dtype']\n",
    "print('output: ', output_type)"
   ]
  },
  {
   "cell_type": "code",
   "execution_count": 31,
   "metadata": {},
   "outputs": [
    {
     "data": {
      "text/plain": [
       "19360"
      ]
     },
     "execution_count": 31,
     "metadata": {},
     "output_type": "execute_result"
    }
   ],
   "source": [
    "import pathlib\n",
    "\n",
    "tflite_models_dir = pathlib.Path(\"../../models/time_series_models_from_notebooks/cnn/quantized/\")\n",
    "tflite_models_dir.mkdir(exist_ok=True, parents=True)\n",
    "\n",
    "# Save the quantized model:\n",
    "tflite_model_full_int_q_file = tflite_models_dir/\"cnn_time_series_full_int_q.tflite\"\n",
    "tflite_model_full_int_q_file.write_bytes(full_int_model)"
   ]
  },
  {
   "cell_type": "code",
   "execution_count": 32,
   "metadata": {},
   "outputs": [
    {
     "name": "stdout",
     "output_type": "stream",
     "text": [
      "Validation dataset:\n",
      "Accuracy: 91.01%\n",
      "Recall: 73.94%\n",
      "Precision: 99.71%\n",
      "F1-score: 84.91%\n",
      "\n",
      "Test dataset:\n",
      "Accuracy: 88.30%\n",
      "Recall: 64.63%\n",
      "Precision: 99.66%\n",
      "F1-score: 78.41%\n",
      "\n",
      "Time for Test dataset:\n",
      "\n",
      "Time to make a prediction for a single data point\n",
      "Mean: 0.003 seconds\n",
      "Max: 0.009 seconds\n",
      "Min: 0.002 seconds\n",
      "File size: 18.906 Kilobytes\n"
     ]
    },
    {
     "data": {
      "text/plain": [
       "'18.906 Kilobytes'"
      ]
     },
     "execution_count": 32,
     "metadata": {},
     "output_type": "execute_result"
    }
   ],
   "source": [
    "print(\"Validation dataset:\")\n",
    "predictions = full_int_model_predict(tflite_model_full_int_q_file, x_val_np)\n",
    "evaluate_prediction(y_val_np, predictions)\n",
    "\n",
    "# print(\"\\nDevide dataset into 10 non-overlapping patritions and get their mean F1-score\")\n",
    "# non_overlap_patritions_f1_scores = get_f1_scores_of_non_overlapping_partitions_full_int_q(tflite_model_full_int_q_file, x_val_np, y_val_np)\n",
    "# print(\"Non-overlap mean F1-score: \", np.mean(non_overlap_patritions_f1_scores))\n",
    "\n",
    "# print(\"\\nGet 100 bootstrap samples from dataset with 100 samples each and get their mean F1-score\")\n",
    "# bootstrap_patritions_f1_scores = get_f1_scores_of_bootstraping_partitions_full_int_q(tflite_model_full_int_q_file, x_val_np, y_val_np)\n",
    "# print(\"Bootstrap mean F1-score: \", np.mean(bootstrap_patritions_f1_scores))\n",
    "\n",
    "\n",
    "\n",
    "print(\"\\nTest dataset:\")\n",
    "predictions = full_int_model_predict(tflite_model_full_int_q_file, x_test_np)\n",
    "evaluate_prediction(y_test_np, predictions)\n",
    "\n",
    "# print(\"\\nDevide dataset into 10 non-overlapping patritions and get their mean F1-score\")\n",
    "# non_overlap_patritions_f1_scores = get_f1_scores_of_non_overlapping_partitions_full_int_q(tflite_model_full_int_q_file, x_test_np, y_test_np)\n",
    "# print(\"Non-overlap mean F1-score: \", np.mean(non_overlap_patritions_f1_scores))\n",
    "\n",
    "# print(\"\\nGet 100 bootstrap samples from dataset with 100 samples each and get their mean F1-score\")\n",
    "# bootstrap_patritions_f1_scores = get_f1_scores_of_bootstraping_partitions_full_int_q(tflite_model_full_int_q_file, x_test_np, y_test_np)\n",
    "# print(\"Bootstrap mean F1-score: \", np.mean(bootstrap_patritions_f1_scores))\n",
    "\n",
    "print(\"\\nTime for Test dataset:\")\n",
    "time_data = []\n",
    "for data_point in x_test_np:\n",
    "    start_time = time.time()\n",
    "    predictions = full_int_model_predict(tflite_model_full_int_q_file, [data_point])\n",
    "    elapsed_time = time.time() - start_time\n",
    "    time_data.append(elapsed_time)\n",
    "print(\"\\nTime to make a prediction for a single data point\")\n",
    "print(f\"Mean: {round(np.mean(time_data), 3)} seconds\")\n",
    "print(f\"Max: {round(np.max(time_data), 3)} seconds\")\n",
    "print(f\"Min: {round(np.min(time_data), 3)} seconds\")\n",
    "\n",
    "convert_bytes(get_file_size(tflite_model_full_int_q_file), \"KB\")"
   ]
  },
  {
   "cell_type": "code",
   "execution_count": null,
   "metadata": {},
   "outputs": [],
   "source": []
  }
 ],
 "metadata": {
  "kernelspec": {
   "display_name": "ag14",
   "language": "python",
   "name": "python3"
  },
  "language_info": {
   "codemirror_mode": {
    "name": "ipython",
    "version": 3
   },
   "file_extension": ".py",
   "mimetype": "text/x-python",
   "name": "python",
   "nbconvert_exporter": "python",
   "pygments_lexer": "ipython3",
   "version": "3.9.19"
  }
 },
 "nbformat": 4,
 "nbformat_minor": 2
}
