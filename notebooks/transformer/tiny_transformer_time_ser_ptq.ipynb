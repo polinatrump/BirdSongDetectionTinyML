{
 "cells": [
  {
   "cell_type": "code",
   "execution_count": 6,
   "metadata": {},
   "outputs": [
    {
     "name": "stdout",
     "output_type": "stream",
     "text": [
      "The autoreload extension is already loaded. To reload it, use:\n",
      "  %reload_ext autoreload\n"
     ]
    }
   ],
   "source": [
    "%load_ext autoreload\n",
    "%autoreload 2"
   ]
  },
  {
   "cell_type": "code",
   "execution_count": 7,
   "metadata": {},
   "outputs": [],
   "source": [
    "import os\n",
    "import sys\n",
    "\n",
    "sys.path.append(os.path.abspath(os.path.join(os.getcwd(), \"../../\")))\n",
    "\n",
    "import random\n",
    "import time\n",
    "\n",
    "import numpy as np\n",
    "import tensorflow as tf\n",
    "\n",
    "tf.random.set_seed(3407)\n",
    "np.random.seed(3407)\n",
    "random.seed(3407)\n",
    "\n",
    "from notebooks.helper_functions import (\n",
    "    convert_bytes,\n",
    "    convert_prefetchdataset_to_numpy_arrays,\n",
    "    evaluate_prediction,\n",
    "    evaluate_time_of_prediction,\n",
    "    full_int_model_predict,\n",
    "    get_f1_scores_of_bootstraping_partitions_full_int_q,\n",
    "    get_f1_scores_of_non_overlapping_partitions_full_int_q,\n",
    "    get_file_size,\n",
    "    predict_and_print_full_results,\n",
    ")"
   ]
  },
  {
   "cell_type": "code",
   "execution_count": 3,
   "metadata": {},
   "outputs": [
    {
     "name": "stdout",
     "output_type": "stream",
     "text": [
      "Found 11292 files belonging to 2 classes.\n",
      "WARNING:tensorflow:Using a while_loop for converting IO>AudioResample cause there is no registered converter for this op.\n"
     ]
    },
    {
     "name": "stderr",
     "output_type": "stream",
     "text": [
      "2024-09-22 17:13:52.651349: I external/local_xla/xla/stream_executor/cuda/cuda_executor.cc:887] could not open file to read NUMA node: /sys/bus/pci/devices/0000:01:00.0/numa_node\n",
      "Your kernel may have been built without NUMA support.\n",
      "2024-09-22 17:13:52.651828: W tensorflow/core/common_runtime/gpu/gpu_device.cc:2256] Cannot dlopen some GPU libraries. Please make sure the missing libraries mentioned above are installed properly if you would like to use GPU. Follow the guide at https://www.tensorflow.org/install/gpu for how to download and setup the required libraries for your platform.\n",
      "Skipping registering GPU devices...\n",
      "2024-09-22 17:13:52.717260: I tensorflow_io/core/kernels/cpu_check.cc:128] Your CPU supports instructions that this TensorFlow IO binary was not compiled to use: SSE3 SSE4.1 SSE4.2 AVX AVX2 FMA\n",
      "2024-09-22 17:13:52.720625: W tensorflow_io/core/kernels/audio_video_mp3_kernels.cc:271] libmp3lame.so.0 or lame functions are not available\n"
     ]
    },
    {
     "name": "stdout",
     "output_type": "stream",
     "text": [
      "Found 1393 files belonging to 2 classes.\n",
      "WARNING:tensorflow:Using a while_loop for converting IO>AudioResample cause there is no registered converter for this op.\n",
      "Found 1380 files belonging to 2 classes.\n",
      "WARNING:tensorflow:Using a while_loop for converting IO>AudioResample cause there is no registered converter for this op.\n",
      "Classes:  ['non_target' 'target']\n"
     ]
    }
   ],
   "source": [
    "train_dataset = tf.keras.utils.audio_dataset_from_directory(\n",
    "    \"../../dataset/training\",\n",
    "    labels=\"inferred\",\n",
    "    sampling_rate=16000,\n",
    "    batch_size=32,\n",
    "    shuffle=True,\n",
    "    seed=3407,\n",
    ")\n",
    "test_dataset = tf.keras.utils.audio_dataset_from_directory(\n",
    "    \"../../dataset/testing\",\n",
    "    labels=\"inferred\",\n",
    "    sampling_rate=16000,\n",
    "    batch_size=32,\n",
    "    shuffle=True,\n",
    "    seed=3407,\n",
    ")\n",
    "val_dataset = tf.keras.utils.audio_dataset_from_directory(\n",
    "    \"../../dataset/validation\",\n",
    "    labels=\"inferred\",\n",
    "    sampling_rate=16000,\n",
    "    batch_size=32,\n",
    "    shuffle=True,\n",
    "    seed=3407,\n",
    ")\n",
    "\n",
    "label_names = np.array(test_dataset.class_names)\n",
    "print(\"Classes: \", label_names)"
   ]
  },
  {
   "cell_type": "code",
   "execution_count": 4,
   "metadata": {},
   "outputs": [],
   "source": [
    "x_train_np, y_train_np = convert_prefetchdataset_to_numpy_arrays(\n",
    "    train_dataset, data_type=\"time-series\"\n",
    ")\n",
    "x_val_np, y_val_np = convert_prefetchdataset_to_numpy_arrays(\n",
    "    val_dataset, data_type=\"time-series\"\n",
    ")\n",
    "x_test_np, y_test_np = convert_prefetchdataset_to_numpy_arrays(\n",
    "    test_dataset, data_type=\"time-series\"\n",
    ")"
   ]
  },
  {
   "cell_type": "code",
   "execution_count": 8,
   "metadata": {},
   "outputs": [
    {
     "name": "stdout",
     "output_type": "stream",
     "text": [
      "Model: \"model_29\"\n",
      "__________________________________________________________________________________________________\n",
      " Layer (type)                Output Shape                 Param #   Connected to                  \n",
      "==================================================================================================\n",
      " input_31 (InputLayer)       [(None, 48000, 1)]           0         []                            \n",
      "                                                                                                  \n",
      " conv1d_88 (Conv1D)          (None, 47996, 32)            192       ['input_31[0][0]']            \n",
      "                                                                                                  \n",
      " max_pooling1d_30 (MaxPooli  (None, 2999, 32)             0         ['conv1d_88[0][0]']           \n",
      " ng1D)                                                                                            \n",
      "                                                                                                  \n",
      " dropout_116 (Dropout)       (None, 2999, 32)             0         ['max_pooling1d_30[0][0]']    \n",
      "                                                                                                  \n",
      " average_pooling1d_29 (Aver  (None, 374, 32)              0         ['dropout_116[0][0]']         \n",
      " agePooling1D)                                                                                    \n",
      "                                                                                                  \n",
      " layer_normalization_58 (La  (None, 374, 32)              64        ['average_pooling1d_29[0][0]']\n",
      " yerNormalization)                                                                                \n",
      "                                                                                                  \n",
      " multi_head_attention_29 (M  (None, 374, 32)              4224      ['layer_normalization_58[0][0]\n",
      " ultiHeadAttention)                                                 ',                            \n",
      "                                                                     'layer_normalization_58[0][0]\n",
      "                                                                    ']                            \n",
      "                                                                                                  \n",
      " dropout_117 (Dropout)       (None, 374, 32)              0         ['multi_head_attention_29[0][0\n",
      "                                                                    ]']                           \n",
      "                                                                                                  \n",
      " tf.__operators__.add_58 (T  (None, 374, 32)              0         ['dropout_117[0][0]',         \n",
      " FOpLambda)                                                          'average_pooling1d_29[0][0]']\n",
      "                                                                                                  \n",
      " layer_normalization_59 (La  (None, 374, 32)              64        ['tf.__operators__.add_58[0][0\n",
      " yerNormalization)                                                  ]']                           \n",
      "                                                                                                  \n",
      " conv1d_89 (Conv1D)          (None, 374, 32)              1056      ['layer_normalization_59[0][0]\n",
      "                                                                    ']                            \n",
      "                                                                                                  \n",
      " dropout_118 (Dropout)       (None, 374, 32)              0         ['conv1d_89[0][0]']           \n",
      "                                                                                                  \n",
      " conv1d_90 (Conv1D)          (None, 374, 32)              1056      ['dropout_118[0][0]']         \n",
      "                                                                                                  \n",
      " tf.__operators__.add_59 (T  (None, 374, 32)              0         ['conv1d_90[0][0]',           \n",
      " FOpLambda)                                                          'tf.__operators__.add_58[0][0\n",
      "                                                                    ]']                           \n",
      "                                                                                                  \n",
      " global_average_pooling1d_2  (None, 32)                   0         ['tf.__operators__.add_59[0][0\n",
      " 9 (GlobalAveragePooling1D)                                         ]']                           \n",
      "                                                                                                  \n",
      " dropout_119 (Dropout)       (None, 32)                   0         ['global_average_pooling1d_29[\n",
      "                                                                    0][0]']                       \n",
      "                                                                                                  \n",
      " dense_29 (Dense)            (None, 2)                    66        ['dropout_119[0][0]']         \n",
      "                                                                                                  \n",
      "==================================================================================================\n",
      "Total params: 6722 (26.26 KB)\n",
      "Trainable params: 6722 (26.26 KB)\n",
      "Non-trainable params: 0 (0.00 Byte)\n",
      "__________________________________________________________________________________________________\n",
      "File size: 0.159 Megabytes\n"
     ]
    }
   ],
   "source": [
    "BASE_MODEL_FILE_NAME = \"../../models/time_series_models_from_notebooks/tiny_transformer/hpo/tiny_transformer_time_ser_final.keras\"\n",
    "baseline_model = tf.keras.models.load_model(BASE_MODEL_FILE_NAME)\n",
    "baseline_model.summary()\n",
    "convert_bytes(get_file_size(BASE_MODEL_FILE_NAME), \"MB\")"
   ]
  },
  {
   "cell_type": "markdown",
   "metadata": {},
   "source": [
    "### Convert to TF Lite format"
   ]
  },
  {
   "cell_type": "code",
   "execution_count": 7,
   "metadata": {},
   "outputs": [
    {
     "name": "stdout",
     "output_type": "stream",
     "text": [
      "INFO:tensorflow:Assets written to: /tmp/tmp_8jglbfa/assets\n"
     ]
    },
    {
     "name": "stderr",
     "output_type": "stream",
     "text": [
      "INFO:tensorflow:Assets written to: /tmp/tmp_8jglbfa/assets\n",
      "2024-09-22 16:19:42.057004: W tensorflow/compiler/mlir/lite/python/tf_tfl_flatbuffer_helpers.cc:378] Ignored output_format.\n",
      "2024-09-22 16:19:42.057057: W tensorflow/compiler/mlir/lite/python/tf_tfl_flatbuffer_helpers.cc:381] Ignored drop_control_dependency.\n",
      "2024-09-22 16:19:42.058999: I tensorflow/cc/saved_model/reader.cc:83] Reading SavedModel from: /tmp/tmp_8jglbfa\n",
      "2024-09-22 16:19:42.061796: I tensorflow/cc/saved_model/reader.cc:51] Reading meta graph with tags { serve }\n",
      "2024-09-22 16:19:42.061832: I tensorflow/cc/saved_model/reader.cc:146] Reading SavedModel debug info (if present) from: /tmp/tmp_8jglbfa\n",
      "2024-09-22 16:19:42.074136: I tensorflow/compiler/mlir/mlir_graph_optimization_pass.cc:388] MLIR V1 optimization pass is not enabled\n",
      "2024-09-22 16:19:42.077479: I tensorflow/cc/saved_model/loader.cc:233] Restoring SavedModel bundle.\n",
      "2024-09-22 16:19:42.174319: I tensorflow/cc/saved_model/loader.cc:217] Running initialization op on SavedModel bundle at path: /tmp/tmp_8jglbfa\n",
      "2024-09-22 16:19:42.207147: I tensorflow/cc/saved_model/loader.cc:316] SavedModel load for tags { serve }; Status: success: OK. Took 148106 microseconds.\n",
      "2024-09-22 16:19:42.280868: I tensorflow/compiler/mlir/tensorflow/utils/dump_mlir_util.cc:269] disabling MLIR crash reproducer, set env var `MLIR_CRASH_REPRODUCER_DIRECTORY` to enable.\n",
      "Summary on the non-converted ops:\n",
      "---------------------------------\n",
      " * Accepted dialects: tfl, builtin, func\n",
      " * Non-Converted Ops: 35, Total Ops 102, % non-converted = 34.31 %\n",
      " * 35 ARITH ops\n",
      "\n",
      "- arith.constant:   35 occurrences  (f32: 22, i32: 13)\n",
      "\n",
      "\n",
      "\n",
      "  (f32: 9)\n",
      "  (f32: 1)\n",
      "  (f32: 2)\n",
      "  (f32: 3)\n",
      "  (f32: 5)\n",
      "  (f32: 5)\n",
      "  (f32: 1)\n",
      "  (f32: 5)\n",
      "  (f32: 7)\n",
      "\n",
      "  (f32: 12)\n",
      "  (f32: 2)\n",
      "  (f32: 2)\n",
      "  (f32: 2)\n",
      "  (f32: 2)\n",
      "  (f32: 5)\n"
     ]
    }
   ],
   "source": [
    "converter = tf.lite.TFLiteConverter.from_keras_model(baseline_model)\n",
    "tflite_model = converter.convert()"
   ]
  },
  {
   "cell_type": "code",
   "execution_count": 11,
   "metadata": {},
   "outputs": [
    {
     "name": "stdout",
     "output_type": "stream",
     "text": [
      "Validation dataset:\n",
      "Basic assessment of the whole dataset (without any partitions):\n",
      "Accuracy: 96.52%\n",
      "Recall: 95.34%\n",
      "Precision: 94.54%\n",
      "F1-score: 94.94%\n",
      "\n",
      "Devide dataset into 10 non-overlapping patritions and get their mean F1-score\n",
      "Non-overlap mean F1-score:  0.9492733997046917\n",
      "\n",
      "Get 100 bootstrap samples from dataset with 100 samples each and get their mean F1-score\n",
      "Bootstrap mean F1-score:  0.9453512138412076\n",
      "\n",
      "Test dataset:\n",
      "Basic assessment of the whole dataset (without any partitions):\n",
      "Accuracy: 96.27%\n",
      "Recall: 94.98%\n",
      "Precision: 93.75%\n",
      "F1-score: 94.36%\n",
      "\n",
      "Devide dataset into 10 non-overlapping patritions and get their mean F1-score\n",
      "Non-overlap mean F1-score:  0.942986273519618\n",
      "\n",
      "Get 100 bootstrap samples from dataset with 100 samples each and get their mean F1-score\n",
      "Bootstrap mean F1-score:  0.9483500786191553\n",
      "\n",
      "Time for Test dataset:\n",
      "Accuracy: 96.27%\n",
      "Recall: 94.98%\n",
      "Precision: 93.75%\n",
      "F1-score: 94.36%\n",
      "\n",
      "Time to make a prediction for a single data point\n",
      "Mean: 0.006 seconds\n",
      "Max: 0.011 seconds\n",
      "Min: 0.004 seconds\n",
      "\n",
      "\n",
      "Model file name:  ../../models/time_series_models_from_notebooks/tiny_transformer/quantized/tiny_transformer_time_series.tflite\n",
      "File size: 0.042 Megabytes\n"
     ]
    }
   ],
   "source": [
    "print(\"Validation dataset:\")\n",
    "(\n",
    "    y_pred_val,\n",
    "    non_overlap_patritions_f1_scores_val,\n",
    "    bootstrap_patritions_f1_scores_val,\n",
    ") = predict_and_print_full_results(\n",
    "    tflite_model, x_val_np, y_val_np, model_format=\"tf_lite\"\n",
    ")\n",
    "\n",
    "print(\"\\nTest dataset:\")\n",
    "(\n",
    "    y_pred_val,\n",
    "    non_overlap_patritions_f1_scores_val,\n",
    "    bootstrap_patritions_f1_scores_val,\n",
    ") = predict_and_print_full_results(\n",
    "    tflite_model, x_test_np, y_test_np, model_format=\"tf_lite\"\n",
    ")\n",
    "\n",
    "print(\"\\nTime for Test dataset:\")\n",
    "evaluate_time_of_prediction(tflite_model, x_test_np, y_test_np, model_format=\"tf_lite\")\n",
    "\n",
    "TF_LITE_MODEL_FILE_NAME = \"../../models/time_series_models_from_notebooks/tiny_transformer/quantized/tiny_transformer_time_series.tflite\"\n",
    "open(TF_LITE_MODEL_FILE_NAME, \"wb\").write(tflite_model)\n",
    "print(\"\\n\")\n",
    "print(\"Model file name: \", TF_LITE_MODEL_FILE_NAME)\n",
    "convert_bytes(get_file_size(TF_LITE_MODEL_FILE_NAME), \"MB\")"
   ]
  },
  {
   "cell_type": "code",
   "execution_count": 12,
   "metadata": {},
   "outputs": [
    {
     "name": "stdout",
     "output_type": "stream",
     "text": [
      "File size: 43.238 Kilobytes\n"
     ]
    },
    {
     "data": {
      "text/plain": [
       "'43.238 Kilobytes'"
      ]
     },
     "execution_count": 12,
     "metadata": {},
     "output_type": "execute_result"
    }
   ],
   "source": [
    "convert_bytes(get_file_size(TF_LITE_MODEL_FILE_NAME), \"KB\")"
   ]
  },
  {
   "cell_type": "code",
   "execution_count": null,
   "metadata": {},
   "outputs": [],
   "source": []
  },
  {
   "cell_type": "markdown",
   "metadata": {},
   "source": [
    "### Dynamic range quantization"
   ]
  },
  {
   "cell_type": "code",
   "execution_count": 13,
   "metadata": {},
   "outputs": [
    {
     "name": "stdout",
     "output_type": "stream",
     "text": [
      "INFO:tensorflow:Assets written to: /tmp/tmp9h9lakt2/assets\n"
     ]
    },
    {
     "name": "stderr",
     "output_type": "stream",
     "text": [
      "INFO:tensorflow:Assets written to: /tmp/tmp9h9lakt2/assets\n",
      "2024-09-22 16:33:58.642641: W tensorflow/compiler/mlir/lite/python/tf_tfl_flatbuffer_helpers.cc:378] Ignored output_format.\n",
      "2024-09-22 16:33:58.642698: W tensorflow/compiler/mlir/lite/python/tf_tfl_flatbuffer_helpers.cc:381] Ignored drop_control_dependency.\n",
      "2024-09-22 16:33:58.642965: I tensorflow/cc/saved_model/reader.cc:83] Reading SavedModel from: /tmp/tmp9h9lakt2\n",
      "2024-09-22 16:33:58.645661: I tensorflow/cc/saved_model/reader.cc:51] Reading meta graph with tags { serve }\n",
      "2024-09-22 16:33:58.645673: I tensorflow/cc/saved_model/reader.cc:146] Reading SavedModel debug info (if present) from: /tmp/tmp9h9lakt2\n",
      "2024-09-22 16:33:58.653238: I tensorflow/cc/saved_model/loader.cc:233] Restoring SavedModel bundle.\n",
      "2024-09-22 16:33:58.749103: I tensorflow/cc/saved_model/loader.cc:217] Running initialization op on SavedModel bundle at path: /tmp/tmp9h9lakt2\n",
      "2024-09-22 16:33:58.776011: I tensorflow/cc/saved_model/loader.cc:316] SavedModel load for tags { serve }; Status: success: OK. Took 132996 microseconds.\n",
      "Summary on the non-converted ops:\n",
      "---------------------------------\n",
      " * Accepted dialects: tfl, builtin, func\n",
      " * Non-Converted Ops: 29, Total Ops 102, % non-converted = 28.43 %\n",
      " * 29 ARITH ops\n",
      "\n",
      "- arith.constant:   29 occurrences  (f32: 16, i32: 13)\n",
      "\n",
      "\n",
      "\n",
      "  (f32: 9)\n",
      "  (f32: 1)\n",
      "  (f32: 2)\n",
      "  (f32: 3)\n",
      "  (f32: 5)\n",
      "  (f32: 5)\n",
      "  (f32: 1)\n",
      "  (f32: 5)\n",
      "  (f32: 7)\n",
      "\n",
      "  (uq_8: 6)\n",
      "  (f32: 12)\n",
      "  (f32: 2)\n",
      "  (f32: 2)\n",
      "  (f32: 2)\n",
      "  (f32: 2)\n",
      "  (f32: 5)\n"
     ]
    }
   ],
   "source": [
    "dynamic_range_quant_converter = tf.lite.TFLiteConverter.from_keras_model(baseline_model)\n",
    "dynamic_range_quant_converter.optimizations = [tf.lite.Optimize.DEFAULT]\n",
    "dynamic_range_quant_model = dynamic_range_quant_converter.convert()"
   ]
  },
  {
   "cell_type": "code",
   "execution_count": 14,
   "metadata": {},
   "outputs": [
    {
     "name": "stdout",
     "output_type": "stream",
     "text": [
      "Validation dataset:\n",
      "Basic assessment of the whole dataset (without any partitions):\n",
      "Accuracy: 96.52%\n",
      "Recall: 95.34%\n",
      "Precision: 94.54%\n",
      "F1-score: 94.94%\n",
      "\n",
      "Devide dataset into 10 non-overlapping patritions and get their mean F1-score\n",
      "Non-overlap mean F1-score:  0.9492733997046917\n",
      "\n",
      "Get 100 bootstrap samples from dataset with 100 samples each and get their mean F1-score\n",
      "Bootstrap mean F1-score:  0.947799869276201\n",
      "\n",
      "Test dataset:\n",
      "Basic assessment of the whole dataset (without any partitions):\n",
      "Accuracy: 96.27%\n",
      "Recall: 94.98%\n",
      "Precision: 93.75%\n",
      "F1-score: 94.36%\n",
      "\n",
      "Devide dataset into 10 non-overlapping patritions and get their mean F1-score\n",
      "Non-overlap mean F1-score:  0.942986273519618\n",
      "\n",
      "Get 100 bootstrap samples from dataset with 100 samples each and get their mean F1-score\n",
      "Bootstrap mean F1-score:  0.9399935390662868\n",
      "\n",
      "Time for Test dataset:\n",
      "Accuracy: 96.27%\n",
      "Recall: 94.98%\n",
      "Precision: 93.75%\n",
      "F1-score: 94.36%\n",
      "\n",
      "Time to make a prediction for a single data point\n",
      "Mean: 0.006 seconds\n",
      "Max: 0.011 seconds\n",
      "Min: 0.004 seconds\n",
      "\n",
      "\n",
      "Model file name:  ../../models/time_series_models_from_notebooks/tiny_transformer/quantized/tiny_transformer_time_series_drq.tflite\n",
      "File size: 0.026 Megabytes\n"
     ]
    }
   ],
   "source": [
    "print(\"Validation dataset:\")\n",
    "(\n",
    "    y_pred_val,\n",
    "    non_overlap_patritions_f1_scores_val,\n",
    "    bootstrap_patritions_f1_scores_val,\n",
    ") = predict_and_print_full_results(\n",
    "    dynamic_range_quant_model, x_val_np, y_val_np, model_format=\"tf_lite\"\n",
    ")\n",
    "\n",
    "print(\"\\nTest dataset:\")\n",
    "(\n",
    "    y_pred_test,\n",
    "    non_overlap_patritions_f1_scores_test,\n",
    "    bootstrap_patritions_f1_scores_test,\n",
    ") = predict_and_print_full_results(\n",
    "    dynamic_range_quant_model, x_test_np, y_test_np, model_format=\"tf_lite\"\n",
    ")\n",
    "\n",
    "print(\"\\nTime for Test dataset:\")\n",
    "evaluate_time_of_prediction(\n",
    "    dynamic_range_quant_model, x_test_np, y_test_np, model_format=\"tf_lite\"\n",
    ")\n",
    "\n",
    "DRQ_MODEL_FILE_NAME = \"../../models/time_series_models_from_notebooks/tiny_transformer/quantized/tiny_transformer_time_series_drq.tflite\"\n",
    "open(DRQ_MODEL_FILE_NAME, \"wb\").write(dynamic_range_quant_model)\n",
    "print(\"\\n\")\n",
    "print(\"Model file name: \", DRQ_MODEL_FILE_NAME)\n",
    "convert_bytes(get_file_size(DRQ_MODEL_FILE_NAME), \"MB\")"
   ]
  },
  {
   "cell_type": "code",
   "execution_count": 15,
   "metadata": {},
   "outputs": [
    {
     "name": "stdout",
     "output_type": "stream",
     "text": [
      "File size: 26.188 Kilobytes\n"
     ]
    },
    {
     "data": {
      "text/plain": [
       "'26.188 Kilobytes'"
      ]
     },
     "execution_count": 15,
     "metadata": {},
     "output_type": "execute_result"
    }
   ],
   "source": [
    "convert_bytes(get_file_size(DRQ_MODEL_FILE_NAME), \"KB\")"
   ]
  },
  {
   "cell_type": "code",
   "execution_count": null,
   "metadata": {},
   "outputs": [],
   "source": []
  },
  {
   "cell_type": "markdown",
   "metadata": {},
   "source": [
    "### Float16 quantization"
   ]
  },
  {
   "cell_type": "code",
   "execution_count": 16,
   "metadata": {},
   "outputs": [
    {
     "name": "stdout",
     "output_type": "stream",
     "text": [
      "INFO:tensorflow:Assets written to: /tmp/tmppj41ovrm/assets\n"
     ]
    },
    {
     "name": "stderr",
     "output_type": "stream",
     "text": [
      "INFO:tensorflow:Assets written to: /tmp/tmppj41ovrm/assets\n",
      "2024-09-22 16:36:32.456824: W tensorflow/compiler/mlir/lite/python/tf_tfl_flatbuffer_helpers.cc:378] Ignored output_format.\n",
      "2024-09-22 16:36:32.456877: W tensorflow/compiler/mlir/lite/python/tf_tfl_flatbuffer_helpers.cc:381] Ignored drop_control_dependency.\n",
      "2024-09-22 16:36:32.457069: I tensorflow/cc/saved_model/reader.cc:83] Reading SavedModel from: /tmp/tmppj41ovrm\n",
      "2024-09-22 16:36:32.462508: I tensorflow/cc/saved_model/reader.cc:51] Reading meta graph with tags { serve }\n",
      "2024-09-22 16:36:32.462540: I tensorflow/cc/saved_model/reader.cc:146] Reading SavedModel debug info (if present) from: /tmp/tmppj41ovrm\n",
      "2024-09-22 16:36:32.474600: I tensorflow/cc/saved_model/loader.cc:233] Restoring SavedModel bundle.\n",
      "2024-09-22 16:36:32.558413: I tensorflow/cc/saved_model/loader.cc:217] Running initialization op on SavedModel bundle at path: /tmp/tmppj41ovrm\n",
      "2024-09-22 16:36:32.588131: I tensorflow/cc/saved_model/loader.cc:316] SavedModel load for tags { serve }; Status: success: OK. Took 131063 microseconds.\n",
      "Summary on the non-converted ops:\n",
      "---------------------------------\n",
      " * Accepted dialects: tfl, builtin, func\n",
      " * Non-Converted Ops: 35, Total Ops 124, % non-converted = 28.23 %\n",
      " * 35 ARITH ops\n",
      "\n",
      "- arith.constant:   35 occurrences  (f16: 22, i32: 13)\n",
      "\n",
      "\n",
      "\n",
      "  (f32: 9)\n",
      "  (f32: 1)\n",
      "  (f32: 2)\n",
      "  (f32: 3)\n",
      "  (f32: 22)\n",
      "  (f32: 5)\n",
      "  (f32: 5)\n",
      "  (f32: 1)\n",
      "  (f32: 5)\n",
      "  (f32: 7)\n",
      "\n",
      "  (f32: 12)\n",
      "  (f32: 2)\n",
      "  (f32: 2)\n",
      "  (f32: 2)\n",
      "  (f32: 2)\n",
      "  (f32: 5)\n"
     ]
    }
   ],
   "source": [
    "float16_quant_converter = tf.lite.TFLiteConverter.from_keras_model(baseline_model)\n",
    "float16_quant_converter.optimizations = [tf.lite.Optimize.DEFAULT]\n",
    "float16_quant_converter.target_spec.supported_types = [tf.float16]\n",
    "float16_quant_model = float16_quant_converter.convert()"
   ]
  },
  {
   "cell_type": "code",
   "execution_count": 19,
   "metadata": {},
   "outputs": [
    {
     "name": "stdout",
     "output_type": "stream",
     "text": [
      "Validation dataset:\n",
      "Basic assessment of the whole dataset (without any partitions):\n",
      "Accuracy: 96.52%\n",
      "Recall: 95.34%\n",
      "Precision: 94.54%\n",
      "F1-score: 94.94%\n",
      "\n",
      "Devide dataset into 10 non-overlapping patritions and get their mean F1-score\n",
      "Non-overlap mean F1-score:  0.9492733997046917\n",
      "\n",
      "Get 100 bootstrap samples from dataset with 100 samples each and get their mean F1-score\n",
      "Bootstrap mean F1-score:  0.9513203572414904\n",
      "\n",
      "Test dataset:\n",
      "Basic assessment of the whole dataset (without any partitions):\n",
      "Accuracy: 96.27%\n",
      "Recall: 94.98%\n",
      "Precision: 93.75%\n",
      "F1-score: 94.36%\n",
      "\n",
      "Devide dataset into 10 non-overlapping patritions and get their mean F1-score\n",
      "Non-overlap mean F1-score:  0.942986273519618\n",
      "\n",
      "Get 100 bootstrap samples from dataset with 100 samples each and get their mean F1-score\n",
      "Bootstrap mean F1-score:  0.9366056979689855\n",
      "\n",
      "Time for Test dataset:\n",
      "Accuracy: 96.27%\n",
      "Recall: 94.98%\n",
      "Precision: 93.75%\n",
      "F1-score: 94.36%\n",
      "\n",
      "Time to make a prediction for a single data point\n",
      "Mean: 0.005 seconds\n",
      "Max: 0.013 seconds\n",
      "Min: 0.004 seconds\n",
      "\n",
      "\n",
      "Model file name:  ../../models/time_series_models_from_notebooks/tiny_transformer/quantized/tiny_transformer_time_series_float16q.tflite\n",
      "File size: 0.032 Megabytes\n"
     ]
    }
   ],
   "source": [
    "print(\"Validation dataset:\")\n",
    "(\n",
    "    y_pred_val,\n",
    "    non_overlap_patritions_f1_scores_val,\n",
    "    bootstrap_patritions_f1_scores_val,\n",
    ") = predict_and_print_full_results(\n",
    "    float16_quant_model, x_val_np, y_val_np, model_format=\"tf_lite\"\n",
    ")\n",
    "\n",
    "print(\"\\nTest dataset:\")\n",
    "(\n",
    "    y_pred_test,\n",
    "    non_overlap_patritions_f1_scores_test,\n",
    "    bootstrap_patritions_f1_scores_test,\n",
    ") = predict_and_print_full_results(\n",
    "    float16_quant_model, x_test_np, y_test_np, model_format=\"tf_lite\"\n",
    ")\n",
    "\n",
    "print(\"\\nTime for Test dataset:\")\n",
    "evaluate_time_of_prediction(\n",
    "    float16_quant_model, x_test_np, y_test_np, model_format=\"tf_lite\"\n",
    ")\n",
    "\n",
    "FLOAT16_QUANT_MODEL_FILE_NAME = \"../../models/time_series_models_from_notebooks/tiny_transformer/quantized/tiny_transformer_time_series_float16q.tflite\"\n",
    "open(FLOAT16_QUANT_MODEL_FILE_NAME, \"wb\").write(float16_quant_model)\n",
    "print(\"\\n\")\n",
    "print(\"Model file name: \", FLOAT16_QUANT_MODEL_FILE_NAME)\n",
    "convert_bytes(get_file_size(FLOAT16_QUANT_MODEL_FILE_NAME), \"MB\")"
   ]
  },
  {
   "cell_type": "code",
   "execution_count": 20,
   "metadata": {},
   "outputs": [
    {
     "name": "stdout",
     "output_type": "stream",
     "text": [
      "File size: 33.258 Kilobytes\n"
     ]
    },
    {
     "data": {
      "text/plain": [
       "'33.258 Kilobytes'"
      ]
     },
     "execution_count": 20,
     "metadata": {},
     "output_type": "execute_result"
    },
    {
     "ename": "",
     "evalue": "",
     "output_type": "error",
     "traceback": [
      "\u001b[1;31mThe Kernel crashed while executing code in the current cell or a previous cell. \n",
      "\u001b[1;31mPlease review the code in the cell(s) to identify a possible cause of the failure. \n",
      "\u001b[1;31mClick <a href='https://aka.ms/vscodeJupyterKernelCrash'>here</a> for more info. \n",
      "\u001b[1;31mView Jupyter <a href='command:jupyter.viewOutput'>log</a> for further details."
     ]
    }
   ],
   "source": [
    "convert_bytes(get_file_size(FLOAT16_QUANT_MODEL_FILE_NAME), \"KB\")"
   ]
  },
  {
   "cell_type": "code",
   "execution_count": null,
   "metadata": {},
   "outputs": [],
   "source": []
  },
  {
   "cell_type": "markdown",
   "metadata": {},
   "source": [
    "### Full integer quantization"
   ]
  },
  {
   "cell_type": "code",
   "execution_count": 15,
   "metadata": {},
   "outputs": [
    {
     "name": "stdout",
     "output_type": "stream",
     "text": [
      "INFO:tensorflow:Assets written to: /tmp/tmp6ixy8d2h/assets\n"
     ]
    },
    {
     "name": "stderr",
     "output_type": "stream",
     "text": [
      "INFO:tensorflow:Assets written to: /tmp/tmp6ixy8d2h/assets\n",
      "/home/polina/newname/.venv/lib/python3.9/site-packages/tensorflow/lite/python/convert.py:953: UserWarning: Statistics for quantized inputs were expected, but not specified; continuing anyway.\n",
      "  warnings.warn(\n",
      "2024-09-22 17:21:04.206901: W tensorflow/compiler/mlir/lite/python/tf_tfl_flatbuffer_helpers.cc:378] Ignored output_format.\n",
      "2024-09-22 17:21:04.206966: W tensorflow/compiler/mlir/lite/python/tf_tfl_flatbuffer_helpers.cc:381] Ignored drop_control_dependency.\n",
      "2024-09-22 17:21:04.207223: I tensorflow/cc/saved_model/reader.cc:83] Reading SavedModel from: /tmp/tmp6ixy8d2h\n",
      "2024-09-22 17:21:04.210135: I tensorflow/cc/saved_model/reader.cc:51] Reading meta graph with tags { serve }\n",
      "2024-09-22 17:21:04.210176: I tensorflow/cc/saved_model/reader.cc:146] Reading SavedModel debug info (if present) from: /tmp/tmp6ixy8d2h\n",
      "2024-09-22 17:21:04.220092: I tensorflow/cc/saved_model/loader.cc:233] Restoring SavedModel bundle.\n",
      "2024-09-22 17:21:04.307802: I tensorflow/cc/saved_model/loader.cc:217] Running initialization op on SavedModel bundle at path: /tmp/tmp6ixy8d2h\n",
      "2024-09-22 17:21:04.335106: I tensorflow/cc/saved_model/loader.cc:316] SavedModel load for tags { serve }; Status: success: OK. Took 127884 microseconds.\n",
      "Summary on the non-converted ops:\n",
      "---------------------------------\n",
      " * Accepted dialects: tfl, builtin, func\n",
      " * Non-Converted Ops: 35, Total Ops 102, % non-converted = 34.31 %\n",
      " * 35 ARITH ops\n",
      "\n",
      "- arith.constant:   35 occurrences  (f32: 22, i32: 13)\n",
      "\n",
      "\n",
      "\n",
      "  (f32: 9)\n",
      "  (f32: 1)\n",
      "  (f32: 2)\n",
      "  (f32: 3)\n",
      "  (f32: 5)\n",
      "  (f32: 5)\n",
      "  (f32: 1)\n",
      "  (f32: 5)\n",
      "  (f32: 7)\n",
      "\n",
      "  (f32: 12)\n",
      "  (f32: 2)\n",
      "  (f32: 2)\n",
      "  (f32: 2)\n",
      "  (f32: 2)\n",
      "  (f32: 5)\n",
      "2024-09-22 17:21:05.157862: W external/local_tsl/tsl/framework/cpu_allocator_impl.cc:83] Allocation of 2168064000 exceeds 10% of free system memory.\n",
      "fully_quantize: 0, inference_type: 6, input_inference_type: UINT8, output_inference_type: UINT8\n"
     ]
    }
   ],
   "source": [
    "def representative_data_gen():\n",
    "    for input_value in (\n",
    "        tf.data.Dataset.from_tensor_slices(x_train_np).batch(1).take(10000)\n",
    "    ):\n",
    "        yield [input_value]\n",
    "\n",
    "\n",
    "full_int_converter = tf.lite.TFLiteConverter.from_keras_model(baseline_model)\n",
    "full_int_converter.optimizations = [tf.lite.Optimize.DEFAULT]\n",
    "full_int_converter.representative_dataset = representative_data_gen\n",
    "# Ensure that if any ops can't be quantized, the converter throws an error\n",
    "full_int_converter.target_spec.supported_ops = [tf.lite.OpsSet.TFLITE_BUILTINS_INT8]\n",
    "# Set the input and output tensors to uint8 (APIs added in r2.3)\n",
    "full_int_converter.inference_input_type = tf.uint8\n",
    "full_int_converter.inference_output_type = tf.uint8\n",
    "\n",
    "full_int_model = full_int_converter.convert()"
   ]
  },
  {
   "cell_type": "code",
   "execution_count": 16,
   "metadata": {},
   "outputs": [
    {
     "name": "stdout",
     "output_type": "stream",
     "text": [
      "input:  <class 'numpy.uint8'>\n",
      "output:  <class 'numpy.uint8'>\n"
     ]
    }
   ],
   "source": [
    "interpreter = tf.lite.Interpreter(model_content=full_int_model)\n",
    "input_type = interpreter.get_input_details()[0][\"dtype\"]\n",
    "print(\"input: \", input_type)\n",
    "output_type = interpreter.get_output_details()[0][\"dtype\"]\n",
    "print(\"output: \", output_type)"
   ]
  },
  {
   "cell_type": "code",
   "execution_count": 17,
   "metadata": {},
   "outputs": [
    {
     "data": {
      "text/plain": [
       "30056"
      ]
     },
     "execution_count": 17,
     "metadata": {},
     "output_type": "execute_result"
    }
   ],
   "source": [
    "import pathlib\n",
    "\n",
    "tflite_models_dir = pathlib.Path(\n",
    "    \"../../models/time_series_models_from_notebooks/tiny_transformer/quantized/\"\n",
    ")\n",
    "tflite_models_dir.mkdir(exist_ok=True, parents=True)\n",
    "\n",
    "# Save the quantized model:\n",
    "tflite_model_full_int_q_file = (\n",
    "    tflite_models_dir / \"tiny_transformer_time_series_full_int_q.tflite\"\n",
    ")\n",
    "tflite_model_full_int_q_file.write_bytes(full_int_model)"
   ]
  },
  {
   "cell_type": "code",
   "execution_count": 18,
   "metadata": {},
   "outputs": [
    {
     "name": "stdout",
     "output_type": "stream",
     "text": [
      "Validation dataset:\n",
      "Accuracy: 68.12%\n",
      "Recall: 7.42%\n",
      "Precision: 92.11%\n",
      "F1-score: 13.73%\n",
      "\n",
      "Test dataset:\n",
      "Accuracy: 70.14%\n",
      "Recall: 9.39%\n",
      "Precision: 97.73%\n",
      "F1-score: 17.13%\n",
      "\n",
      "Time for Test dataset:\n",
      "\n",
      "Time to make a prediction for a single data point\n",
      "Mean: 0.008 seconds\n",
      "Max: 0.032 seconds\n",
      "Min: 0.006 seconds\n",
      "File size: 29.352 Kilobytes\n"
     ]
    },
    {
     "data": {
      "text/plain": [
       "'29.352 Kilobytes'"
      ]
     },
     "execution_count": 18,
     "metadata": {},
     "output_type": "execute_result"
    }
   ],
   "source": [
    "print(\"Validation dataset:\")\n",
    "predictions = full_int_model_predict(tflite_model_full_int_q_file, x_val_np)\n",
    "evaluate_prediction(y_val_np, predictions)\n",
    "\n",
    "# print(\"\\nDevide dataset into 10 non-overlapping patritions and get their mean F1-score\")\n",
    "# non_overlap_patritions_f1_scores = get_f1_scores_of_non_overlapping_partitions_full_int_q(tflite_model_full_int_q_file, x_val_np, y_val_np)\n",
    "# print(\"Non-overlap mean F1-score: \", np.mean(non_overlap_patritions_f1_scores))\n",
    "\n",
    "# print(\"\\nGet 100 bootstrap samples from dataset with 100 samples each and get their mean F1-score\")\n",
    "# bootstrap_patritions_f1_scores = get_f1_scores_of_bootstraping_partitions_full_int_q(tflite_model_full_int_q_file, x_val_np, y_val_np)\n",
    "# print(\"Bootstrap mean F1-score: \", np.mean(bootstrap_patritions_f1_scores))\n",
    "\n",
    "\n",
    "print(\"\\nTest dataset:\")\n",
    "predictions = full_int_model_predict(tflite_model_full_int_q_file, x_test_np)\n",
    "evaluate_prediction(y_test_np, predictions)\n",
    "\n",
    "# print(\"\\nDevide dataset into 10 non-overlapping patritions and get their mean F1-score\")\n",
    "# non_overlap_patritions_f1_scores = get_f1_scores_of_non_overlapping_partitions_full_int_q(tflite_model_full_int_q_file, x_test_np, y_test_np)\n",
    "# print(\"Non-overlap mean F1-score: \", np.mean(non_overlap_patritions_f1_scores))\n",
    "\n",
    "# print(\"\\nGet 100 bootstrap samples from dataset with 100 samples each and get their mean F1-score\")\n",
    "# bootstrap_patritions_f1_scores = get_f1_scores_of_bootstraping_partitions_full_int_q(tflite_model_full_int_q_file, x_test_np, y_test_np)\n",
    "# print(\"Bootstrap mean F1-score: \", np.mean(bootstrap_patritions_f1_scores))\n",
    "\n",
    "print(\"\\nTime for Test dataset:\")\n",
    "time_data = []\n",
    "for data_point in x_test_np:\n",
    "    start_time = time.time()\n",
    "    predictions = full_int_model_predict(tflite_model_full_int_q_file, [data_point])\n",
    "    elapsed_time = time.time() - start_time\n",
    "    time_data.append(elapsed_time)\n",
    "print(\"\\nTime to make a prediction for a single data point\")\n",
    "print(f\"Mean: {round(np.mean(time_data), 3)} seconds\")\n",
    "print(f\"Max: {round(np.max(time_data), 3)} seconds\")\n",
    "print(f\"Min: {round(np.min(time_data), 3)} seconds\")\n",
    "\n",
    "convert_bytes(get_file_size(tflite_model_full_int_q_file), \"KB\")"
   ]
  },
  {
   "cell_type": "markdown",
   "metadata": {},
   "source": [
    "We need to adjust decision threshold"
   ]
  },
  {
   "cell_type": "code",
   "execution_count": null,
   "metadata": {},
   "outputs": [],
   "source": []
  }
 ],
 "metadata": {
  "kernelspec": {
   "display_name": "ag14",
   "language": "python",
   "name": "python3"
  },
  "language_info": {
   "codemirror_mode": {
    "name": "ipython",
    "version": 3
   },
   "file_extension": ".py",
   "mimetype": "text/x-python",
   "name": "python",
   "nbconvert_exporter": "python",
   "pygments_lexer": "ipython3",
   "version": "3.9.19"
  }
 },
 "nbformat": 4,
 "nbformat_minor": 2
}
