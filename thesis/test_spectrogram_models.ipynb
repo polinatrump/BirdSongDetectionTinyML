{
 "cells": [
  {
   "cell_type": "code",
   "execution_count": 57,
   "metadata": {},
   "outputs": [
    {
     "name": "stdout",
     "output_type": "stream",
     "text": [
      "The autoreload extension is already loaded. To reload it, use:\n",
      "  %reload_ext autoreload\n"
     ]
    }
   ],
   "source": [
    "%load_ext autoreload\n",
    "%autoreload 2"
   ]
  },
  {
   "cell_type": "code",
   "execution_count": 60,
   "metadata": {},
   "outputs": [],
   "source": [
    "import tensorflow as tf\n",
    "import os\n",
    "import numpy as np\n",
    "import tensorflow_io as tfio\n",
    "\n",
    "from helper_functions import (\n",
    "    create_spectrogram_features,\n",
    "    create_spectrogram_patches,\n",
    "    lite_model_from_file_predicts_dataset,\n",
    "    get_file_size, \n",
    "    convert_bytes,\n",
    "    evaluate_prediction,\n",
    "    full_int_model_predict\n",
    ")\n",
    "\n",
    "\n",
    "from sklearn.metrics import confusion_matrix"
   ]
  },
  {
   "cell_type": "code",
   "execution_count": 3,
   "metadata": {},
   "outputs": [],
   "source": [
    "desired_length_of_audio = 48000\n",
    "sample_rate = 16000"
   ]
  },
  {
   "cell_type": "code",
   "execution_count": 88,
   "metadata": {},
   "outputs": [],
   "source": [
    "# Take all audio from testing dataset and create spectrograms from them\n",
    "# We will use spectrograms for models testing\n",
    "directory = '../dataset/testing'\n",
    "\n",
    "x_data = []\n",
    "y_data = []\n",
    "for root, dirs, files in os.walk(directory):\n",
    "    for file in files:\n",
    "        full_file_name = os.path.join(root, file)\n",
    "\n",
    "        if \"non_target\" in str(full_file_name):\n",
    "            class_encoded = 0\n",
    "        elif \"target\" in str(full_file_name):\n",
    "            class_encoded = 1\n",
    "\n",
    "        audio, sr = tf.audio.decode_wav(tf.io.read_file(full_file_name))\n",
    "        audio = tf.squeeze(audio, axis=-1)\n",
    "        resampled_audio = tfio.audio.resample(audio, rate_in=48000, rate_out=sample_rate)\n",
    "        # Prepare log mel spectrogram from audio\n",
    "        spectrogram_feature = create_spectrogram_features(resampled_audio, desired_length=48000, sample_rate = 16000)\n",
    "        x_data.append(spectrogram_feature)\n",
    "        y_data.append(class_encoded)\n",
    "\n",
    "# input data should be in numpy array, not in list\n",
    "x_data_np = np.array(x_data)\n",
    "y_data_np = np.array(y_data)"
   ]
  },
  {
   "cell_type": "code",
   "execution_count": 89,
   "metadata": {},
   "outputs": [
    {
     "data": {
      "text/plain": [
       "1393"
      ]
     },
     "execution_count": 89,
     "metadata": {},
     "output_type": "execute_result"
    }
   ],
   "source": [
    "len(x_data_np)"
   ]
  },
  {
   "cell_type": "code",
   "execution_count": 87,
   "metadata": {},
   "outputs": [
    {
     "name": "stdout",
     "output_type": "stream",
     "text": [
      "(1, 23, 10, 64)\n"
     ]
    }
   ],
   "source": [
    "for i in x_data_np:\n",
    "    print(i.shape)\n",
    "    break"
   ]
  },
  {
   "cell_type": "markdown",
   "metadata": {},
   "source": [
    "### CNN"
   ]
  },
  {
   "cell_type": "markdown",
   "metadata": {},
   "source": [
    "##### CNN initial model in keras format"
   ]
  },
  {
   "cell_type": "code",
   "execution_count": 15,
   "metadata": {},
   "outputs": [
    {
     "name": "stdout",
     "output_type": "stream",
     "text": [
      "File size: 0.328 Megabytes\n"
     ]
    }
   ],
   "source": [
    "cnn_initial_model_path = \"../spectrogram_models_from_notebooks/cnn/hpo/cnn_mel_spec_baseline.keras\"\n",
    "convert_bytes(get_file_size(cnn_initial_model_path), \"MB\")"
   ]
  },
  {
   "cell_type": "code",
   "execution_count": 16,
   "metadata": {},
   "outputs": [
    {
     "name": "stdout",
     "output_type": "stream",
     "text": [
      "Accuracy: 98.99%\n",
      "Recall: 99.13%\n",
      "Precision: 97.84%\n",
      "F1-score: 98.48%\n"
     ]
    }
   ],
   "source": [
    "cnn_initial_model = tf.keras.models.load_model(cnn_initial_model_path)\n",
    "# input data should be in numpy array\n",
    "y_pred_prob = cnn_initial_model.predict(x_data_np, verbose=0)\n",
    "y_pred = tf.argmax(y_pred_prob, axis=1).numpy()\n",
    "\n",
    "# Evaluate\n",
    "evaluate_prediction(y_data_np, y_pred)"
   ]
  },
  {
   "cell_type": "markdown",
   "metadata": {},
   "source": [
    "##### CNN tf Lite model (without any additional quantization techniques)"
   ]
  },
  {
   "cell_type": "code",
   "execution_count": 18,
   "metadata": {},
   "outputs": [
    {
     "name": "stdout",
     "output_type": "stream",
     "text": [
      "File size: 103.875 Kilobytes\n",
      "Accuracy: 98.99%\n",
      "Recall: 99.13%\n",
      "Precision: 97.84%\n",
      "F1-score: 98.48%\n"
     ]
    }
   ],
   "source": [
    "cnn_tflite_model_path = '../spectrogram_models_from_notebooks/cnn/quantized/cnn_mel_spec.tflite'\n",
    "convert_bytes(get_file_size(cnn_tflite_model_path), \"KB\")\n",
    "\n",
    "y_pred = lite_model_from_file_predicts_dataset(cnn_tflite_model_path, x_data_np, y_data_np)"
   ]
  },
  {
   "cell_type": "markdown",
   "metadata": {},
   "source": [
    "##### CNN tf Lite model + Post Training Dynamic range quantization"
   ]
  },
  {
   "cell_type": "code",
   "execution_count": 21,
   "metadata": {},
   "outputs": [
    {
     "name": "stdout",
     "output_type": "stream",
     "text": [
      "File size: 29.703 Kilobytes\n",
      "Accuracy: 98.99%\n",
      "Recall: 99.13%\n",
      "Precision: 97.84%\n",
      "F1-score: 98.48%\n"
     ]
    }
   ],
   "source": [
    "cnn_drq_model_path = '../spectrogram_models_from_notebooks/cnn/quantized/cnn_mel_spec_drq.tflite'\n",
    "convert_bytes(get_file_size(cnn_drq_model_path), \"KB\")\n",
    "\n",
    "y_pred = lite_model_from_file_predicts_dataset(cnn_drq_model_path, x_data_np, y_data_np)"
   ]
  },
  {
   "cell_type": "markdown",
   "metadata": {},
   "source": [
    "##### CNN tf Lite model + Float 16 quantization"
   ]
  },
  {
   "cell_type": "code",
   "execution_count": 22,
   "metadata": {},
   "outputs": [
    {
     "name": "stdout",
     "output_type": "stream",
     "text": [
      "File size: 55.07 Kilobytes\n",
      "Accuracy: 98.99%\n",
      "Recall: 99.13%\n",
      "Precision: 97.84%\n",
      "F1-score: 98.48%\n"
     ]
    }
   ],
   "source": [
    "cnn_float16q_model_path = '../spectrogram_models_from_notebooks/cnn/quantized/cnn_mel_spec_float16q.tflite'\n",
    "convert_bytes(get_file_size(cnn_float16q_model_path), \"KB\")\n",
    "\n",
    "y_pred = lite_model_from_file_predicts_dataset(cnn_float16q_model_path, x_data_np, y_data_np)"
   ]
  },
  {
   "cell_type": "markdown",
   "metadata": {},
   "source": [
    "##### CNN tf Lite model + Float Fallback quantization"
   ]
  },
  {
   "cell_type": "code",
   "execution_count": 26,
   "metadata": {},
   "outputs": [
    {
     "name": "stdout",
     "output_type": "stream",
     "text": [
      "File size: 30.109 Kilobytes\n",
      "Accuracy: 98.85%\n",
      "Recall: 98.47%\n",
      "Precision: 98.04%\n",
      "F1-score: 98.26%\n"
     ]
    }
   ],
   "source": [
    "cnn_float_fallback_model_path = '../spectrogram_models_from_notebooks/cnn/quantized/cnn_mel_spec_fallback_q.tflite'\n",
    "convert_bytes(get_file_size(cnn_float_fallback_model_path), \"KB\")\n",
    "\n",
    "y_pred = lite_model_from_file_predicts_dataset(cnn_float_fallback_model_path, x_data_np, y_data_np)"
   ]
  },
  {
   "cell_type": "markdown",
   "metadata": {},
   "source": [
    "##### CNN tf Lite model + Full int quantization"
   ]
  },
  {
   "cell_type": "code",
   "execution_count": 23,
   "metadata": {},
   "outputs": [
    {
     "name": "stdout",
     "output_type": "stream",
     "text": [
      "File size: 30.125 Kilobytes\n",
      "Accuracy: 98.78%\n",
      "Recall: 98.47%\n",
      "Precision: 97.83%\n",
      "F1-score: 98.15%\n"
     ]
    }
   ],
   "source": [
    "cnn_full_int_q_model_path = '../spectrogram_models_from_notebooks/cnn/quantized/cnn_mel_spec_full_int_q.tflite'\n",
    "convert_bytes(get_file_size(cnn_full_int_q_model_path), \"KB\")\n",
    "\n",
    "y_pred = full_int_model_predict(cnn_full_int_q_model_path, x_data_np)\n",
    "evaluate_prediction(y_data_np, y_pred)"
   ]
  },
  {
   "cell_type": "code",
   "execution_count": null,
   "metadata": {},
   "outputs": [],
   "source": []
  },
  {
   "cell_type": "markdown",
   "metadata": {},
   "source": [
    "### SqueezeNet"
   ]
  },
  {
   "cell_type": "markdown",
   "metadata": {},
   "source": [
    "##### SqueezeNet initial model in keras format"
   ]
  },
  {
   "cell_type": "code",
   "execution_count": 28,
   "metadata": {},
   "outputs": [
    {
     "name": "stdout",
     "output_type": "stream",
     "text": [
      "File size: 8687.448 Kilobytes\n"
     ]
    }
   ],
   "source": [
    "squeezenet_initial_model_path = '../spectrogram_models_from_notebooks/squeezenet/squeezenet_spec_16kHz_baseline.keras'\n",
    "convert_bytes(get_file_size(squeezenet_initial_model_path), \"KB\")"
   ]
  },
  {
   "cell_type": "code",
   "execution_count": 29,
   "metadata": {},
   "outputs": [
    {
     "name": "stdout",
     "output_type": "stream",
     "text": [
      "Accuracy: 98.56%\n",
      "Recall: 99.56%\n",
      "Precision: 96.20%\n",
      "F1-score: 97.85%\n"
     ]
    }
   ],
   "source": [
    "squeezenet_initial_model = tf.keras.models.load_model(squeezenet_initial_model_path)\n",
    "# input data should be in numpy array\n",
    "y_pred_prob = squeezenet_initial_model.predict(x_data_np, verbose=0)\n",
    "y_pred = tf.argmax(y_pred_prob, axis=1).numpy()\n",
    "\n",
    "# Evaluate\n",
    "evaluate_prediction(y_data_np, y_pred)"
   ]
  },
  {
   "cell_type": "markdown",
   "metadata": {},
   "source": [
    "##### SqueezeNet tf Lite model (without any additional quantization techniques)"
   ]
  },
  {
   "cell_type": "code",
   "execution_count": 30,
   "metadata": {},
   "outputs": [
    {
     "name": "stdout",
     "output_type": "stream",
     "text": [
      "File size: 2856.07 Kilobytes\n",
      "Accuracy: 98.56%\n",
      "Recall: 99.56%\n",
      "Precision: 96.20%\n",
      "F1-score: 97.85%\n"
     ]
    }
   ],
   "source": [
    "squeezenet_tflite_model_path = '../spectrogram_models_from_notebooks/squeezenet/squeezenet_spec_16kHz.tflite'\n",
    "convert_bytes(get_file_size(squeezenet_tflite_model_path), \"KB\")\n",
    "y_pred = lite_model_from_file_predicts_dataset(squeezenet_tflite_model_path, x_data_np, y_data_np)"
   ]
  },
  {
   "cell_type": "markdown",
   "metadata": {},
   "source": [
    "##### SqueezeNet tf Lite model + Post Training Dynamic range quantization"
   ]
  },
  {
   "cell_type": "code",
   "execution_count": 31,
   "metadata": {},
   "outputs": [
    {
     "name": "stdout",
     "output_type": "stream",
     "text": [
      "File size: 770.258 Kilobytes\n",
      "Accuracy: 98.56%\n",
      "Recall: 99.56%\n",
      "Precision: 96.20%\n",
      "F1-score: 97.85%\n"
     ]
    }
   ],
   "source": [
    "squeezenet_tflite_drq_model_path = '../spectrogram_models_from_notebooks/squeezenet/squeezenet_spec_16kHz_drq.tflite'\n",
    "convert_bytes(get_file_size(squeezenet_tflite_drq_model_path), \"KB\")\n",
    "y_pred = lite_model_from_file_predicts_dataset(squeezenet_tflite_drq_model_path, x_data_np, y_data_np)"
   ]
  },
  {
   "cell_type": "markdown",
   "metadata": {},
   "source": [
    "##### SqueezeNet tf Lite model + Float 16 quantization"
   ]
  },
  {
   "cell_type": "code",
   "execution_count": 32,
   "metadata": {},
   "outputs": [
    {
     "name": "stdout",
     "output_type": "stream",
     "text": [
      "File size: 1442.977 Kilobytes\n",
      "Accuracy: 98.56%\n",
      "Recall: 99.56%\n",
      "Precision: 96.20%\n",
      "F1-score: 97.85%\n"
     ]
    }
   ],
   "source": [
    "squeezenet_float16q_model_path = '../spectrogram_models_from_notebooks/squeezenet/squeezenet_spec_16kHz_float16q.tflite'\n",
    "convert_bytes(get_file_size(squeezenet_float16q_model_path), \"KB\")\n",
    "\n",
    "y_pred = lite_model_from_file_predicts_dataset(squeezenet_float16q_model_path, x_data_np, y_data_np)"
   ]
  },
  {
   "cell_type": "markdown",
   "metadata": {},
   "source": [
    "##### SqueezeNet tf Lite model + Full integer quantization"
   ]
  },
  {
   "cell_type": "code",
   "execution_count": 33,
   "metadata": {},
   "outputs": [
    {
     "name": "stdout",
     "output_type": "stream",
     "text": [
      "File size: 807.539 Kilobytes\n",
      "Accuracy: 98.21%\n",
      "Recall: 97.82%\n",
      "Precision: 96.76%\n",
      "F1-score: 97.29%\n"
     ]
    }
   ],
   "source": [
    "squeezenet_full_int_q_model_path = '../spectrogram_models_from_notebooks/squeezenet/squeezenet_spec_16kHz_full_int_q.tflite'\n",
    "convert_bytes(get_file_size(squeezenet_full_int_q_model_path), \"KB\")\n",
    "\n",
    "y_pred = full_int_model_predict(squeezenet_full_int_q_model_path, x_data_np)\n",
    "evaluate_prediction(y_data_np, y_pred)"
   ]
  },
  {
   "cell_type": "code",
   "execution_count": null,
   "metadata": {},
   "outputs": [],
   "source": []
  },
  {
   "cell_type": "markdown",
   "metadata": {},
   "source": [
    "### BNN "
   ]
  },
  {
   "cell_type": "markdown",
   "metadata": {},
   "source": [
    "##### BNN initial model in keras format"
   ]
  },
  {
   "cell_type": "code",
   "execution_count": 46,
   "metadata": {},
   "outputs": [
    {
     "name": "stdout",
     "output_type": "stream",
     "text": [
      "File size: 531.234 Kilobytes\n"
     ]
    }
   ],
   "source": [
    "bnn_initial_model_path = '../spectrogram_models_from_notebooks/bnn/hpo/bnn_mel_spec_3_conv_layer_model_binary_weights.keras'\n",
    "convert_bytes(get_file_size(bnn_initial_model_path), \"KB\")"
   ]
  },
  {
   "cell_type": "code",
   "execution_count": 47,
   "metadata": {},
   "outputs": [],
   "source": [
    "from larq.layers import QuantConv2D"
   ]
  },
  {
   "cell_type": "code",
   "execution_count": 48,
   "metadata": {},
   "outputs": [
    {
     "name": "stdout",
     "output_type": "stream",
     "text": [
      "Accuracy: 94.97%\n",
      "Recall: 87.12%\n",
      "Precision: 97.32%\n",
      "F1-score: 91.94%\n"
     ]
    }
   ],
   "source": [
    "bnn_initial_model = tf.keras.models.load_model(bnn_initial_model_path)\n",
    "# input data should be in numpy array\n",
    "y_pred_prob = bnn_initial_model.predict(x_data_np, verbose=0)\n",
    "y_pred = tf.argmax(y_pred_prob, axis=1).numpy()\n",
    "\n",
    "# Evaluate\n",
    "evaluate_prediction(y_data_np, y_pred)"
   ]
  },
  {
   "cell_type": "markdown",
   "metadata": {},
   "source": [
    "##### BNN larq tflite"
   ]
  },
  {
   "cell_type": "markdown",
   "metadata": {},
   "source": [
    "I dont know how to read this model!!!\n",
    "\n",
    "This model gave F1-score of 92.04%"
   ]
  },
  {
   "cell_type": "code",
   "execution_count": 50,
   "metadata": {},
   "outputs": [
    {
     "name": "stdout",
     "output_type": "stream",
     "text": [
      "File size: 156.035 Kilobytes\n"
     ]
    }
   ],
   "source": [
    "bnn_larq_tflite_model_path = '../spectrogram_models_from_notebooks/bnn/hpo/bnn_mel_spec_lq.tflite'\n",
    "convert_bytes(get_file_size(bnn_larq_tflite_model_path), \"KB\")\n",
    "\n",
    "# y_pred = full_int_model_predict(bnn_larq_tflite_model_path, x_data_np)\n",
    "# evaluate_prediction(y_data_np, y_pred)"
   ]
  },
  {
   "cell_type": "markdown",
   "metadata": {},
   "source": [
    "##### BNN tf tflite"
   ]
  },
  {
   "cell_type": "code",
   "execution_count": 51,
   "metadata": {},
   "outputs": [
    {
     "name": "stdout",
     "output_type": "stream",
     "text": [
      "File size: 157.906 Kilobytes\n",
      "Accuracy: 94.97%\n",
      "Recall: 87.12%\n",
      "Precision: 97.32%\n",
      "F1-score: 91.94%\n"
     ]
    }
   ],
   "source": [
    "bnn_tf_tflite_model_path = '../spectrogram_models_from_notebooks/bnn/hpo/bnn_mel_spec_tf_lite.tflite'\n",
    "convert_bytes(get_file_size(bnn_tf_tflite_model_path), \"KB\")\n",
    "\n",
    "y_pred = full_int_model_predict(bnn_tf_tflite_model_path, x_data_np)\n",
    "evaluate_prediction(y_data_np, y_pred)"
   ]
  },
  {
   "cell_type": "markdown",
   "metadata": {},
   "source": [
    "##### BNN full int quant"
   ]
  },
  {
   "cell_type": "code",
   "execution_count": 52,
   "metadata": {},
   "outputs": [
    {
     "name": "stdout",
     "output_type": "stream",
     "text": [
      "File size: 49.953 Kilobytes\n",
      "Accuracy: 95.19%\n",
      "Recall: 88.21%\n",
      "Precision: 96.88%\n",
      "F1-score: 92.34%\n"
     ]
    }
   ],
   "source": [
    "bnn_full_int_model_path = '../spectrogram_models_from_notebooks/bnn/hpo/bnn_mel_spec_full_int_q.tflite'\n",
    "convert_bytes(get_file_size(bnn_full_int_model_path), \"KB\")\n",
    "\n",
    "y_pred = full_int_model_predict(bnn_full_int_model_path, x_data_np)\n",
    "evaluate_prediction(y_data_np, y_pred)"
   ]
  },
  {
   "cell_type": "markdown",
   "metadata": {},
   "source": [
    "### ViT"
   ]
  },
  {
   "cell_type": "markdown",
   "metadata": {},
   "source": [
    "For ViT we need dataset in patches"
   ]
  },
  {
   "cell_type": "code",
   "execution_count": 80,
   "metadata": {},
   "outputs": [],
   "source": [
    "# Take all audio from testing dataset and create spectrograms from them\n",
    "# We will use spectrograms for models testing\n",
    "directory = '../dataset/testing'\n",
    "\n",
    "x_data = []\n",
    "y_data = []\n",
    "for root, dirs, files in os.walk(directory):\n",
    "    for file in files:\n",
    "        full_file_name = os.path.join(root, file)\n",
    "\n",
    "        if \"non_target\" in str(full_file_name):\n",
    "            class_encoded = 0\n",
    "        elif \"target\" in str(full_file_name):\n",
    "            class_encoded = 1\n",
    "\n",
    "        audio, sr = tf.audio.decode_wav(tf.io.read_file(full_file_name))\n",
    "        audio = tf.squeeze(audio, axis=-1)\n",
    "        resampled_audio = tfio.audio.resample(audio, rate_in=48000, rate_out=sample_rate)\n",
    "        # Prepare log mel spectrogram from audio\n",
    "        spectrogram_feature = create_spectrogram_patches(resampled_audio, desired_length=48000, sample_rate = 16000)\n",
    "        x_data.append(spectrogram_feature)\n",
    "        y_data.append(class_encoded)\n",
    "\n",
    "# input data should be in numpy array, not in list\n",
    "x_data_patches_np = np.array(x_data)\n",
    "y_data_patches_np = np.array(y_data)"
   ]
  },
  {
   "cell_type": "code",
   "execution_count": 81,
   "metadata": {},
   "outputs": [
    {
     "name": "stdout",
     "output_type": "stream",
     "text": [
      "(23, 10, 64)\n"
     ]
    }
   ],
   "source": [
    "for i in x_data_patches_np:\n",
    "    print(i.shape)\n",
    "    break"
   ]
  },
  {
   "cell_type": "code",
   "execution_count": 85,
   "metadata": {},
   "outputs": [
    {
     "data": {
      "text/plain": [
       "1393"
      ]
     },
     "execution_count": 85,
     "metadata": {},
     "output_type": "execute_result"
    }
   ],
   "source": [
    "len(x_data_patches_np)"
   ]
  },
  {
   "cell_type": "markdown",
   "metadata": {},
   "source": [
    "##### ViT initial model in keras format"
   ]
  },
  {
   "cell_type": "code",
   "execution_count": 82,
   "metadata": {},
   "outputs": [
    {
     "name": "stdout",
     "output_type": "stream",
     "text": [
      "File size: 493.881 Kilobytes\n"
     ]
    }
   ],
   "source": [
    "vit_initial_model_path = '../spectrogram_models_from_notebooks/vit/hpo/vit_mel_spec_final.keras'\n",
    "convert_bytes(get_file_size(vit_initial_model_path), \"KB\")"
   ]
  },
  {
   "cell_type": "code",
   "execution_count": 83,
   "metadata": {},
   "outputs": [],
   "source": [
    "from vit_for_tflite_compartible import PatchEncoder"
   ]
  },
  {
   "cell_type": "code",
   "execution_count": 84,
   "metadata": {},
   "outputs": [
    {
     "name": "stdout",
     "output_type": "stream",
     "text": [
      "Accuracy: 97.85%\n",
      "Recall: 96.51%\n",
      "Precision: 96.93%\n",
      "F1-score: 96.72%\n"
     ]
    }
   ],
   "source": [
    "vit_initial_model = tf.keras.models.load_model(vit_initial_model_path, compile=True, custom_objects={ \"PatchEncoder\": PatchEncoder})\n",
    "# input data should be in numpy array\n",
    "y_pred_prob = vit_initial_model.predict(x_data_patches_np, verbose=0)\n",
    "y_pred = tf.argmax(y_pred_prob, axis=1).numpy()\n",
    "\n",
    "# Evaluate\n",
    "evaluate_prediction(y_data_patches_np, y_pred)"
   ]
  },
  {
   "cell_type": "markdown",
   "metadata": {},
   "source": [
    "##### ViT tflite"
   ]
  },
  {
   "cell_type": "code",
   "execution_count": 74,
   "metadata": {},
   "outputs": [
    {
     "name": "stdout",
     "output_type": "stream",
     "text": [
      "File size: 154.797 Kilobytes\n",
      "Accuracy: 97.85%\n",
      "Recall: 96.51%\n",
      "Precision: 96.93%\n",
      "F1-score: 96.72%\n"
     ]
    }
   ],
   "source": [
    "vit_tflite_model_path = '../spectrogram_models_from_notebooks/vit/quantized/vit_mel_spec.tflite'\n",
    "convert_bytes(get_file_size(vit_tflite_model_path), \"KB\")\n",
    "\n",
    "y_pred = full_int_model_predict(vit_tflite_model_path, x_data_patches_np)\n",
    "evaluate_prediction(y_data_patches_np, y_pred)"
   ]
  },
  {
   "cell_type": "markdown",
   "metadata": {},
   "source": [
    "##### ViT Dynamic range quantization"
   ]
  },
  {
   "cell_type": "code",
   "execution_count": 75,
   "metadata": {},
   "outputs": [
    {
     "name": "stdout",
     "output_type": "stream",
     "text": [
      "File size: 68.609 Kilobytes\n",
      "Accuracy: 97.85%\n",
      "Recall: 96.51%\n",
      "Precision: 96.93%\n",
      "F1-score: 96.72%\n"
     ]
    }
   ],
   "source": [
    "vit_drq_model_path = '../spectrogram_models_from_notebooks/vit/quantized/vit_mel_spec_drq.tflite'\n",
    "convert_bytes(get_file_size(vit_drq_model_path), \"KB\")\n",
    "\n",
    "y_pred = full_int_model_predict(vit_drq_model_path, x_data_patches_np)\n",
    "evaluate_prediction(y_data_patches_np, y_pred)"
   ]
  },
  {
   "cell_type": "markdown",
   "metadata": {},
   "source": [
    "##### ViT Float16"
   ]
  },
  {
   "cell_type": "code",
   "execution_count": 76,
   "metadata": {},
   "outputs": [
    {
     "name": "stdout",
     "output_type": "stream",
     "text": [
      "File size: 93.582 Kilobytes\n",
      "Accuracy: 97.85%\n",
      "Recall: 96.51%\n",
      "Precision: 96.93%\n",
      "F1-score: 96.72%\n"
     ]
    }
   ],
   "source": [
    "vit_float16_model_path = '../spectrogram_models_from_notebooks/vit/quantized/vit_mel_spec_float16q.tflite'\n",
    "convert_bytes(get_file_size(vit_float16_model_path), \"KB\")\n",
    "\n",
    "y_pred = full_int_model_predict(vit_float16_model_path, x_data_patches_np)\n",
    "evaluate_prediction(y_data_patches_np, y_pred)"
   ]
  },
  {
   "cell_type": "markdown",
   "metadata": {},
   "source": [
    "##### ViT Float Fallback"
   ]
  },
  {
   "cell_type": "code",
   "execution_count": 79,
   "metadata": {},
   "outputs": [
    {
     "name": "stdout",
     "output_type": "stream",
     "text": [
      "File size: 60.828 Kilobytes\n",
      "Accuracy: 96.41%\n",
      "Recall: 92.58%\n",
      "Precision: 96.36%\n",
      "F1-score: 94.43%\n"
     ]
    }
   ],
   "source": [
    "vit_float_fallback_model_path = '../spectrogram_models_from_notebooks/vit/quantized/vit_mel_spec_fallback_q.tflite'\n",
    "convert_bytes(get_file_size(vit_float_fallback_model_path), \"KB\")\n",
    "\n",
    "y_pred = full_int_model_predict(vit_float_fallback_model_path, x_data_patches_np)\n",
    "evaluate_prediction(y_data_patches_np, y_pred)"
   ]
  },
  {
   "cell_type": "markdown",
   "metadata": {},
   "source": [
    "##### ViT Full Int"
   ]
  },
  {
   "cell_type": "code",
   "execution_count": 90,
   "metadata": {},
   "outputs": [
    {
     "name": "stdout",
     "output_type": "stream",
     "text": [
      "File size: 60.836 Kilobytes\n",
      "Accuracy: 96.63%\n",
      "Recall: 92.36%\n",
      "Precision: 97.24%\n",
      "F1-score: 94.74%\n"
     ]
    }
   ],
   "source": [
    "vit_full_int_model_path = '../spectrogram_models_from_notebooks/vit/quantized/vit_mel_spec_full_int_q.tflite'\n",
    "convert_bytes(get_file_size(vit_full_int_model_path), \"KB\")\n",
    "\n",
    "y_pred = full_int_model_predict(vit_full_int_model_path, x_data_patches_np)\n",
    "evaluate_prediction(y_data_patches_np, y_pred)"
   ]
  },
  {
   "cell_type": "code",
   "execution_count": null,
   "metadata": {},
   "outputs": [],
   "source": []
  }
 ],
 "metadata": {
  "kernelspec": {
   "display_name": "ag14",
   "language": "python",
   "name": "python3"
  },
  "language_info": {
   "codemirror_mode": {
    "name": "ipython",
    "version": 3
   },
   "file_extension": ".py",
   "mimetype": "text/x-python",
   "name": "python",
   "nbconvert_exporter": "python",
   "pygments_lexer": "ipython3",
   "version": "3.9.19"
  }
 },
 "nbformat": 4,
 "nbformat_minor": 2
}
