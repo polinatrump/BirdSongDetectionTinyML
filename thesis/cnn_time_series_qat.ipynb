{
 "cells": [
  {
   "cell_type": "code",
   "execution_count": 1,
   "metadata": {},
   "outputs": [],
   "source": [
    "%load_ext autoreload\n",
    "%autoreload 2"
   ]
  },
  {
   "cell_type": "markdown",
   "metadata": {},
   "source": [
    "We need first install tensorflow_model_optimization, then needed tensorflow version, then tf_keras,  then needed tensorflow-io version   \n",
    "\n",
    "tensorflow-addons ?"
   ]
  },
  {
   "cell_type": "code",
   "execution_count": 2,
   "metadata": {},
   "outputs": [
    {
     "name": "stderr",
     "output_type": "stream",
     "text": [
      "2024-07-26 22:51:10.208200: I external/local_xla/xla/tsl/cuda/cudart_stub.cc:32] Could not find cuda drivers on your machine, GPU will not be used.\n",
      "2024-07-26 22:51:10.211047: I external/local_xla/xla/tsl/cuda/cudart_stub.cc:32] Could not find cuda drivers on your machine, GPU will not be used.\n",
      "2024-07-26 22:51:10.219777: E external/local_xla/xla/stream_executor/cuda/cuda_fft.cc:485] Unable to register cuFFT factory: Attempting to register factory for plugin cuFFT when one has already been registered\n",
      "2024-07-26 22:51:10.234390: E external/local_xla/xla/stream_executor/cuda/cuda_dnn.cc:8454] Unable to register cuDNN factory: Attempting to register factory for plugin cuDNN when one has already been registered\n",
      "2024-07-26 22:51:10.238481: E external/local_xla/xla/stream_executor/cuda/cuda_blas.cc:1452] Unable to register cuBLAS factory: Attempting to register factory for plugin cuBLAS when one has already been registered\n",
      "2024-07-26 22:51:10.249302: I tensorflow/core/platform/cpu_feature_guard.cc:210] This TensorFlow binary is optimized to use available CPU instructions in performance-critical operations.\n",
      "To enable the following instructions: AVX2 FMA, in other operations, rebuild TensorFlow with the appropriate compiler flags.\n",
      "2024-07-26 22:51:11.076426: W tensorflow/compiler/tf2tensorrt/utils/py_utils.cc:38] TF-TRT Warning: Could not find TensorRT\n"
     ]
    }
   ],
   "source": [
    "import tensorflow as tf"
   ]
  },
  {
   "cell_type": "code",
   "execution_count": 4,
   "metadata": {},
   "outputs": [],
   "source": [
    "# import tensorflow_io\n",
    "# from tensorflow_model_optimization.python.core.keras.compat import keras\n",
    "# from tensorflow_model_optimization.quantization import keras\n"
   ]
  },
  {
   "cell_type": "code",
   "execution_count": 6,
   "metadata": {},
   "outputs": [],
   "source": [
    "import tensorflow as tf\n",
    "# from tensorflow_model_optimization.python.core.keras.compat import keras\n",
    "import tensorflow_model_optimization as tfmot\n",
    "import numpy as np\n",
    "import matplotlib.pyplot as plt\n",
    "\n",
    "import sys \n",
    "sys.path.append(\"C:/Users/polin/TinyBirdSounds\") \n",
    "\n",
    "from create_spectrogram import (\n",
    "    create_spectrograms_from_audio_dataset, \n",
    ")\n",
    "from helper_functions import (\n",
    "    get_file_size, \n",
    "    convert_bytes, \n",
    "    convert_prefetchdataset_to_numpy_arrays,\n",
    "    predict_and_print_full_results,\n",
    "    evaluate_time_of_prediction\n",
    "    )"
   ]
  },
  {
   "cell_type": "code",
   "execution_count": 8,
   "metadata": {},
   "outputs": [
    {
     "name": "stdout",
     "output_type": "stream",
     "text": [
      "Found 11292 files belonging to 2 classes.\n",
      "WARNING:tensorflow:Using a while_loop for converting IO>AudioResample cause there is no registered converter for this op.\n",
      "Found 1393 files belonging to 2 classes.\n",
      "WARNING:tensorflow:Using a while_loop for converting IO>AudioResample cause there is no registered converter for this op.\n",
      "Found 1380 files belonging to 2 classes.\n",
      "WARNING:tensorflow:Using a while_loop for converting IO>AudioResample cause there is no registered converter for this op.\n",
      "Classes:  ['non_target' 'target']\n"
     ]
    }
   ],
   "source": [
    "train_dataset = tf.keras.utils.audio_dataset_from_directory(\"../dataset/training\", labels='inferred', sampling_rate=16000, batch_size=32, shuffle=True, seed=3407)\n",
    "test_dataset = tf.keras.utils.audio_dataset_from_directory(\"../dataset/testing\", labels='inferred', sampling_rate=16000, batch_size=32, shuffle=True, seed=3407)\n",
    "val_dataset = tf.keras.utils.audio_dataset_from_directory(\"../dataset/validation\", labels='inferred', sampling_rate=16000, batch_size=32, shuffle=True, seed=3407)\n",
    "\n",
    "label_names = np.array(train_dataset.class_names)\n",
    "print(\"Classes: \", label_names)"
   ]
  },
  {
   "cell_type": "code",
   "execution_count": 9,
   "metadata": {},
   "outputs": [
    {
     "name": "stderr",
     "output_type": "stream",
     "text": [
      "2024-07-26 22:53:16.343970: I tensorflow/core/framework/local_rendezvous.cc:404] Local rendezvous is aborting with status: OUT_OF_RANGE: End of sequence\n",
      "2024-07-26 22:53:25.362421: I tensorflow/core/framework/local_rendezvous.cc:404] Local rendezvous is aborting with status: OUT_OF_RANGE: End of sequence\n"
     ]
    }
   ],
   "source": [
    "x_train_np, y_train_np = convert_prefetchdataset_to_numpy_arrays(train_dataset, data_type=\"time-series\")\n",
    "x_val_np, y_val_np = convert_prefetchdataset_to_numpy_arrays(val_dataset, data_type=\"time-series\")\n",
    "x_test_np, y_test_np = convert_prefetchdataset_to_numpy_arrays(test_dataset, data_type=\"time-series\")"
   ]
  },
  {
   "cell_type": "code",
   "execution_count": 13,
   "metadata": {},
   "outputs": [
    {
     "name": "stdout",
     "output_type": "stream",
     "text": [
      "Model: \"sequential_11\"\n",
      "_________________________________________________________________\n",
      " Layer (type)                Output Shape              Param #   \n",
      "=================================================================\n",
      " conv1d_21 (Conv1D)          (None, 47996, 4)          24        \n",
      "                                                                 \n",
      " max_pooling1d_21 (MaxPooli  (None, 5999, 4)           0         \n",
      " ng1D)                                                           \n",
      "                                                                 \n",
      " conv1d_22 (Conv1D)          (None, 5995, 4)           84        \n",
      "                                                                 \n",
      " max_pooling1d_22 (MaxPooli  (None, 749, 4)            0         \n",
      " ng1D)                                                           \n",
      "                                                                 \n",
      " conv1d_23 (Conv1D)          (None, 745, 8)            168       \n",
      "                                                                 \n",
      " max_pooling1d_23 (MaxPooli  (None, 93, 8)             0         \n",
      " ng1D)                                                           \n",
      "                                                                 \n",
      " flatten_11 (Flatten)        (None, 744)               0         \n",
      "                                                                 \n",
      " dense_22 (Dense)            (None, 12)                8940      \n",
      "                                                                 \n",
      " dense_23 (Dense)            (None, 2)                 26        \n",
      "                                                                 \n",
      "=================================================================\n",
      "Total params: 9242 (36.10 KB)\n",
      "Trainable params: 9242 (36.10 KB)\n",
      "Non-trainable params: 0 (0.00 Byte)\n",
      "_________________________________________________________________\n",
      "File size: 0.149 Megabytes\n"
     ]
    }
   ],
   "source": [
    "BASE_MODEL_FILE_NAME = \"../time_series_models_from_notebooks/cnn/hpo/cnn_time_ser_3_conv_layer_model.keras\"\n",
    "base_model = tf.keras.models.load_model(BASE_MODEL_FILE_NAME)\n",
    "base_model.summary()\n",
    "convert_bytes(get_file_size(BASE_MODEL_FILE_NAME), \"MB\")"
   ]
  },
  {
   "cell_type": "code",
   "execution_count": 14,
   "metadata": {},
   "outputs": [
    {
     "ename": "RuntimeError",
     "evalue": "Layer conv1d_21:<class 'tf_keras.src.layers.convolutional.conv1d.Conv1D'> is not supported. You can quantize this layer by passing a `tfmot.quantization.keras.QuantizeConfig` instance to the `quantize_annotate_layer` API.",
     "output_type": "error",
     "traceback": [
      "\u001b[0;31m---------------------------------------------------------------------------\u001b[0m",
      "\u001b[0;31mRuntimeError\u001b[0m                              Traceback (most recent call last)",
      "Cell \u001b[0;32mIn[14], line 4\u001b[0m\n\u001b[1;32m      1\u001b[0m quantize_model \u001b[38;5;241m=\u001b[39m tfmot\u001b[38;5;241m.\u001b[39mquantization\u001b[38;5;241m.\u001b[39mkeras\u001b[38;5;241m.\u001b[39mquantize_model\n\u001b[1;32m      3\u001b[0m \u001b[38;5;66;03m# q_aware stands for for quantization aware.\u001b[39;00m\n\u001b[0;32m----> 4\u001b[0m q_aware_model \u001b[38;5;241m=\u001b[39m \u001b[43mquantize_model\u001b[49m\u001b[43m(\u001b[49m\u001b[43mbase_model\u001b[49m\u001b[43m)\u001b[49m\n\u001b[1;32m      6\u001b[0m \u001b[38;5;66;03m# `quantize_model` requires a recompile.\u001b[39;00m\n\u001b[1;32m      7\u001b[0m q_aware_model\u001b[38;5;241m.\u001b[39mcompile(optimizer\u001b[38;5;241m=\u001b[39m\u001b[38;5;124m'\u001b[39m\u001b[38;5;124madam\u001b[39m\u001b[38;5;124m'\u001b[39m,\n\u001b[1;32m      8\u001b[0m               loss\u001b[38;5;241m=\u001b[39mkeras\u001b[38;5;241m.\u001b[39mlosses\u001b[38;5;241m.\u001b[39mSparseCategoricalCrossentropy(from_logits\u001b[38;5;241m=\u001b[39m\u001b[38;5;28;01mTrue\u001b[39;00m),\n\u001b[1;32m      9\u001b[0m               metrics\u001b[38;5;241m=\u001b[39m[\u001b[38;5;124m'\u001b[39m\u001b[38;5;124maccuracy\u001b[39m\u001b[38;5;124m'\u001b[39m])\n",
      "File \u001b[0;32m~/newname/env_for_qat/lib/python3.9/site-packages/tensorflow_model_optimization/python/core/quantization/keras/quantize.py:141\u001b[0m, in \u001b[0;36mquantize_model\u001b[0;34m(to_quantize, quantized_layer_name_prefix)\u001b[0m\n\u001b[1;32m    135\u001b[0m   \u001b[38;5;28;01mraise\u001b[39;00m \u001b[38;5;167;01mValueError\u001b[39;00m(\n\u001b[1;32m    136\u001b[0m       \u001b[38;5;124m'\u001b[39m\u001b[38;5;124m`to_quantize` can only either be a keras Sequential or \u001b[39m\u001b[38;5;124m'\u001b[39m\n\u001b[1;32m    137\u001b[0m       \u001b[38;5;124m'\u001b[39m\u001b[38;5;124mFunctional model.\u001b[39m\u001b[38;5;124m'\u001b[39m\n\u001b[1;32m    138\u001b[0m   )\n\u001b[1;32m    140\u001b[0m annotated_model \u001b[38;5;241m=\u001b[39m quantize_annotate_model(to_quantize)\n\u001b[0;32m--> 141\u001b[0m \u001b[38;5;28;01mreturn\u001b[39;00m \u001b[43mquantize_apply\u001b[49m\u001b[43m(\u001b[49m\n\u001b[1;32m    142\u001b[0m \u001b[43m    \u001b[49m\u001b[43mannotated_model\u001b[49m\u001b[43m,\u001b[49m\u001b[43m \u001b[49m\u001b[43mquantized_layer_name_prefix\u001b[49m\u001b[38;5;241;43m=\u001b[39;49m\u001b[43mquantized_layer_name_prefix\u001b[49m\u001b[43m)\u001b[49m\n",
      "File \u001b[0;32m~/newname/env_for_qat/lib/python3.9/site-packages/tensorflow_model_optimization/python/core/keras/metrics.py:74\u001b[0m, in \u001b[0;36mMonitorBoolGauge.__call__.<locals>.inner\u001b[0;34m(*args, **kwargs)\u001b[0m\n\u001b[1;32m     72\u001b[0m \u001b[38;5;28;01mexcept\u001b[39;00m \u001b[38;5;167;01mException\u001b[39;00m \u001b[38;5;28;01mas\u001b[39;00m error:\n\u001b[1;32m     73\u001b[0m   \u001b[38;5;28mself\u001b[39m\u001b[38;5;241m.\u001b[39mbool_gauge\u001b[38;5;241m.\u001b[39mget_cell(MonitorBoolGauge\u001b[38;5;241m.\u001b[39m_FAILURE_LABEL)\u001b[38;5;241m.\u001b[39mset(\u001b[38;5;28;01mTrue\u001b[39;00m)\n\u001b[0;32m---> 74\u001b[0m   \u001b[38;5;28;01mraise\u001b[39;00m error\n",
      "File \u001b[0;32m~/newname/env_for_qat/lib/python3.9/site-packages/tensorflow_model_optimization/python/core/keras/metrics.py:69\u001b[0m, in \u001b[0;36mMonitorBoolGauge.__call__.<locals>.inner\u001b[0;34m(*args, **kwargs)\u001b[0m\n\u001b[1;32m     66\u001b[0m \u001b[38;5;129m@functools\u001b[39m\u001b[38;5;241m.\u001b[39mwraps(func)\n\u001b[1;32m     67\u001b[0m \u001b[38;5;28;01mdef\u001b[39;00m \u001b[38;5;21minner\u001b[39m(\u001b[38;5;241m*\u001b[39margs, \u001b[38;5;241m*\u001b[39m\u001b[38;5;241m*\u001b[39mkwargs):\n\u001b[1;32m     68\u001b[0m   \u001b[38;5;28;01mtry\u001b[39;00m:\n\u001b[0;32m---> 69\u001b[0m     results \u001b[38;5;241m=\u001b[39m \u001b[43mfunc\u001b[49m\u001b[43m(\u001b[49m\u001b[38;5;241;43m*\u001b[39;49m\u001b[43margs\u001b[49m\u001b[43m,\u001b[49m\u001b[43m \u001b[49m\u001b[38;5;241;43m*\u001b[39;49m\u001b[38;5;241;43m*\u001b[39;49m\u001b[43mkwargs\u001b[49m\u001b[43m)\u001b[49m\n\u001b[1;32m     70\u001b[0m     \u001b[38;5;28mself\u001b[39m\u001b[38;5;241m.\u001b[39mbool_gauge\u001b[38;5;241m.\u001b[39mget_cell(MonitorBoolGauge\u001b[38;5;241m.\u001b[39m_SUCCESS_LABEL)\u001b[38;5;241m.\u001b[39mset(\u001b[38;5;28;01mTrue\u001b[39;00m)\n\u001b[1;32m     71\u001b[0m     \u001b[38;5;28;01mreturn\u001b[39;00m results\n",
      "File \u001b[0;32m~/newname/env_for_qat/lib/python3.9/site-packages/tensorflow_model_optimization/python/core/quantization/keras/quantize.py:500\u001b[0m, in \u001b[0;36mquantize_apply\u001b[0;34m(model, scheme, quantized_layer_name_prefix)\u001b[0m\n\u001b[1;32m    494\u001b[0m quantize_registry \u001b[38;5;241m=\u001b[39m scheme\u001b[38;5;241m.\u001b[39mget_quantize_registry()\n\u001b[1;32m    496\u001b[0m \u001b[38;5;66;03m# 4. Actually quantize all the relevant layers in the model. This is done by\u001b[39;00m\n\u001b[1;32m    497\u001b[0m \u001b[38;5;66;03m# wrapping the layers with QuantizeWrapper, and passing the associated\u001b[39;00m\n\u001b[1;32m    498\u001b[0m \u001b[38;5;66;03m# `QuantizeConfig`.\u001b[39;00m\n\u001b[0;32m--> 500\u001b[0m \u001b[38;5;28;01mreturn\u001b[39;00m \u001b[43mkeras\u001b[49m\u001b[38;5;241;43m.\u001b[39;49m\u001b[43mmodels\u001b[49m\u001b[38;5;241;43m.\u001b[39;49m\u001b[43mclone_model\u001b[49m\u001b[43m(\u001b[49m\n\u001b[1;32m    501\u001b[0m \u001b[43m    \u001b[49m\u001b[43mtransformed_model\u001b[49m\u001b[43m,\u001b[49m\u001b[43m \u001b[49m\u001b[43minput_tensors\u001b[49m\u001b[38;5;241;43m=\u001b[39;49m\u001b[38;5;28;43;01mNone\u001b[39;49;00m\u001b[43m,\u001b[49m\u001b[43m \u001b[49m\u001b[43mclone_function\u001b[49m\u001b[38;5;241;43m=\u001b[39;49m\u001b[43m_quantize\u001b[49m\u001b[43m)\u001b[49m\n",
      "File \u001b[0;32m~/newname/env_for_qat/lib/python3.9/site-packages/tf_keras/src/models/cloning.py:527\u001b[0m, in \u001b[0;36mclone_model\u001b[0;34m(model, input_tensors, clone_function)\u001b[0m\n\u001b[1;32m    525\u001b[0m \u001b[38;5;28;01mwith\u001b[39;00m serialization\u001b[38;5;241m.\u001b[39mDisableSharedObjectScope():\n\u001b[1;32m    526\u001b[0m     \u001b[38;5;28;01mif\u001b[39;00m \u001b[38;5;28misinstance\u001b[39m(model, Sequential):\n\u001b[0;32m--> 527\u001b[0m         \u001b[38;5;28;01mreturn\u001b[39;00m \u001b[43m_clone_sequential_model\u001b[49m\u001b[43m(\u001b[49m\n\u001b[1;32m    528\u001b[0m \u001b[43m            \u001b[49m\u001b[43mmodel\u001b[49m\u001b[43m,\u001b[49m\u001b[43m \u001b[49m\u001b[43minput_tensors\u001b[49m\u001b[38;5;241;43m=\u001b[39;49m\u001b[43minput_tensors\u001b[49m\u001b[43m,\u001b[49m\u001b[43m \u001b[49m\u001b[43mlayer_fn\u001b[49m\u001b[38;5;241;43m=\u001b[39;49m\u001b[43mclone_function\u001b[49m\n\u001b[1;32m    529\u001b[0m \u001b[43m        \u001b[49m\u001b[43m)\u001b[49m\n\u001b[1;32m    530\u001b[0m     \u001b[38;5;28;01mif\u001b[39;00m \u001b[38;5;28misinstance\u001b[39m(model, functional\u001b[38;5;241m.\u001b[39mFunctional):\n\u001b[1;32m    531\u001b[0m         \u001b[38;5;66;03m# If the get_config() method is the same as a regular Functional\u001b[39;00m\n\u001b[1;32m    532\u001b[0m         \u001b[38;5;66;03m# model, we're safe to use _clone_functional_model (which relies\u001b[39;00m\n\u001b[0;32m   (...)\u001b[0m\n\u001b[1;32m    535\u001b[0m         \u001b[38;5;66;03m# or input_tensors are passed, we attempt it anyway\u001b[39;00m\n\u001b[1;32m    536\u001b[0m         \u001b[38;5;66;03m# in order to preserve backwards compatibility.\u001b[39;00m\n\u001b[1;32m    537\u001b[0m         \u001b[38;5;28;01mif\u001b[39;00m generic_utils\u001b[38;5;241m.\u001b[39mis_default(model\u001b[38;5;241m.\u001b[39mget_config) \u001b[38;5;129;01mor\u001b[39;00m (\n\u001b[1;32m    538\u001b[0m             clone_function \u001b[38;5;129;01mor\u001b[39;00m input_tensors\n\u001b[1;32m    539\u001b[0m         ):\n",
      "File \u001b[0;32m~/newname/env_for_qat/lib/python3.9/site-packages/tf_keras/src/models/cloning.py:390\u001b[0m, in \u001b[0;36m_clone_sequential_model\u001b[0;34m(model, input_tensors, layer_fn)\u001b[0m\n\u001b[1;32m    383\u001b[0m \u001b[38;5;28;01mif\u001b[39;00m \u001b[38;5;28misinstance\u001b[39m(layer, InputLayer) \u001b[38;5;129;01mand\u001b[39;00m input_tensors \u001b[38;5;129;01mis\u001b[39;00m \u001b[38;5;129;01mnot\u001b[39;00m \u001b[38;5;28;01mNone\u001b[39;00m:\n\u001b[1;32m    384\u001b[0m     \u001b[38;5;66;03m# If input tensors are provided, the original model's InputLayer is\u001b[39;00m\n\u001b[1;32m    385\u001b[0m     \u001b[38;5;66;03m# overwritten with a different InputLayer.\u001b[39;00m\n\u001b[1;32m    386\u001b[0m     \u001b[38;5;28;01mcontinue\u001b[39;00m\n\u001b[1;32m    387\u001b[0m cloned_layer \u001b[38;5;241m=\u001b[39m (\n\u001b[1;32m    388\u001b[0m     _clone_layer(layer)\n\u001b[1;32m    389\u001b[0m     \u001b[38;5;28;01mif\u001b[39;00m \u001b[38;5;28misinstance\u001b[39m(layer, InputLayer)\n\u001b[0;32m--> 390\u001b[0m     \u001b[38;5;28;01melse\u001b[39;00m \u001b[43mlayer_fn\u001b[49m\u001b[43m(\u001b[49m\u001b[43mlayer\u001b[49m\u001b[43m)\u001b[49m\n\u001b[1;32m    391\u001b[0m )\n\u001b[1;32m    392\u001b[0m layers\u001b[38;5;241m.\u001b[39mappend(cloned_layer)\n\u001b[1;32m    393\u001b[0m layer_map[layer] \u001b[38;5;241m=\u001b[39m cloned_layer\n",
      "File \u001b[0;32m~/newname/env_for_qat/lib/python3.9/site-packages/tensorflow_model_optimization/python/core/quantization/keras/quantize.py:446\u001b[0m, in \u001b[0;36mquantize_apply.<locals>._quantize\u001b[0;34m(layer)\u001b[0m\n\u001b[1;32m    440\u001b[0m \u001b[38;5;28;01mif\u001b[39;00m \u001b[38;5;129;01mnot\u001b[39;00m quantize_config:\n\u001b[1;32m    441\u001b[0m   error_msg \u001b[38;5;241m=\u001b[39m (\n\u001b[1;32m    442\u001b[0m       \u001b[38;5;124m'\u001b[39m\u001b[38;5;124mLayer \u001b[39m\u001b[38;5;132;01m{}\u001b[39;00m\u001b[38;5;124m:\u001b[39m\u001b[38;5;132;01m{}\u001b[39;00m\u001b[38;5;124m is not supported. You can quantize this \u001b[39m\u001b[38;5;124m'\u001b[39m\n\u001b[1;32m    443\u001b[0m       \u001b[38;5;124m'\u001b[39m\u001b[38;5;124mlayer by passing a `tfmot.quantization.keras.QuantizeConfig` \u001b[39m\u001b[38;5;124m'\u001b[39m\n\u001b[1;32m    444\u001b[0m       \u001b[38;5;124m'\u001b[39m\u001b[38;5;124minstance to the `quantize_annotate_layer` \u001b[39m\u001b[38;5;124m'\u001b[39m\n\u001b[1;32m    445\u001b[0m       \u001b[38;5;124m'\u001b[39m\u001b[38;5;124mAPI.\u001b[39m\u001b[38;5;124m'\u001b[39m)\n\u001b[0;32m--> 446\u001b[0m   \u001b[38;5;28;01mraise\u001b[39;00m \u001b[38;5;167;01mRuntimeError\u001b[39;00m(\n\u001b[1;32m    447\u001b[0m       error_msg\u001b[38;5;241m.\u001b[39mformat(layer\u001b[38;5;241m.\u001b[39mname, layer\u001b[38;5;241m.\u001b[39m\u001b[38;5;18m__class__\u001b[39m,\n\u001b[1;32m    448\u001b[0m                        quantize_registry\u001b[38;5;241m.\u001b[39m\u001b[38;5;18m__class__\u001b[39m))\n\u001b[1;32m    450\u001b[0m \u001b[38;5;66;03m# `QuantizeWrapper` does not copy any additional layer params from\u001b[39;00m\n\u001b[1;32m    451\u001b[0m \u001b[38;5;66;03m# `QuantizeAnnotate`. This should generally be fine, but occasionally\u001b[39;00m\n\u001b[1;32m    452\u001b[0m \u001b[38;5;66;03m# `QuantizeAnnotate` wrapper may contain `batch_input_shape` like params.\u001b[39;00m\n\u001b[1;32m    453\u001b[0m \u001b[38;5;66;03m# TODO(pulkitb): Ensure this does not affect model cloning.\u001b[39;00m\n\u001b[1;32m    454\u001b[0m \u001b[38;5;28;01mreturn\u001b[39;00m quantize_wrapper\u001b[38;5;241m.\u001b[39mQuantizeWrapperV2(\n\u001b[1;32m    455\u001b[0m     layer, quantize_config, name_prefix\u001b[38;5;241m=\u001b[39mquantized_layer_name_prefix)\n",
      "\u001b[0;31mRuntimeError\u001b[0m: Layer conv1d_21:<class 'tf_keras.src.layers.convolutional.conv1d.Conv1D'> is not supported. You can quantize this layer by passing a `tfmot.quantization.keras.QuantizeConfig` instance to the `quantize_annotate_layer` API."
     ]
    }
   ],
   "source": [
    "quantize_model = tfmot.quantization.keras.quantize_model\n",
    "\n",
    "# q_aware stands for for quantization aware.\n",
    "q_aware_model = quantize_model(base_model)\n",
    "\n",
    "# `quantize_model` requires a recompile.\n",
    "q_aware_model.compile(optimizer='adam',\n",
    "              loss=keras.losses.SparseCategoricalCrossentropy(from_logits=True),\n",
    "              metrics=['accuracy'])\n",
    "\n",
    "q_aware_model.summary()"
   ]
  },
  {
   "cell_type": "code",
   "execution_count": 17,
   "metadata": {},
   "outputs": [
    {
     "name": "stderr",
     "output_type": "stream",
     "text": [
      "/home/polina/newname/env_for_qat/lib/python3.9/site-packages/tf_keras/src/backend.py:5729: UserWarning: \"`sparse_categorical_crossentropy` received `from_logits=True`, but the `output` argument was produced by a Softmax activation and thus does not represent logits. Was this intended?\n",
      "  output, from_logits = _get_logits(\n"
     ]
    },
    {
     "name": "stdout",
     "output_type": "stream",
     "text": [
      "15/15 [==============================] - 2s 52ms/step - loss: 0.1859 - accuracy: 0.9378 - val_loss: 0.0477 - val_accuracy: 1.0000\n"
     ]
    },
    {
     "data": {
      "text/plain": [
       "<tf_keras.src.callbacks.History at 0x7f17802ed8e0>"
      ]
     },
     "execution_count": 17,
     "metadata": {},
     "output_type": "execute_result"
    }
   ],
   "source": [
    "q_aware_model.fit(x_train_np[:500], y_train_np[:500],\n",
    "                  batch_size=32, epochs=1, validation_split=0.1)"
   ]
  },
  {
   "cell_type": "code",
   "execution_count": 18,
   "metadata": {},
   "outputs": [
    {
     "name": "stdout",
     "output_type": "stream",
     "text": [
      "Baseline test accuracy: 0.9899497628211975\n",
      "Quant test accuracy: 0.9597989916801453\n"
     ]
    }
   ],
   "source": [
    "_, baseline_model_accuracy = base_model.evaluate(\n",
    "    x_test_np, y_test_np, verbose=0)\n",
    "\n",
    "_, q_aware_model_accuracy = q_aware_model.evaluate(\n",
    "   x_test_np, y_test_np, verbose=0)\n",
    "\n",
    "print('Baseline test accuracy:', baseline_model_accuracy)\n",
    "print('Quant test accuracy:', q_aware_model_accuracy)"
   ]
  },
  {
   "cell_type": "code",
   "execution_count": 19,
   "metadata": {},
   "outputs": [
    {
     "name": "stdout",
     "output_type": "stream",
     "text": [
      "INFO:tensorflow:Assets written to: /tmp/tmpumko6fhs/assets\n"
     ]
    },
    {
     "name": "stderr",
     "output_type": "stream",
     "text": [
      "INFO:tensorflow:Assets written to: /tmp/tmpumko6fhs/assets\n",
      "/home/polina/newname/env_for_qat/lib/python3.9/site-packages/tensorflow/lite/python/convert.py:983: UserWarning: Statistics for quantized inputs were expected, but not specified; continuing anyway.\n",
      "  warnings.warn(\n",
      "WARNING: All log messages before absl::InitializeLog() is called are written to STDERR\n",
      "W0000 00:00:1722026900.742888   24464 tf_tfl_flatbuffer_helpers.cc:392] Ignored output_format.\n",
      "W0000 00:00:1722026900.742951   24464 tf_tfl_flatbuffer_helpers.cc:395] Ignored drop_control_dependency.\n",
      "2024-07-26 22:48:20.743359: I tensorflow/cc/saved_model/reader.cc:83] Reading SavedModel from: /tmp/tmpumko6fhs\n",
      "2024-07-26 22:48:20.747226: I tensorflow/cc/saved_model/reader.cc:52] Reading meta graph with tags { serve }\n",
      "2024-07-26 22:48:20.747267: I tensorflow/cc/saved_model/reader.cc:147] Reading SavedModel debug info (if present) from: /tmp/tmpumko6fhs\n",
      "2024-07-26 22:48:20.763674: I tensorflow/compiler/mlir/mlir_graph_optimization_pass.cc:388] MLIR V1 optimization pass is not enabled\n",
      "2024-07-26 22:48:20.767221: I tensorflow/cc/saved_model/loader.cc:236] Restoring SavedModel bundle.\n",
      "2024-07-26 22:48:20.842021: I tensorflow/cc/saved_model/loader.cc:220] Running initialization op on SavedModel bundle at path: /tmp/tmpumko6fhs\n",
      "2024-07-26 22:48:20.865508: I tensorflow/cc/saved_model/loader.cc:462] SavedModel load for tags { serve }; Status: success: OK. Took 122153 microseconds.\n",
      "2024-07-26 22:48:20.901603: I tensorflow/compiler/mlir/tensorflow/utils/dump_mlir_util.cc:268] disabling MLIR crash reproducer, set env var `MLIR_CRASH_REPRODUCER_DIRECTORY` to enable.\n"
     ]
    }
   ],
   "source": [
    "converter = tf.lite.TFLiteConverter.from_keras_model(q_aware_model)\n",
    "converter.optimizations = [tf.lite.Optimize.DEFAULT]\n",
    "\n",
    "quantized_tflite_model = converter.convert()"
   ]
  },
  {
   "cell_type": "code",
   "execution_count": 20,
   "metadata": {},
   "outputs": [
    {
     "name": "stdout",
     "output_type": "stream",
     "text": [
      "Validation dataset:\n"
     ]
    },
    {
     "name": "stderr",
     "output_type": "stream",
     "text": [
      "INFO: Created TensorFlow Lite XNNPACK delegate for CPU.\n"
     ]
    },
    {
     "name": "stdout",
     "output_type": "stream",
     "text": [
      "Basic assessment of the whole dataset (without any partitions):\n",
      "Accuracy: 96.96%\n",
      "Recall: 96.61%\n",
      "Precision: 94.61%\n",
      "F1-score: 95.60%\n",
      "\n",
      "Devide dataset into 10 non-overlapping patritions and get their mean F1-score\n",
      "Non-overlap mean F1-score:  0.9555363922845688\n",
      "\n",
      "Get 100 bootstrap samples from dataset with 100 samples each and get their mean F1-score\n",
      "Bootstrap mean F1-score:  0.9542238282981039\n",
      "\n",
      "Test dataset:\n",
      "Basic assessment of the whole dataset (without any partitions):\n",
      "Accuracy: 95.98%\n",
      "Recall: 94.76%\n",
      "Precision: 93.13%\n",
      "F1-score: 93.94%\n",
      "\n",
      "Devide dataset into 10 non-overlapping patritions and get their mean F1-score\n",
      "Non-overlap mean F1-score:  0.9388691658261668\n",
      "\n",
      "Get 100 bootstrap samples from dataset with 100 samples each and get their mean F1-score\n",
      "Bootstrap mean F1-score:  0.9352480878717273\n"
     ]
    }
   ],
   "source": [
    "print(\"Validation dataset:\")\n",
    "(\n",
    "    y_pred_val, \n",
    "    non_overlap_patritions_f1_scores_val, \n",
    "    bootstrap_patritions_f1_scores_val,\n",
    "    ) = predict_and_print_full_results(quantized_tflite_model, x_val_np, y_val_np, model_format=\"tf_lite\")\n",
    "\n",
    "print(\"\\nTest dataset:\")\n",
    "(\n",
    "    y_pred_test, \n",
    "    non_overlap_patritions_f1_scores_test, \n",
    "    bootstrap_patritions_f1_scores_test,\n",
    "    ) = predict_and_print_full_results(quantized_tflite_model, x_test_np, y_test_np, model_format=\"tf_lite\")"
   ]
  },
  {
   "cell_type": "code",
   "execution_count": 21,
   "metadata": {},
   "outputs": [
    {
     "name": "stdout",
     "output_type": "stream",
     "text": [
      "For Test dataset:\n",
      "Accuracy: 95.98%\n",
      "Recall: 94.76%\n",
      "Precision: 93.13%\n",
      "F1-score: 93.94%\n",
      "\n",
      "Time to make a prediction for a single data point\n",
      "Mean: 0.001 seconds\n",
      "Max: 0.005 seconds\n",
      "Min: 0.001 seconds\n"
     ]
    }
   ],
   "source": [
    "print(\"For Test dataset:\")\n",
    "evaluate_time_of_prediction(quantized_tflite_model, x_test_np, y_test_np, model_format=\"tf_lite\")"
   ]
  },
  {
   "cell_type": "code",
   "execution_count": 23,
   "metadata": {},
   "outputs": [
    {
     "name": "stdout",
     "output_type": "stream",
     "text": [
      "Model file name:  ../spectrogram_models_from_notebooks/cnn/quantized/cnn_mel_speq_qat.tflite\n",
      "File size: 30.359 Kilobytes\n"
     ]
    }
   ],
   "source": [
    "# Save model and print its size\n",
    "QAT_MODEL_FILE_NAME = \"../spectrogram_models_from_notebooks/cnn/quantized/cnn_mel_speq_qat.tflite\"\n",
    "open(QAT_MODEL_FILE_NAME, \"wb\").write(quantized_tflite_model)\n",
    "print(\"Model file name: \", QAT_MODEL_FILE_NAME)\n",
    "convert_bytes(get_file_size(QAT_MODEL_FILE_NAME), \"KB\")"
   ]
  },
  {
   "cell_type": "code",
   "execution_count": null,
   "metadata": {},
   "outputs": [],
   "source": []
  }
 ],
 "metadata": {
  "kernelspec": {
   "display_name": "ag14",
   "language": "python",
   "name": "python3"
  },
  "language_info": {
   "codemirror_mode": {
    "name": "ipython",
    "version": 3
   },
   "file_extension": ".py",
   "mimetype": "text/x-python",
   "name": "python",
   "nbconvert_exporter": "python",
   "pygments_lexer": "ipython3",
   "version": "3.9.19"
  }
 },
 "nbformat": 4,
 "nbformat_minor": 2
}
