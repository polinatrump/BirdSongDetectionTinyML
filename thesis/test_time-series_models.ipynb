{
 "cells": [
  {
   "cell_type": "code",
   "execution_count": 1,
   "metadata": {},
   "outputs": [],
   "source": [
    "%load_ext autoreload\n",
    "%autoreload 2"
   ]
  },
  {
   "cell_type": "code",
   "execution_count": 2,
   "metadata": {},
   "outputs": [
    {
     "name": "stderr",
     "output_type": "stream",
     "text": [
      "2024-07-28 22:10:55.849041: I external/local_tsl/tsl/cuda/cudart_stub.cc:31] Could not find cuda drivers on your machine, GPU will not be used.\n",
      "2024-07-28 22:10:56.022711: E external/local_xla/xla/stream_executor/cuda/cuda_dnn.cc:9261] Unable to register cuDNN factory: Attempting to register factory for plugin cuDNN when one has already been registered\n",
      "2024-07-28 22:10:56.022777: E external/local_xla/xla/stream_executor/cuda/cuda_fft.cc:607] Unable to register cuFFT factory: Attempting to register factory for plugin cuFFT when one has already been registered\n",
      "2024-07-28 22:10:56.054550: E external/local_xla/xla/stream_executor/cuda/cuda_blas.cc:1515] Unable to register cuBLAS factory: Attempting to register factory for plugin cuBLAS when one has already been registered\n",
      "2024-07-28 22:10:56.090203: I external/local_tsl/tsl/cuda/cudart_stub.cc:31] Could not find cuda drivers on your machine, GPU will not be used.\n",
      "2024-07-28 22:10:56.091216: I tensorflow/core/platform/cpu_feature_guard.cc:182] This TensorFlow binary is optimized to use available CPU instructions in performance-critical operations.\n",
      "To enable the following instructions: AVX2 FMA, in other operations, rebuild TensorFlow with the appropriate compiler flags.\n",
      "2024-07-28 22:10:57.277061: W tensorflow/compiler/tf2tensorrt/utils/py_utils.cc:38] TF-TRT Warning: Could not find TensorRT\n"
     ]
    }
   ],
   "source": [
    "import tensorflow as tf\n",
    "import os\n",
    "import numpy as np\n",
    "import tensorflow_io as tfio\n",
    "\n",
    "from helper_functions import (\n",
    "    convert_prefetchdataset_to_numpy_arrays,\n",
    "    lite_model_from_file_predicts_dataset,\n",
    "    get_file_size, \n",
    "    convert_bytes,\n",
    "    evaluate_prediction,\n",
    "    full_int_model_predict\n",
    ")\n",
    "\n",
    "\n",
    "from sklearn.metrics import confusion_matrix"
   ]
  },
  {
   "cell_type": "code",
   "execution_count": 3,
   "metadata": {},
   "outputs": [],
   "source": [
    "desired_length_of_audio = 48000\n",
    "sample_rate = 16000"
   ]
  },
  {
   "cell_type": "code",
   "execution_count": 6,
   "metadata": {},
   "outputs": [
    {
     "name": "stderr",
     "output_type": "stream",
     "text": [
      "2024-07-28 22:11:10.556267: I external/local_xla/xla/stream_executor/cuda/cuda_executor.cc:887] could not open file to read NUMA node: /sys/bus/pci/devices/0000:01:00.0/numa_node\n",
      "Your kernel may have been built without NUMA support.\n",
      "2024-07-28 22:11:10.556783: W tensorflow/core/common_runtime/gpu/gpu_device.cc:2256] Cannot dlopen some GPU libraries. Please make sure the missing libraries mentioned above are installed properly if you would like to use GPU. Follow the guide at https://www.tensorflow.org/install/gpu for how to download and setup the required libraries for your platform.\n",
      "Skipping registering GPU devices...\n",
      "2024-07-28 22:11:10.775379: I tensorflow_io/core/kernels/cpu_check.cc:128] Your CPU supports instructions that this TensorFlow IO binary was not compiled to use: SSE3 SSE4.1 SSE4.2 AVX AVX2 FMA\n",
      "2024-07-28 22:11:10.837470: W tensorflow_io/core/kernels/audio_video_mp3_kernels.cc:271] libmp3lame.so.0 or lame functions are not available\n"
     ]
    },
    {
     "name": "stdout",
     "output_type": "stream",
     "text": [
      "WARNING:tensorflow:5 out of the last 5 calls to <function pfor.<locals>.f at 0x7f0b7e95f550> triggered tf.function retracing. Tracing is expensive and the excessive number of tracings could be due to (1) creating @tf.function repeatedly in a loop, (2) passing tensors with different shapes, (3) passing Python objects instead of tensors. For (1), please define your @tf.function outside of the loop. For (2), @tf.function has reduce_retracing=True option that can avoid unnecessary retracing. For (3), please refer to https://www.tensorflow.org/guide/function#controlling_retracing and https://www.tensorflow.org/api_docs/python/tf/function for  more details.\n",
      "WARNING:tensorflow:6 out of the last 6 calls to <function pfor.<locals>.f at 0x7f0b7e95f160> triggered tf.function retracing. Tracing is expensive and the excessive number of tracings could be due to (1) creating @tf.function repeatedly in a loop, (2) passing tensors with different shapes, (3) passing Python objects instead of tensors. For (1), please define your @tf.function outside of the loop. For (2), @tf.function has reduce_retracing=True option that can avoid unnecessary retracing. For (3), please refer to https://www.tensorflow.org/guide/function#controlling_retracing and https://www.tensorflow.org/api_docs/python/tf/function for  more details.\n"
     ]
    }
   ],
   "source": [
    "# Take all audio from testing dataset and create spectrograms from them\n",
    "# We will use spectrograms for models testing\n",
    "directory = '../dataset/testing'\n",
    "\n",
    "x_data = []\n",
    "y_data = []\n",
    "for root, dirs, files in os.walk(directory):\n",
    "    for file in files:\n",
    "        full_file_name = os.path.join(root, file)\n",
    "\n",
    "        if \"non_target\" in str(full_file_name):\n",
    "            class_encoded = 0\n",
    "        elif \"target\" in str(full_file_name):\n",
    "            class_encoded = 1\n",
    "\n",
    "        audio, sr = tf.audio.decode_wav(tf.io.read_file(full_file_name))\n",
    "        audio = tf.squeeze(audio, axis=-1)\n",
    "        resampled_audio = tfio.audio.resample(audio, rate_in=48000, rate_out=sample_rate)\n",
    "        audio_length = tf.shape(resampled_audio)[0]\n",
    "        if audio_length < desired_length_of_audio:\n",
    "            resampled_audio = tf.pad(resampled_audio, [[0, desired_length_of_audio - audio_length]], mode='CONSTANT')\n",
    "        else:\n",
    "            resampled_audio = resampled_audio[:desired_length_of_audio]\n",
    "        resampled_audio = tf.expand_dims(resampled_audio, axis=-1).numpy()\n",
    "\n",
    "        x_data.append(resampled_audio)\n",
    "        y_data.append(class_encoded)\n",
    "\n",
    "# input data should be in numpy array, not in list\n",
    "x_data_np = np.array(x_data)\n",
    "y_data_np = np.array(y_data)"
   ]
  },
  {
   "cell_type": "code",
   "execution_count": 7,
   "metadata": {},
   "outputs": [
    {
     "name": "stdout",
     "output_type": "stream",
     "text": [
      "(48000, 1)\n"
     ]
    }
   ],
   "source": [
    "for i in x_data_np:\n",
    "    print(i.shape)\n",
    "    break"
   ]
  },
  {
   "cell_type": "markdown",
   "metadata": {},
   "source": [
    "### CNN"
   ]
  },
  {
   "cell_type": "markdown",
   "metadata": {},
   "source": [
    "##### CNN initial model in keras format"
   ]
  },
  {
   "cell_type": "code",
   "execution_count": 10,
   "metadata": {},
   "outputs": [
    {
     "name": "stdout",
     "output_type": "stream",
     "text": [
      "File size: 152.181 Kilobytes\n"
     ]
    }
   ],
   "source": [
    "cnn_initial_model_path = '../time_series_models_from_notebooks/cnn/hpo/cnn_time_ser_3_conv_layer_model.keras'\n",
    "convert_bytes(get_file_size(cnn_initial_model_path), \"KB\")"
   ]
  },
  {
   "cell_type": "code",
   "execution_count": 11,
   "metadata": {},
   "outputs": [
    {
     "name": "stdout",
     "output_type": "stream",
     "text": [
      "Accuracy: 98.56%\n",
      "Recall: 96.51%\n",
      "Precision: 99.10%\n",
      "F1-score: 97.79%\n"
     ]
    }
   ],
   "source": [
    "cnn_initial_model = tf.keras.models.load_model(cnn_initial_model_path)\n",
    "# input data should be in numpy array\n",
    "y_pred_prob = cnn_initial_model.predict(x_data_np, verbose=0)\n",
    "y_pred = tf.argmax(y_pred_prob, axis=1).numpy()\n",
    "\n",
    "# Evaluate\n",
    "evaluate_prediction(y_data_np, y_pred)"
   ]
  },
  {
   "cell_type": "markdown",
   "metadata": {},
   "source": [
    "##### CNN tf Lite model (without any additional quantization techniques)"
   ]
  },
  {
   "cell_type": "code",
   "execution_count": 13,
   "metadata": {},
   "outputs": [
    {
     "name": "stdout",
     "output_type": "stream",
     "text": [
      "File size: 44.035 Kilobytes\n"
     ]
    },
    {
     "name": "stderr",
     "output_type": "stream",
     "text": [
      "INFO: Created TensorFlow Lite XNNPACK delegate for CPU.\n"
     ]
    },
    {
     "name": "stdout",
     "output_type": "stream",
     "text": [
      "Accuracy: 98.56%\n",
      "Recall: 96.51%\n",
      "Precision: 99.10%\n",
      "F1-score: 97.79%\n"
     ]
    }
   ],
   "source": [
    "cnn_tflite_model_path = '../time_series_models_from_notebooks/cnn/quantized/cnn_time_series.tflite'\n",
    "convert_bytes(get_file_size(cnn_tflite_model_path), \"KB\")\n",
    "\n",
    "y_pred = lite_model_from_file_predicts_dataset(cnn_tflite_model_path, x_data_np, y_data_np)"
   ]
  },
  {
   "cell_type": "markdown",
   "metadata": {},
   "source": [
    "##### CNN tf Lite model + Post Training Dynamic range quantization"
   ]
  },
  {
   "cell_type": "code",
   "execution_count": 14,
   "metadata": {},
   "outputs": [
    {
     "name": "stdout",
     "output_type": "stream",
     "text": [
      "File size: 17.953 Kilobytes\n",
      "Accuracy: 98.56%\n",
      "Recall: 96.51%\n",
      "Precision: 99.10%\n",
      "F1-score: 97.79%\n"
     ]
    }
   ],
   "source": [
    "cnn_drq_model_path = '../time_series_models_from_notebooks/cnn/quantized/cnn_time_series_drq.tflite'\n",
    "convert_bytes(get_file_size(cnn_drq_model_path), \"KB\")\n",
    "\n",
    "y_pred = lite_model_from_file_predicts_dataset(cnn_drq_model_path, x_data_np, y_data_np)"
   ]
  },
  {
   "cell_type": "markdown",
   "metadata": {},
   "source": [
    "##### CNN tf Lite model + Float 16 quantization"
   ]
  },
  {
   "cell_type": "code",
   "execution_count": 17,
   "metadata": {},
   "outputs": [
    {
     "name": "stdout",
     "output_type": "stream",
     "text": [
      "File size: 27.406 Kilobytes\n",
      "Accuracy: 98.56%\n",
      "Recall: 96.51%\n",
      "Precision: 99.10%\n",
      "F1-score: 97.79%\n"
     ]
    }
   ],
   "source": [
    "cnn_float16q_model_path = '../time_series_models_from_notebooks/cnn/quantized/cnn_time_series_float16q.tflite'\n",
    "convert_bytes(get_file_size(cnn_float16q_model_path), \"KB\")\n",
    "\n",
    "y_pred = lite_model_from_file_predicts_dataset(cnn_float16q_model_path, x_data_np, y_data_np)"
   ]
  },
  {
   "cell_type": "markdown",
   "metadata": {},
   "source": [
    "##### CNN Float Fallback"
   ]
  },
  {
   "cell_type": "code",
   "execution_count": 18,
   "metadata": {},
   "outputs": [
    {
     "name": "stdout",
     "output_type": "stream",
     "text": [
      "File size: 18.883 Kilobytes\n",
      "Accuracy: 98.42%\n",
      "Recall: 96.29%\n",
      "Precision: 98.88%\n",
      "F1-score: 97.57%\n"
     ]
    }
   ],
   "source": [
    "cnn_float_fallback_model_path = '../time_series_models_from_notebooks/cnn/quantized/cnn_time_series_float_fallback_q.tflite'\n",
    "convert_bytes(get_file_size(cnn_float_fallback_model_path), \"KB\")\n",
    "\n",
    "y_pred = lite_model_from_file_predicts_dataset(cnn_float_fallback_model_path, x_data_np, y_data_np)"
   ]
  },
  {
   "cell_type": "markdown",
   "metadata": {},
   "source": [
    "##### CNN tf Lite model + Full integer quantization"
   ]
  },
  {
   "cell_type": "code",
   "execution_count": 19,
   "metadata": {},
   "outputs": [
    {
     "name": "stdout",
     "output_type": "stream",
     "text": [
      "File size: 18.906 Kilobytes\n",
      "Accuracy: 87.51%\n",
      "Recall: 62.23%\n",
      "Precision: 99.65%\n",
      "F1-score: 76.61%\n"
     ]
    }
   ],
   "source": [
    "cnn_full_int_q_model_path = '../time_series_models_from_notebooks/cnn/quantized/cnn_time_series_full_int_q.tflite'\n",
    "convert_bytes(get_file_size(cnn_full_int_q_model_path), \"KB\")\n",
    "\n",
    "y_pred = full_int_model_predict(cnn_full_int_q_model_path, x_data_np)\n",
    "evaluate_prediction(y_data_np, y_pred)"
   ]
  },
  {
   "cell_type": "markdown",
   "metadata": {},
   "source": [
    "### SqueezeNet"
   ]
  },
  {
   "cell_type": "markdown",
   "metadata": {},
   "source": [
    "##### SqueezeNet initial model in keras format"
   ]
  },
  {
   "cell_type": "code",
   "execution_count": 25,
   "metadata": {},
   "outputs": [
    {
     "name": "stdout",
     "output_type": "stream",
     "text": [
      "File size: 531.003 Kilobytes\n"
     ]
    }
   ],
   "source": [
    "squeezenet_initial_model_path = '../time_series_models_from_notebooks/squeezenet/squeezenet30%_time_series_16kHz_baseline.keras'\n",
    "convert_bytes(get_file_size(squeezenet_initial_model_path), \"KB\")"
   ]
  },
  {
   "cell_type": "code",
   "execution_count": 26,
   "metadata": {},
   "outputs": [
    {
     "name": "stdout",
     "output_type": "stream",
     "text": [
      "Accuracy: 96.63%\n",
      "Recall: 94.10%\n",
      "Precision: 95.57%\n",
      "F1-score: 94.83%\n"
     ]
    }
   ],
   "source": [
    "squeezenet_initial_model = tf.keras.models.load_model(squeezenet_initial_model_path)\n",
    "# input data should be in numpy array\n",
    "y_pred_prob = squeezenet_initial_model.predict(x_data_np, verbose=0)\n",
    "y_pred = tf.argmax(y_pred_prob, axis=1).numpy()\n",
    "\n",
    "# Evaluate\n",
    "evaluate_prediction(y_data_np, y_pred)"
   ]
  },
  {
   "cell_type": "markdown",
   "metadata": {},
   "source": [
    "##### SqueezeNet tf Lite model (without any additional quantization techniques)"
   ]
  },
  {
   "cell_type": "code",
   "execution_count": 27,
   "metadata": {},
   "outputs": [
    {
     "name": "stdout",
     "output_type": "stream",
     "text": [
      "File size: 0.147 Megabytes\n",
      "Accuracy: 96.63%\n",
      "Recall: 94.10%\n",
      "Precision: 95.57%\n",
      "F1-score: 94.83%\n"
     ]
    }
   ],
   "source": [
    "squeezenet_tflite_model_path = '../time_series_models_from_notebooks/squeezenet/squeezenet30%_time_series_16kHz.tflite'\n",
    "convert_bytes(get_file_size(squeezenet_tflite_model_path), \"MB\")\n",
    "y_pred = lite_model_from_file_predicts_dataset(squeezenet_tflite_model_path, x_data_np, y_data_np)"
   ]
  },
  {
   "cell_type": "markdown",
   "metadata": {},
   "source": [
    "##### SqueezeNet tf Lite model + Post Training Dynamic range quantization"
   ]
  },
  {
   "cell_type": "code",
   "execution_count": 28,
   "metadata": {},
   "outputs": [
    {
     "name": "stdout",
     "output_type": "stream",
     "text": [
      "File size: 89.656 Kilobytes\n",
      "Accuracy: 96.63%\n",
      "Recall: 94.10%\n",
      "Precision: 95.57%\n",
      "F1-score: 94.83%\n"
     ]
    }
   ],
   "source": [
    "squeezenet_tflite_drq_model_path = '../time_series_models_from_notebooks/squeezenet/squeezenet30%_time_series_16kHz_drq.tflite'\n",
    "convert_bytes(get_file_size(squeezenet_tflite_drq_model_path), \"KB\")\n",
    "y_pred = lite_model_from_file_predicts_dataset(squeezenet_tflite_drq_model_path, x_data_np, y_data_np)"
   ]
  },
  {
   "cell_type": "markdown",
   "metadata": {},
   "source": [
    "##### SqueezeNet tf Lite model + Float 16 quantization"
   ]
  },
  {
   "cell_type": "code",
   "execution_count": 29,
   "metadata": {},
   "outputs": [
    {
     "name": "stdout",
     "output_type": "stream",
     "text": [
      "File size: 97.117 Kilobytes\n",
      "Accuracy: 96.63%\n",
      "Recall: 94.10%\n",
      "Precision: 95.57%\n",
      "F1-score: 94.83%\n"
     ]
    }
   ],
   "source": [
    "squeezenet_float16q_model_path = '../time_series_models_from_notebooks/squeezenet/squeezenet30%_time_series_16kHz_float16q.tflite'\n",
    "convert_bytes(get_file_size(squeezenet_float16q_model_path), \"KB\")\n",
    "\n",
    "y_pred = lite_model_from_file_predicts_dataset(squeezenet_float16q_model_path, x_data_np, y_data_np)"
   ]
  },
  {
   "cell_type": "markdown",
   "metadata": {},
   "source": [
    "##### SqueezeNet tf Lite model + Full integer quantization"
   ]
  },
  {
   "cell_type": "code",
   "execution_count": 30,
   "metadata": {},
   "outputs": [
    {
     "name": "stdout",
     "output_type": "stream",
     "text": [
      "File size: 87.039 Kilobytes\n",
      "Accuracy: 70.78%\n",
      "Recall: 68.12%\n",
      "Precision: 54.45%\n",
      "F1-score: 60.52%\n"
     ]
    }
   ],
   "source": [
    "squeezenet_full_int_q_model_path = '../time_series_models_from_notebooks/squeezenet/squeezenet30%_time_series_16kHz_full_int_q.tflite'\n",
    "convert_bytes(get_file_size(squeezenet_full_int_q_model_path), \"KB\")\n",
    "\n",
    "y_pred = full_int_model_predict(squeezenet_full_int_q_model_path, x_data_np)\n",
    "evaluate_prediction(y_data_np, y_pred)"
   ]
  },
  {
   "cell_type": "markdown",
   "metadata": {},
   "source": [
    "### BNN"
   ]
  },
  {
   "cell_type": "markdown",
   "metadata": {},
   "source": [
    "##### BNN initial model in keras format"
   ]
  },
  {
   "cell_type": "code",
   "execution_count": 34,
   "metadata": {},
   "outputs": [
    {
     "name": "stdout",
     "output_type": "stream",
     "text": [
      "File size: 179.52 Kilobytes\n"
     ]
    }
   ],
   "source": [
    "bnn_initial_model_path = '../time_series_models_from_notebooks/bnn/hpo/bnn_time_ser_3_conv_layer_model_binary_weights.keras'\n",
    "convert_bytes(get_file_size(bnn_initial_model_path), \"KB\")"
   ]
  },
  {
   "cell_type": "code",
   "execution_count": 35,
   "metadata": {},
   "outputs": [],
   "source": [
    "from larq.layers import QuantConv1D"
   ]
  },
  {
   "cell_type": "code",
   "execution_count": 36,
   "metadata": {},
   "outputs": [
    {
     "name": "stdout",
     "output_type": "stream",
     "text": [
      "Accuracy: 84.28%\n",
      "Recall: 84.28%\n",
      "Precision: 72.42%\n",
      "F1-score: 77.90%\n"
     ]
    }
   ],
   "source": [
    "bnn_initial_model = tf.keras.models.load_model(bnn_initial_model_path)\n",
    "# input data should be in numpy array\n",
    "y_pred_prob = bnn_initial_model.predict(x_data_np, verbose=0)\n",
    "y_pred = tf.argmax(y_pred_prob, axis=1).numpy()\n",
    "\n",
    "# Evaluate\n",
    "evaluate_prediction(y_data_np, y_pred)"
   ]
  },
  {
   "cell_type": "markdown",
   "metadata": {},
   "source": [
    "##### BNN larq tflite"
   ]
  },
  {
   "cell_type": "markdown",
   "metadata": {},
   "source": [
    "I dont know how to read this model!!!\n",
    "\n",
    "This model gave F1-score of 92.04%"
   ]
  },
  {
   "cell_type": "code",
   "execution_count": 38,
   "metadata": {},
   "outputs": [
    {
     "name": "stdout",
     "output_type": "stream",
     "text": [
      "File size: 41.156 Kilobytes\n"
     ]
    }
   ],
   "source": [
    "bnn_larq_tflite_model_path = '../time_series_models_from_notebooks/bnn/hpo/bnn_time_ser_lq.tflite'\n",
    "convert_bytes(get_file_size(bnn_larq_tflite_model_path), \"KB\")\n",
    "\n",
    "# y_pred = full_int_model_predict(bnn_larq_tflite_model_path, x_data_np)\n",
    "# evaluate_prediction(y_data_np, y_pred)"
   ]
  },
  {
   "cell_type": "markdown",
   "metadata": {},
   "source": [
    "##### BNN tf tflite"
   ]
  },
  {
   "cell_type": "code",
   "execution_count": 39,
   "metadata": {},
   "outputs": [
    {
     "name": "stdout",
     "output_type": "stream",
     "text": [
      "File size: 44.512 Kilobytes\n",
      "Accuracy: 84.28%\n",
      "Recall: 84.28%\n",
      "Precision: 72.42%\n",
      "F1-score: 77.90%\n"
     ]
    }
   ],
   "source": [
    "bnn_tf_tflite_model_path = '../time_series_models_from_notebooks/bnn/hpo/bnn_time_ser_tf_lite.tflite'\n",
    "convert_bytes(get_file_size(bnn_tf_tflite_model_path), \"KB\")\n",
    "\n",
    "y_pred = full_int_model_predict(bnn_tf_tflite_model_path, x_data_np)\n",
    "evaluate_prediction(y_data_np, y_pred)"
   ]
  },
  {
   "cell_type": "markdown",
   "metadata": {},
   "source": [
    "##### BNN full int quant"
   ]
  },
  {
   "cell_type": "code",
   "execution_count": 40,
   "metadata": {},
   "outputs": [
    {
     "name": "stdout",
     "output_type": "stream",
     "text": [
      "File size: 25.172 Kilobytes\n",
      "Accuracy: 64.54%\n",
      "Recall: 98.47%\n",
      "Precision: 48.08%\n",
      "F1-score: 64.61%\n"
     ]
    }
   ],
   "source": [
    "bnn_full_int_model_path = '../time_series_models_from_notebooks/bnn/hpo/bnn_time_ser_full_int_q.tflite'\n",
    "convert_bytes(get_file_size(bnn_full_int_model_path), \"KB\")\n",
    "\n",
    "y_pred = full_int_model_predict(bnn_full_int_model_path, x_data_np)\n",
    "evaluate_prediction(y_data_np, y_pred)"
   ]
  },
  {
   "cell_type": "markdown",
   "metadata": {},
   "source": [
    "### Time Transformer"
   ]
  },
  {
   "cell_type": "code",
   "execution_count": 47,
   "metadata": {},
   "outputs": [
    {
     "name": "stdout",
     "output_type": "stream",
     "text": [
      "File size: 162.422 Kilobytes\n"
     ]
    }
   ],
   "source": [
    "transformer_initial_model_path = '../time_series_models_from_notebooks/tiny_transformer/hpo/tiny_transformer_time_ser_final.keras'\n",
    "convert_bytes(get_file_size(transformer_initial_model_path), \"KB\")"
   ]
  },
  {
   "cell_type": "code",
   "execution_count": 45,
   "metadata": {},
   "outputs": [
    {
     "name": "stdout",
     "output_type": "stream",
     "text": [
      "Accuracy: 96.27%\n",
      "Recall: 94.98%\n",
      "Precision: 93.75%\n",
      "F1-score: 94.36%\n"
     ]
    }
   ],
   "source": [
    "transformer_initial_model = tf.keras.models.load_model(transformer_initial_model_path)\n",
    "# input data should be in numpy array\n",
    "y_pred_prob = transformer_initial_model.predict(x_data_np, verbose=0)\n",
    "y_pred = tf.argmax(y_pred_prob, axis=1).numpy()\n",
    "\n",
    "# Evaluate\n",
    "evaluate_prediction(y_data_np, y_pred)"
   ]
  },
  {
   "cell_type": "markdown",
   "metadata": {},
   "source": [
    "##### Transformer tflite"
   ]
  },
  {
   "cell_type": "code",
   "execution_count": 48,
   "metadata": {},
   "outputs": [
    {
     "name": "stdout",
     "output_type": "stream",
     "text": [
      "File size: 43.238 Kilobytes\n",
      "Accuracy: 96.27%\n",
      "Recall: 94.98%\n",
      "Precision: 93.75%\n",
      "F1-score: 94.36%\n"
     ]
    }
   ],
   "source": [
    "transformer_tflite_model_path = '../time_series_models_from_notebooks/tiny_transformer/quantized/tiny_transformer_time_series.tflite'\n",
    "convert_bytes(get_file_size(transformer_tflite_model_path), \"KB\")\n",
    "\n",
    "y_pred = full_int_model_predict(transformer_tflite_model_path, x_data_np)\n",
    "evaluate_prediction(y_data_np, y_pred)"
   ]
  },
  {
   "cell_type": "markdown",
   "metadata": {},
   "source": [
    "##### Transformer Dynamic range quantization"
   ]
  },
  {
   "cell_type": "code",
   "execution_count": 49,
   "metadata": {},
   "outputs": [
    {
     "name": "stdout",
     "output_type": "stream",
     "text": [
      "File size: 26.188 Kilobytes\n",
      "Accuracy: 96.27%\n",
      "Recall: 94.98%\n",
      "Precision: 93.75%\n",
      "F1-score: 94.36%\n"
     ]
    }
   ],
   "source": [
    "transformer_drq_model_path = '../time_series_models_from_notebooks/tiny_transformer/quantized/tiny_transformer_time_series_drq.tflite'\n",
    "convert_bytes(get_file_size(transformer_drq_model_path), \"KB\")\n",
    "\n",
    "y_pred = full_int_model_predict(transformer_drq_model_path, x_data_np)\n",
    "evaluate_prediction(y_data_np, y_pred)"
   ]
  },
  {
   "cell_type": "markdown",
   "metadata": {},
   "source": [
    "##### Transformer Float16"
   ]
  },
  {
   "cell_type": "code",
   "execution_count": 50,
   "metadata": {},
   "outputs": [
    {
     "name": "stdout",
     "output_type": "stream",
     "text": [
      "File size: 33.258 Kilobytes\n",
      "Accuracy: 96.27%\n",
      "Recall: 94.98%\n",
      "Precision: 93.75%\n",
      "F1-score: 94.36%\n"
     ]
    }
   ],
   "source": [
    "transformer_float16_model_path = '../time_series_models_from_notebooks/tiny_transformer/quantized/tiny_transformer_time_series_float16q.tflite'\n",
    "convert_bytes(get_file_size(transformer_float16_model_path), \"KB\")\n",
    "\n",
    "y_pred = full_int_model_predict(transformer_float16_model_path, x_data_np)\n",
    "evaluate_prediction(y_data_np, y_pred)"
   ]
  },
  {
   "cell_type": "markdown",
   "metadata": {},
   "source": [
    "##### Transformer Float Fallback"
   ]
  },
  {
   "cell_type": "code",
   "execution_count": 51,
   "metadata": {},
   "outputs": [
    {
     "name": "stdout",
     "output_type": "stream",
     "text": [
      "File size: 29.336 Kilobytes\n",
      "Accuracy: 82.91%\n",
      "Recall: 48.91%\n",
      "Precision: 98.25%\n",
      "F1-score: 65.31%\n"
     ]
    }
   ],
   "source": [
    "transformer_float_fallback_model_path = '../time_series_models_from_notebooks/tiny_transformer/quantized/tiny_transformer_time_series_float_fallback_q.tflite'\n",
    "convert_bytes(get_file_size(transformer_float_fallback_model_path), \"KB\")\n",
    "\n",
    "y_pred = full_int_model_predict(transformer_float_fallback_model_path, x_data_np)\n",
    "evaluate_prediction(y_data_np, y_pred)"
   ]
  },
  {
   "cell_type": "markdown",
   "metadata": {},
   "source": [
    "##### Transformer Full int quant"
   ]
  },
  {
   "cell_type": "code",
   "execution_count": 53,
   "metadata": {},
   "outputs": [
    {
     "name": "stdout",
     "output_type": "stream",
     "text": [
      "File size: 29.352 Kilobytes\n",
      "Accuracy: 71.86%\n",
      "Recall: 14.63%\n",
      "Precision: 98.53%\n",
      "F1-score: 25.48%\n"
     ]
    }
   ],
   "source": [
    "transformer_full_int_model_path = '../time_series_models_from_notebooks/tiny_transformer/quantized/tiny_transformer_time_series_full_int_q.tflite'\n",
    "convert_bytes(get_file_size(transformer_full_int_model_path), \"KB\")\n",
    "\n",
    "y_pred = full_int_model_predict(transformer_full_int_model_path, x_data_np)\n",
    "evaluate_prediction(y_data_np, y_pred)"
   ]
  },
  {
   "cell_type": "code",
   "execution_count": null,
   "metadata": {},
   "outputs": [],
   "source": []
  }
 ],
 "metadata": {
  "kernelspec": {
   "display_name": "ag14",
   "language": "python",
   "name": "python3"
  },
  "language_info": {
   "codemirror_mode": {
    "name": "ipython",
    "version": 3
   },
   "file_extension": ".py",
   "mimetype": "text/x-python",
   "name": "python",
   "nbconvert_exporter": "python",
   "pygments_lexer": "ipython3",
   "version": "3.9.19"
  }
 },
 "nbformat": 4,
 "nbformat_minor": 2
}
